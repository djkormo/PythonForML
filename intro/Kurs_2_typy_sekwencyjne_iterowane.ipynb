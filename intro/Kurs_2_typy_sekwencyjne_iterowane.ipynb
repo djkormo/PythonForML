{
 "cells": [
  {
   "cell_type": "markdown",
   "metadata": {},
   "source": [
    "### Indeksowanie"
   ]
  },
  {
   "cell_type": "code",
   "execution_count": 1,
   "metadata": {},
   "outputs": [
    {
     "name": "stdout",
     "output_type": "stream",
     "text": [
      "Witamy na kursie Pythona.\n",
      "Pierwszy element:  W\n",
      "Drugi element:  i\n",
      "Trzeci element:  t\n",
      "Ostatni element:  .\n",
      "Ostatni element:  .\n",
      "Przedostatni element:  a\n",
      "Pierwszy element:  W\n"
     ]
    }
   ],
   "source": [
    "# deklarujemy zmienna typu napis\n",
    "s1=\"Witamy na kursie Pythona.\"\n",
    "print(s1)\n",
    "\n",
    "#pierwszy elemetn napisu oznaczamy cyfra 0 []\n",
    "print('Pierwszy element: ',s1[0])\n",
    "\n",
    "# drugi element [1]\n",
    "print('Drugi element: ',s1[1])\n",
    "\n",
    "# trzeci element [2]\n",
    "print('Trzeci element: ',s1[2])\n",
    "\n",
    "# ostatni element napisu [dlugosc -1]\n",
    "\n",
    "print('Ostatni element: ',s1[len(s1)-1])\n",
    "\n",
    "# mozna tez wykorzystac indeksy ujemne\n",
    "\n",
    "# ostatni element [-1]\n",
    "print('Ostatni element: ',s1[-1])\n",
    "\n",
    "# przedostatni element [-2]\n",
    "print('Przedostatni element: ',s1[-2])\n",
    "\n",
    "# pierwszy element [-dlugosc]\n",
    "\n",
    "print('Pierwszy element: ',s1[-len(s1)])\n"
   ]
  },
  {
   "cell_type": "markdown",
   "metadata": {},
   "source": [
    "### Tworzenie podciagów"
   ]
  },
  {
   "cell_type": "code",
   "execution_count": 2,
   "metadata": {},
   "outputs": [
    {
     "name": "stdout",
     "output_type": "stream",
     "text": [
      "Orynalny napis  Witamy na kursie Pythona. o dlugosci  25\n",
      "Drugi element o indeksie [1]: i\n",
      "Wszystkie elementy napisu:  Witamy na kursie Pythona.\n",
      "Co drugi element napisu:  Wtm akri yhn.\n",
      "Napis w odwrotnej kolejnosci:  .anohtyP eisruk an ymatiW\n",
      "Co drugi element napisu w odwrotnej kolejnosci:  .nhy irka mtW\n"
     ]
    }
   ],
   "source": [
    "# tworzenie podciagow (slice)\n",
    "\n",
    "s1=\"Witamy na kursie Pythona.\"\n",
    "print('Orynalny napis ',s1, 'o dlugosci ',len(s1))\n",
    "\n",
    "# tworzymy podciag zaczynajacy sie od indeksu [1]  do ponizej indeksu [2]\n",
    "\n",
    "print ('Drugi element o indeksie [1]:',s1[1:2]) # wyswietlamy tylko element drugi - indeks [1]\n",
    "\n",
    "# ogolna postac [a:b:c] \n",
    "# a oznacza indeks elementu startowego, \n",
    "# b oznacza gorny indeks elementu, ktory nas nie interesuje\n",
    "# c oznaccza roznice miedzy kolejnymi indeksami\n",
    "\n",
    "# domyslnie a =0, b =len(napis), c  = 1\n",
    "\n",
    "# wyswietlenie wzystkich elementow napisu\n",
    "\n",
    "print('Wszystkie elementy napisu: ',s1[::])\n",
    "\n",
    "\n",
    "# wyswietlanie co drugiego elementu napisu\n",
    "\n",
    "print('Co drugi element napisu: ',s1[::2])\n",
    "\n",
    "# krok zmiany moze byc tez ujemny\n",
    "\n",
    "print('Napis w odwrotnej kolejnosci: ',s1[::-1])\n",
    "\n",
    "# co drugi element w odwrotnej kolejnosci\n",
    "\n",
    "print('Co drugi element napisu w odwrotnej kolejnosci: ',s1[::-2])\n",
    "\n"
   ]
  },
  {
   "cell_type": "markdown",
   "metadata": {},
   "source": [
    "### Listy [lists]\n",
    "\n",
    "#### LIsty sa obiektami sekwencyjnymi zmienialnymi (mutable)"
   ]
  },
  {
   "cell_type": "code",
   "execution_count": 3,
   "metadata": {},
   "outputs": [
    {
     "name": "stdout",
     "output_type": "stream",
     "text": [
      "Lista lista1 :  [1, 2, 'Ala', 4] <class 'list'>\n",
      "Lista lista2 :  [] <class 'list'> False\n",
      "[1, 2, 'Ala', 4] 2\n",
      "4\n",
      "Lista lista1 :  [1, 2, 'Ala', 'ma']\n",
      "Lista lista1 :  [1, 2, 'Ala', 'ma', 'kota']\n",
      "Lista lista11 :  kota Lista lista1 :  [1, 2, 'Ala', 'ma']\n",
      "Lista lista1rev :  ['ma', 'Ala', 2, 1]\n",
      "Lista lista12 :  None  o liczbie elementow :  None\n",
      "Lista lista1 :  [1, 2, ['Basia', 'ma', 'psa'], 'Ala', 'ma'] o liczbe elementow :  5\n",
      "Lista lista3 :  [1, 2, ['Basia', 'ma', 'psa'], 'Ala', 'ma', 1, 2, ['Basia', 'ma', 'psa'], 'Ala', 'ma'] o liczbie elementow :  10\n",
      "Lista lista4 :  [1, 2, ['Basia', 'ma', 'psa'], 'Ala', 1, 2, ['Basia', 'ma', 'psa'], 'Ala']  o liczbie elementow :  8\n",
      "Lista lista5 :  [1, 2, ['Basia', 'ma', 'psa'], 1, 2, ['Basia', 'ma', 'psa']]  o liczbie elementow :  6\n"
     ]
    }
   ],
   "source": [
    "# listy tworzymy za pomoca nawiasów kwadratowych []\n",
    "\n",
    "lista1=[1,2,'Ala',4]\n",
    "print('Lista lista1 : ',lista1,type(lista1))\n",
    "\n",
    "# elementy listy nie musze byc tego samego typu\n",
    "\n",
    "# utworzmy pusta liste, warto pamietac ze konwersja takiej listy na typ logiczny zwraca falsz\n",
    "\n",
    "lista2=[]\n",
    "\n",
    "print('Lista lista2 : ',lista2,type(lista2),bool(lista2))\n",
    "\n",
    "# indeksowanie elementow analogiczne jak dla napisow\n",
    "\n",
    "print(lista1, lista1[1])  #  \"[1, 2, 'Ala', 4]\"\n",
    "print(lista1[-1])     # Wyswietla ostatni element listy\n",
    "lista1[3] = 'ma'      # Zmiana elementu o indeksie [3] \n",
    "print('Lista lista1 : ',lista1)         #  wyswietla \"[1, 2, 'Ala', 'ma']\"\n",
    "\n",
    "# dedykowane dla list metody\n",
    "\n",
    "lista1.append('kota') # Dodajemy element listy na jej koncu\n",
    "print('Lista lista1 : ',lista1)         # \"[1, 2, 'Ala', 'ma', 'kota']\"\n",
    "\n",
    "\n",
    "lista11 = lista1.pop()    # Odczytanie ostatniego elementu listy i jednoczesny usunieciem\n",
    "print('Lista lista11 : ',lista11,'Lista lista1 : ', lista1)      # kota [1, 2, 'Ala', 'ma']\n",
    "\n",
    "# lista w odwrotnej kolejnosci\n",
    "\n",
    "lista1rev=lista1[::-1]\n",
    "print('Lista lista1rev : ',lista1rev)      # kota [1, 2, 'Ala', 'ma']\n",
    "\n",
    "# dodanie nowego elementu listy w pozycji o indeksie 2, w szczegolnosci moze byc to kolejna lista\n",
    "\n",
    "lista12 = lista1.insert(2,['Basia','ma','psa'])\n",
    "print('Lista lista12 : ',lista12,' o liczbie elementow : ', lista12)\n",
    "\n",
    "\n",
    "# liczba elementow listy\n",
    "print('Lista lista1 : ',lista1, 'o liczbe elementow : ',len(lista1))\n",
    "\n",
    "# dodawanie list\n",
    "\n",
    "lista3 = lista1 +lista1\n",
    "print('Lista lista3 : ',lista3, 'o liczbie elementow : ',len(lista3))\n",
    "\n",
    "# mnozenie listy przez wartosc z prawej strony\n",
    "\n",
    "lista4=lista3[:4:1]*2;\n",
    "print('Lista lista4 : ',lista4, ' o liczbie elementow : ',len(lista4))\n",
    "\n",
    "# mnozenie listy przez wartosc z lewej strony\n",
    "\n",
    "lista5=2*lista3[:3:1];\n",
    "print('Lista lista5 : ',lista5,' o liczbie elementow : ',len(lista5))\n"
   ]
  },
  {
   "cell_type": "markdown",
   "metadata": {},
   "source": [
    "### Krotki (tuples)\n",
    "\n",
    "#### Krotki sa elementami sekwenyjnymi niezmienialnymi (immutable)"
   ]
  },
  {
   "cell_type": "code",
   "execution_count": 4,
   "metadata": {},
   "outputs": [
    {
     "name": "stdout",
     "output_type": "stream",
     "text": [
      "(1, 3, 5, 'Pies') <class 'tuple'>\n",
      "(1, 2, 3, 4, 'Ala', 'ma', 'kota') <class 'tuple'>\n"
     ]
    }
   ],
   "source": [
    "# krotki tworzymy za pomoca nawiasów zwyklych ()\n",
    "\n",
    "k1= 1,3,5,'Pies'\n",
    "print(k1,type(k1))\n",
    "\n",
    "# W szczegolnosci mozemy tworzyc krotki bez wykorzystania ()\n",
    "\n",
    "k2 = 1,2,3,4,'Ala','ma','kota'\n",
    "print(k2,type(k2))"
   ]
  },
  {
   "cell_type": "markdown",
   "metadata": {},
   "source": [
    "### Slowniki {dictionaries}"
   ]
  },
  {
   "cell_type": "code",
   "execution_count": null,
   "metadata": {},
   "outputs": [],
   "source": []
  },
  {
   "cell_type": "markdown",
   "metadata": {},
   "source": [
    "### Zbiory {sets}"
   ]
  },
  {
   "cell_type": "code",
   "execution_count": null,
   "metadata": {},
   "outputs": [],
   "source": []
  }
 ],
 "metadata": {
  "kernelspec": {
   "display_name": "Python 3",
   "language": "python",
   "name": "python3"
  },
  "language_info": {
   "codemirror_mode": {
    "name": "ipython",
    "version": 3
   },
   "file_extension": ".py",
   "mimetype": "text/x-python",
   "name": "python",
   "nbconvert_exporter": "python",
   "pygments_lexer": "ipython3",
   "version": "3.6.5"
  }
 },
 "nbformat": 4,
 "nbformat_minor": 2
}
