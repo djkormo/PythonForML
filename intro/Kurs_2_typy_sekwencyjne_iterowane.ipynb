{
 "cells": [
  {
   "cell_type": "markdown",
   "metadata": {},
   "source": [
    "### Indeksowanie"
   ]
  },
  {
   "cell_type": "code",
   "execution_count": 1,
   "metadata": {},
   "outputs": [
    {
     "name": "stdout",
     "output_type": "stream",
     "text": [
      "Witamy na kursie Pythona.\n",
      "Pierwszy element:  W\n",
      "Drugi element:  i\n",
      "Trzeci element:  t\n",
      "Ostatni element:  .\n",
      "Ostatni element:  .\n",
      "Przedostatni element:  a\n",
      "Pierwszy element:  W\n"
     ]
    }
   ],
   "source": [
    "# deklarujemy zmienna typu napis\n",
    "\n",
    "s1=\"Witamy na kursie Pythona.\"\n",
    "print(s1)\n",
    "\n",
    "#pierwszy element napisu oznaczamy cyfra 0 []\n",
    "\n",
    "print('Pierwszy element: ',s1[0])\n",
    "\n",
    "# drugi element [1]\n",
    "\n",
    "print('Drugi element: ',s1[1])\n",
    "\n",
    "# trzeci element [2]\n",
    "\n",
    "print('Trzeci element: ',s1[2])\n",
    "\n",
    "# ostatni element napisu [dlugosc -1]\n",
    "\n",
    "print('Ostatni element: ',s1[len(s1)-1])\n",
    "\n",
    "# mozna tez wykorzystac indeksy ujemne\n",
    "\n",
    "# ostatni element [-1]\n",
    "\n",
    "print('Ostatni element: ',s1[-1])\n",
    "\n",
    "# przedostatni element [-2]\n",
    "\n",
    "print('Przedostatni element: ',s1[-2])\n",
    "\n",
    "# pierwszy element [-dlugosc]\n",
    "\n",
    "print('Pierwszy element: ',s1[-len(s1)])\n"
   ]
  },
  {
   "cell_type": "markdown",
   "metadata": {},
   "source": [
    "### Tworzenie podciagów"
   ]
  },
  {
   "cell_type": "code",
   "execution_count": 2,
   "metadata": {},
   "outputs": [
    {
     "name": "stdout",
     "output_type": "stream",
     "text": [
      "Orynalny napis  Witamy na kursie Pythona. o dlugosci  25\n",
      "Drugi element o indeksie [1]: i\n",
      "Wszystkie elementy napisu:  Witamy na kursie Pythona.\n",
      "Co drugi element napisu:  Wtm akri yhn.\n",
      "Napis w odwrotnej kolejnosci:  .anohtyP eisruk an ymatiW\n",
      "Co drugi element napisu w odwrotnej kolejnosci:  .nhy irka mtW\n"
     ]
    }
   ],
   "source": [
    "# tworzenie podciagow (slice)\n",
    "\n",
    "s1=\"Witamy na kursie Pythona.\"\n",
    "print('Orynalny napis ',s1, 'o dlugosci ',len(s1))\n",
    "\n",
    "# tworzymy podciag zaczynajacy sie od indeksu [1]  do ponizej indeksu [2]\n",
    "\n",
    "print ('Drugi element o indeksie [1]:',s1[1:2]) # wyswietlamy tylko element drugi - indeks [1]\n",
    "\n",
    "# ogolna postac [a:b:c] \n",
    "# a oznacza indeks elementu startowego, \n",
    "# b oznacza gorny indeks elementu, ktory nas nie interesuje\n",
    "# c oznaccza roznice miedzy kolejnymi indeksami\n",
    "\n",
    "# domyslnie a =0, b =len(napis), c  = 1\n",
    "\n",
    "# wyswietlenie wzystkich elementow napisu\n",
    "\n",
    "print('Wszystkie elementy napisu: ',s1[::])\n",
    "\n",
    "\n",
    "# wyswietlanie co drugiego elementu napisu\n",
    "\n",
    "print('Co drugi element napisu: ',s1[::2])\n",
    "\n",
    "# krok zmiany moze byc tez ujemny\n",
    "\n",
    "print('Napis w odwrotnej kolejnosci: ',s1[::-1])\n",
    "\n",
    "# co drugi element w odwrotnej kolejnosci\n",
    "\n",
    "print('Co drugi element napisu w odwrotnej kolejnosci: ',s1[::-2])\n",
    "\n"
   ]
  },
  {
   "cell_type": "markdown",
   "metadata": {},
   "source": [
    "### Listy [lists]\n",
    "\n",
    "#### LIsty sa obiektami sekwencyjnymi zmienialnymi (mutable)"
   ]
  },
  {
   "cell_type": "code",
   "execution_count": 3,
   "metadata": {},
   "outputs": [
    {
     "name": "stdout",
     "output_type": "stream",
     "text": [
      "Lista lista1 :  [1, 2, 'Ala', 4] <class 'list'>\n",
      "Lista lista2 :  [] <class 'list'> False\n",
      "[1, 2, 'Ala', 4] 2\n",
      "4\n",
      "Lista lista1 :  [1, 2, 'Ala', 'ma']\n",
      "Lista lista1 :  [1, 2, 'Ala', 'ma', 'kota']\n",
      "Lista lista11 :  kota Lista lista1 :  [1, 2, 'Ala', 'ma']\n",
      "Lista lista1rev :  ['ma', 'Ala', 2, 1]\n",
      "Lista lista12 :  None  o liczbie elementow :  None\n",
      "Lista lista1 :  [1, 2, ['Basia', 'ma', 'psa'], 'Ala', 'ma'] o liczbe elementow :  5\n",
      "Lista lista3 :  [1, 2, ['Basia', 'ma', 'psa'], 'Ala', 'ma', 1, 2, ['Basia', 'ma', 'psa'], 'Ala', 'ma'] o liczbie elementow :  10\n",
      "Lista lista4 :  [1, 2, ['Basia', 'ma', 'psa'], 'Ala', 1, 2, ['Basia', 'ma', 'psa'], 'Ala']  o liczbie elementow :  8\n",
      "Lista lista5 :  [1, 2, ['Basia', 'ma', 'psa'], 1, 2, ['Basia', 'ma', 'psa']]  o liczbie elementow :  6\n"
     ]
    }
   ],
   "source": [
    "# listy tworzymy za pomoca nawiasów kwadratowych []\n",
    "\n",
    "lista1=[1,2,'Ala',4]\n",
    "print('Lista lista1 : ',lista1,type(lista1))\n",
    "\n",
    "# elementy listy nie musze byc tego samego typu\n",
    "\n",
    "# utworzmy pusta liste, warto pamietac ze konwersja takiej listy na typ logiczny zwraca falsz\n",
    "\n",
    "lista2=[]\n",
    "\n",
    "print('Lista lista2 : ',lista2,type(lista2),bool(lista2))\n",
    "\n",
    "# indeksowanie elementow analogiczne jak dla napisow\n",
    "\n",
    "print(lista1, lista1[1])  #  \"[1, 2, 'Ala', 4]\"\n",
    "print(lista1[-1])     # Wyswietla ostatni element listy\n",
    "lista1[3] = 'ma'      # Zmiana elementu o indeksie [3] \n",
    "print('Lista lista1 : ',lista1)         #  wyswietla \"[1, 2, 'Ala', 'ma']\"\n",
    "\n",
    "# dedykowane dla list metody\n",
    "\n",
    "lista1.append('kota') # Dodajemy element listy na jej koncu\n",
    "print('Lista lista1 : ',lista1)         # \"[1, 2, 'Ala', 'ma', 'kota']\"\n",
    "\n",
    "\n",
    "lista11 = lista1.pop()    # Odczytanie ostatniego elementu listy z jednoczesnym usunieciem\n",
    "print('Lista lista11 : ',lista11,'Lista lista1 : ', lista1)      # kota [1, 2, 'Ala', 'ma']\n",
    "\n",
    "# lista w odwrotnej kolejnosci\n",
    "\n",
    "lista1rev=lista1[::-1]\n",
    "print('Lista lista1rev : ',lista1rev)      # kota [1, 2, 'Ala', 'ma']\n",
    "\n",
    "# dodanie nowego elementu listy w pozycji o indeksie 2, w szczegolnosci moze byc to kolejna lista\n",
    "\n",
    "lista12 = lista1.insert(2,['Basia','ma','psa'])\n",
    "print('Lista lista12 : ',lista12,' o liczbie elementow : ', lista12)\n",
    "\n",
    "\n",
    "# liczba elementow listy\n",
    "print('Lista lista1 : ',lista1, 'o liczbe elementow : ',len(lista1))\n",
    "\n",
    "# dodawanie list\n",
    "\n",
    "lista3 = lista1 +lista1\n",
    "print('Lista lista3 : ',lista3, 'o liczbie elementow : ',len(lista3))\n",
    "\n",
    "# mnozenie listy przez wartosc z prawej strony\n",
    "\n",
    "lista4=lista3[:4:1]*2;\n",
    "print('Lista lista4 : ',lista4, ' o liczbie elementow : ',len(lista4))\n",
    "\n",
    "# mnozenie listy przez wartosc z lewej strony\n",
    "\n",
    "lista5=2*lista3[:3:1];\n",
    "print('Lista lista5 : ',lista5,' o liczbie elementow : ',len(lista5))\n"
   ]
  },
  {
   "cell_type": "markdown",
   "metadata": {},
   "source": [
    "### Konwersja typow dla list"
   ]
  },
  {
   "cell_type": "code",
   "execution_count": 4,
   "metadata": {},
   "outputs": [
    {
     "name": "stdout",
     "output_type": "stream",
     "text": [
      "Lista l1 :  ['A', 'l', 'a', ' ', 'm', 'a', ' ', 'k', 'o', 't', 'a', ',', ' ', 'a', ' ', 'B', 'a', 's', 'i', 'a', ' ', 'm', 'a', ' ', 'p', 's', 'a', '.']  o liczbie elementow:  28\n",
      "Napis s2 :  Ala ma kota, a Basia ma psa.  o dlugosci :  28\n",
      "Sekwencja r1 :  range(0, 50) <class 'range'>  liczba elementow :  50\n",
      "Sekwencja r2 :  range(-20, 20) <class 'range'>  liczba elementow :  40\n",
      "Sekwencja r3 :  range(-20, 20, 2) <class 'range'>  liczba elementow :  20\n",
      "Lista lr1 :  [0, 1, 2, 3, 4, 5, 6, 7, 8, 9, 10, 11, 12, 13, 14, 15, 16, 17, 18, 19, 20, 21, 22, 23, 24, 25, 26, 27, 28, 29, 30, 31, 32, 33, 34, 35, 36, 37, 38, 39, 40, 41, 42, 43, 44, 45, 46, 47, 48, 49] <class 'list'>\n",
      "Lista lr2 :  [-20, -19, -18, -17, -16, -15, -14, -13, -12, -11, -10, -9, -8, -7, -6, -5, -4, -3, -2, -1, 0, 1, 2, 3, 4, 5, 6, 7, 8, 9, 10, 11, 12, 13, 14, 15, 16, 17, 18, 19] <class 'list'>\n",
      "Lista lr3 :  [-20, -18, -16, -14, -12, -10, -8, -6, -4, -2, 0, 2, 4, 6, 8, 10, 12, 14, 16, 18] <class 'list'>\n"
     ]
    }
   ],
   "source": [
    "# konwersja na typ listy -> list(obiekt)\n",
    "\n",
    "# zamiana napisu na liste, kazdy z elementow napisu jest zamieniony na element listy\n",
    "\n",
    "s1='Ala ma kota, a Basia ma psa.';\n",
    "l1=list(s1)\n",
    "print('Lista l1 : ',l1,' o liczbie elementow: ',len(l1))\n",
    "\n",
    "# konwersja z listy na napis, \n",
    "\n",
    "s2=''.join(l1)\n",
    "print('Napis s2 : ',s2, ' o dlugosci : ',len(s2))\n",
    "\n",
    "# type range, bedziemy z niego intensywnie korzystac przy petlach, domyslny krok 1.\n",
    "\n",
    "r1=range(50) # generujemy liczby od zera do najwiekszej mniejszej niz 50\n",
    "print('Sekwencja r1 : ',r1, type(r1),' liczba elementow : ',len(r1)) # <class 'range'>\n",
    "\n",
    "r2=range(-20,20) # generujemy liczby od -20 do najwiekszej mniejszej niz 20\n",
    "print('Sekwencja r2 : ',r2, type(r2),' liczba elementow : ',len(r2)) # <class 'range'>\n",
    "\n",
    "r3=range(-20,20,2) # generujemy liczby od -20 do najwiekszej mniejszej niz 20 co krok rowny 2\n",
    "print('Sekwencja r3 : ',r3, type(r3),' liczba elementow : ',len(r3)) # <class 'range'>\n",
    "\n",
    "\n",
    "# zamiana na liste\n",
    "\n",
    "lr1=list(r1)\n",
    "print('Lista lr1 : ',lr1, type(lr1)) # <class 'list'>\n",
    "lr2=list(r2)\n",
    "print('Lista lr2 : ',lr2, type(lr2)) # <class 'list'>\n",
    "lr3=list(r3)\n",
    "print('Lista lr3 : ',lr3, type(lr3)) # <class 'list'>\n",
    "\n"
   ]
  },
  {
   "cell_type": "markdown",
   "metadata": {},
   "source": [
    "### Krotki (tuples)\n",
    "\n",
    "#### Krotki sa elementami sekwencyjnymi niezmienialnymi (immutable)"
   ]
  },
  {
   "cell_type": "code",
   "execution_count": 5,
   "metadata": {},
   "outputs": [
    {
     "name": "stdout",
     "output_type": "stream",
     "text": [
      "(1, 3, 5, 'Pies') <class 'tuple'>\n",
      "(1, 2, 3, 4, 'Ala', 'ma', 'kota') <class 'tuple'>\n",
      "() <class 'tuple'> False\n",
      "1 <class 'int'>\n",
      "(1,) <class 'tuple'>\n"
     ]
    }
   ],
   "source": [
    "# krotki tworzymy za pomoca nawiasów zwyklych ()\n",
    "\n",
    "k1= 1,3,5,'Pies'\n",
    "print(k1,type(k1))\n",
    "\n",
    "# W szczegolnosci mozemy tworzyc krotki bez wykorzystania ()\n",
    "\n",
    "k2 = 1,2,3,4,'Ala','ma','kota'\n",
    "print(k2,type(k2))\n",
    "\n",
    "# pusta krotka, konwertowalna na typ logiczny jako falsz\n",
    "\n",
    "k3=()\n",
    "\n",
    "print(k3,type(k3),bool(k3))\n",
    "\n",
    "# budowa krotki z jednym elementem\n",
    "\n",
    "k4a=(1)\n",
    "print(k4a,type(k4a)) # 1 <class 'int'>\n",
    "\n",
    "# w takim przypadku, nalezy postawic znak , po wartosci pierwszego/ostatniego elementu\n",
    "\n",
    "k4b=(1,)\n",
    "print(k4b,type(k4b)) # (1,) <class 'tuple'>\n",
    "\n",
    "\n",
    "\n"
   ]
  },
  {
   "cell_type": "code",
   "execution_count": 6,
   "metadata": {},
   "outputs": [
    {
     "name": "stdout",
     "output_type": "stream",
     "text": [
      "Zawartosc krotki k5 :  ('Ala', 'ma', 'kota', 3.14, 12, 2.0)\n",
      "Pierwszy element krotki k5:  Ala\n",
      "Ostatni element:  2.0\n",
      "krotka1[0]:  Poznan\n",
      "krotka2[1:5]:  (2, 3, 4, 5)\n"
     ]
    }
   ],
   "source": [
    "# dostep do elementow krotki  analogicznie jak do elementow listy\n",
    "\n",
    "k5=('Ala','ma','kota',3.14,12,2.0)\n",
    "print('Zawartosc krotki k5 : ',k5)\n",
    "print('Pierwszy element krotki k5: ',k5[0])\n",
    "\n",
    "print('Ostatni element: ',k5[-1])\n",
    "\n",
    "# dostep do elementow krotki \n",
    "\n",
    "krotka1 = ('Poznan', 'Warszawa', 1995, 2018)\n",
    "krotka2 = (1, 2, 3, 4, 5, 6, 7 ,8)\n",
    "\n",
    "print (\"krotka1[0]: \", krotka1[0])\n",
    "print (\"krotka2[1:5]: \", krotka2[1:5])"
   ]
  },
  {
   "cell_type": "code",
   "execution_count": 7,
   "metadata": {},
   "outputs": [
    {
     "ename": "TypeError",
     "evalue": "'tuple' object does not support item assignment",
     "output_type": "error",
     "traceback": [
      "\u001b[1;31m---------------------------------------------------------------------------\u001b[0m",
      "\u001b[1;31mTypeError\u001b[0m                                 Traceback (most recent call last)",
      "\u001b[1;32m<ipython-input-7-1e02bda8789e>\u001b[0m in \u001b[0;36m<module>\u001b[1;34m()\u001b[0m\n\u001b[0;32m      2\u001b[0m \u001b[0mkrotka1\u001b[0m \u001b[1;33m=\u001b[0m \u001b[1;33m(\u001b[0m\u001b[1;34m'Poznan'\u001b[0m\u001b[1;33m,\u001b[0m \u001b[1;34m'Warszawa'\u001b[0m\u001b[1;33m,\u001b[0m \u001b[1;36m1995\u001b[0m\u001b[1;33m,\u001b[0m \u001b[1;36m2018\u001b[0m\u001b[1;33m)\u001b[0m\u001b[1;33m\u001b[0m\u001b[0m\n\u001b[0;32m      3\u001b[0m \u001b[1;33m\u001b[0m\u001b[0m\n\u001b[1;32m----> 4\u001b[1;33m \u001b[0mkrotka1\u001b[0m\u001b[1;33m[\u001b[0m\u001b[1;36m2\u001b[0m\u001b[1;33m]\u001b[0m \u001b[1;33m=\u001b[0m\u001b[1;36m1999\u001b[0m \u001b[1;31m# TypeError: 'tuple' object does not support item assignment\u001b[0m\u001b[1;33m\u001b[0m\u001b[0m\n\u001b[0m\u001b[0;32m      5\u001b[0m \u001b[1;33m\u001b[0m\u001b[0m\n\u001b[0;32m      6\u001b[0m \u001b[1;31m# krotka jest niezmienialna, co oznacza ze raz stworzony obiekt jest tylko do odczytu\u001b[0m\u001b[1;33m\u001b[0m\u001b[1;33m\u001b[0m\u001b[0m\n",
      "\u001b[1;31mTypeError\u001b[0m: 'tuple' object does not support item assignment"
     ]
    }
   ],
   "source": [
    "# modyfikacja elementu krotki\n",
    "krotka1 = ('Poznan', 'Warszawa', 1995, 2018)\n",
    "\n",
    "krotka1[2] =1999 # TypeError: 'tuple' object does not support item assignment\n",
    "\n",
    "# krotka jest niezmienialna, co oznacza ze raz stworzony obiekt jest tylko do odczytu"
   ]
  },
  {
   "cell_type": "code",
   "execution_count": 8,
   "metadata": {},
   "outputs": [
    {
     "name": "stdout",
     "output_type": "stream",
     "text": [
      "Zawartosc krotka1 :  ('Poznan', 'Warszawa', 1995, 2018)  o dlugosci : 4\n",
      "Zawartosc krotka2 :  (1, 2, 3, 4, 5, 6, 7, 8)  o dlugosci : 8\n",
      "Zawartosc krotka3 :  ('Poznan', 'Warszawa', 1995, 2018, 1, 2, 3, 4, 5, 6, 7, 8)  o dlugosci : 12\n"
     ]
    }
   ],
   "source": [
    "krotka1 = ('Poznan', 'Warszawa', 1995, 2018)\n",
    "krotka2 = (1, 2, 3, 4, 5, 6, 7 ,8)\n",
    "\n",
    "krotka3=krotka1+krotka2\n",
    "print('Zawartosc krotka1 : ',krotka1,' o dlugosci :',len(krotka1))\n",
    "print('Zawartosc krotka2 : ',krotka2,' o dlugosci :',len(krotka2))\n",
    "print('Zawartosc krotka3 : ',krotka3,' o dlugosci :',len(krotka3))"
   ]
  },
  {
   "cell_type": "markdown",
   "metadata": {},
   "source": [
    "### Slowniki {dictionaries}"
   ]
  },
  {
   "cell_type": "code",
   "execution_count": 10,
   "metadata": {},
   "outputs": [
    {
     "name": "stdout",
     "output_type": "stream",
     "text": [
      "{} <class 'dict'> False\n",
      "{'wzrost': 187, 'kolor': 'blond'} 2\n",
      "{'wzrost': 190, 'kolor': 'blond'} 2\n",
      "{'kolor': 'blond'} 1\n",
      "{'kolor': 'blond', 'wzrost': 190} 2\n",
      "{} 0\n"
     ]
    }
   ],
   "source": [
    "# słowniki przechowuja  zestawy par klucz-wartość\n",
    "\n",
    "#tworzymy pusty słownik, rzutowany na typ logiczny daje wartość fałszu\n",
    "\n",
    "slownik1={}\n",
    "\n",
    "print(slownik1,type(slownik1),bool(slownik1)) # {} <class 'dict'> False\n",
    "\n",
    "# dodajemy pierwsza parę do pustego słownika\n",
    "\n",
    "slownik1['wzrost']=187\n",
    "\n",
    "# dodajemy druga pare\n",
    "\n",
    "slownik1['kolor']='blond'\n",
    "\n",
    "print(slownik1,len(slownik1)) # {'wzrost': 187, 'kolor': 'blond'} 2\n",
    "\n",
    "# klucz jest unikalny w ramach slownika\n",
    "\n",
    "# zmiana wartosci dla klucza, takie podstawienie niszczy poprzednia wartość\n",
    "slownik1['wzrost']=190\n",
    "\n",
    "print(slownik1,len(slownik1)) # {'wzrost': 190, 'kolor': 'blond'} 2\n",
    "\n",
    "# usuniecie pary klucz-wartosc\n",
    "\n",
    "del slownik1['wzrost']\n",
    "\n",
    "print(slownik1,len(slownik1)) # {'kolor': 'blond'} 1\n",
    "\n",
    "\n",
    "# dodanie po raz kolejny pary {'wzrost':1}\n",
    "slownik1['wzrost']=190\n",
    "\n",
    "# zauważmy zmianę kolejności kluczy\n",
    "print(slownik1,len(slownik1)) # {'kolor': 'blond', 'wzrost': 190} 2\n",
    "\n",
    "# wyczyszczenie zawartości słownika\n",
    "\n",
    "slownik1.clear()\n",
    "\n",
    "print(slownik1,len(slownik1)) # {} 0\n"
   ]
  },
  {
   "cell_type": "code",
   "execution_count": 11,
   "metadata": {},
   "outputs": [
    {
     "ename": "NameError",
     "evalue": "name 'slownik1' is not defined",
     "output_type": "error",
     "traceback": [
      "\u001b[1;31m---------------------------------------------------------------------------\u001b[0m",
      "\u001b[1;31mNameError\u001b[0m                                 Traceback (most recent call last)",
      "\u001b[1;32m<ipython-input-11-3a1d850715e0>\u001b[0m in \u001b[0;36m<module>\u001b[1;34m()\u001b[0m\n\u001b[0;32m      3\u001b[0m \u001b[1;32mdel\u001b[0m \u001b[0mslownik1\u001b[0m\u001b[1;33m\u001b[0m\u001b[0m\n\u001b[0;32m      4\u001b[0m \u001b[1;33m\u001b[0m\u001b[0m\n\u001b[1;32m----> 5\u001b[1;33m \u001b[0mprint\u001b[0m\u001b[1;33m(\u001b[0m\u001b[0mslownik1\u001b[0m\u001b[1;33m,\u001b[0m\u001b[0mlen\u001b[0m\u001b[1;33m(\u001b[0m\u001b[0mslownik1\u001b[0m\u001b[1;33m)\u001b[0m\u001b[1;33m)\u001b[0m \u001b[1;31m# NameError: name 'slownik1' is not defined\u001b[0m\u001b[1;33m\u001b[0m\u001b[0m\n\u001b[0m",
      "\u001b[1;31mNameError\u001b[0m: name 'slownik1' is not defined"
     ]
    }
   ],
   "source": [
    "#usunięcie obiektu \n",
    "\n",
    "del slownik1\n",
    "\n",
    "print(slownik1,len(slownik1)) # NameError: name 'slownik1' is not defined"
   ]
  },
  {
   "cell_type": "code",
   "execution_count": 12,
   "metadata": {},
   "outputs": [
    {
     "name": "stdout",
     "output_type": "stream",
     "text": [
      "{'wzrost': 190, 'kolor': 'brunet', 'hobby': 'szachy'} 3\n",
      "{'wzrost': 190, 'kolor': 'brunet', 'hobby': 'szachy'} 3\n",
      "dict_keys(['wzrost', 'kolor', 'hobby'])\n",
      "dict_values([190, 'brunet', 'szachy'])\n",
      "dict_items([('wzrost', 190), ('kolor', 'brunet'), ('hobby', 'szachy')])\n",
      "dict_items([('wzrost', 190), ('kolor', 'brunet'), ('hobby', 'szachy'), ('przyjaciel', False)])\n",
      "dict_items([('wzrost', 190), ('kolor', 'brunet'), ('hobby', 'szachy'), ('przyjaciel', True)])\n"
     ]
    }
   ],
   "source": [
    "# tworzymy slownik z trzema parami klucz-wartosc\n",
    "\n",
    "# wykorzystujemy tu notacje JSON\n",
    "\n",
    "slownik2 =\t{\n",
    "  \"wzrost\": 190,\n",
    "  \"kolor\": \"brunet\",\n",
    "  \"hobby\": \"szachy\"\n",
    "}\n",
    "\n",
    "print(slownik2,len(slownik2))  # {'wzrost': 190, 'kolor': 'brunet', 'hobby': 'szachy'} 3\n",
    "\n",
    "# mozna też uzyć funkcji dict()\n",
    "\n",
    "slownik3 = dict(wzrost=190, kolor=\"brunet\", hobby=\"szachy\")\n",
    "\n",
    "print(slownik3,len(slownik3)) # {'wzrost': 190, 'kolor': 'brunet', 'hobby': 'szachy'} 3\n",
    "\n",
    "# klucze\n",
    "\n",
    "# zwracamy liste kluczy\n",
    "\n",
    "print(slownik3.keys()) # dict_keys(['wzrost', 'kolor', 'hobby'])\n",
    "      \n",
    "# sprawdzamy , czy dany klucz istnieje\n",
    "\n",
    "\n",
    "# wartosci\n",
    "\n",
    "# zwracamy liste wartosci \n",
    "\n",
    "print(slownik3.values()) # dict_values([190, 'brunet', 'szachy'])\n",
    "\n",
    "# klucze/wartosci\n",
    "\n",
    "# zwracamy listę kluczy-wartosci\n",
    "\n",
    "print(slownik3.items()) # dict_items([('wzrost', 190), ('kolor', 'brunet'), ('hobby', 'szachy')])\n",
    "\n",
    "\n",
    "\n",
    "# dodanie lub aktualizacja pary klucz-wartosc\n",
    "\n",
    "slownik3.update({'przyjaciel': False})\n",
    "\n",
    "\n",
    "print(slownik3.items()) # dict_items([('wzrost', 190), ('kolor', 'brunet'), ('hobby', 'szachy'), ('przyjaciel', False)])\n",
    "\n",
    "slownik3.update({'przyjaciel': True}) \n",
    "\n",
    "print(slownik3.items()) # dict_items([('wzrost', 190), ('kolor', 'brunet'), ('hobby', 'szachy'), ('przyjaciel', True)])\n",
    "\n"
   ]
  },
  {
   "cell_type": "markdown",
   "metadata": {},
   "source": [
    "### Zbiory {sets}"
   ]
  },
  {
   "cell_type": "code",
   "execution_count": null,
   "metadata": {},
   "outputs": [],
   "source": []
  }
 ],
 "metadata": {
  "kernelspec": {
   "display_name": "Python 3",
   "language": "python",
   "name": "python3"
  },
  "language_info": {
   "codemirror_mode": {
    "name": "ipython",
    "version": 3
   },
   "file_extension": ".py",
   "mimetype": "text/x-python",
   "name": "python",
   "nbconvert_exporter": "python",
   "pygments_lexer": "ipython3",
   "version": "3.6.5"
  }
 },
 "nbformat": 4,
 "nbformat_minor": 2
}
