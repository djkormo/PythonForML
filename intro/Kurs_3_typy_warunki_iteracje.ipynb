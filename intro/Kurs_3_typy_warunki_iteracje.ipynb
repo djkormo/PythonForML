{
 "cells": [
  {
   "cell_type": "markdown",
   "metadata": {},
   "source": [
    "### Operacje logiczne"
   ]
  },
  {
   "cell_type": "code",
   "execution_count": 21,
   "metadata": {},
   "outputs": [
    {
     "name": "stdout",
     "output_type": "stream",
     "text": [
      "0 < 1 :  True\n",
      "0 > 1 :  False\n",
      "0 <= 1 :  True\n",
      "0 >= 1 :  False\n",
      "1 == 0 :  False\n",
      "1 == 1 :  True\n",
      "1 != 0 :  True\n",
      " False\n"
     ]
    }
   ],
   "source": [
    "# zacznijmy od porownań \n",
    "\n",
    "# czy zero jest mniejsze niż jeden\n",
    "\n",
    "print('0 < 1 : ',0 < 1)  #True\n",
    "\n",
    "# czy zero jest większe niż jeden\n",
    "\n",
    "print('0 > 1 : ',0 > 1)  #False\n",
    "\n",
    "# czy zero jest mniejsze lub równe jeden\n",
    "\n",
    "print('0 <= 1 : ',0 <= 1) #True\n",
    "\n",
    "# czy zero jest większe lub równe jeden\n",
    "\n",
    "print('0 >= 1 : ',0 >= 1) #False\n",
    "\n",
    "# czy jeden jest równe zero\n",
    "\n",
    "print('1 == 0 : ',1 == 0) #False\n",
    "\n",
    "# czy jeden jest rowne jeden\n",
    "\n",
    "print('1 == 1 : ',1 == 1) #True\n",
    "\n",
    "# czy jeden jest różne od zera\n",
    "\n",
    "print('1 != 0 : ',1 != 0) #True\n",
    "\n",
    "# czy jeden jest rózne od jeden\n",
    "\n",
    "print('',1!= 1) #False"
   ]
  },
  {
   "cell_type": "markdown",
   "metadata": {},
   "source": [
    "### Typ logiczny  True/False"
   ]
  },
  {
   "cell_type": "code",
   "execution_count": 12,
   "metadata": {},
   "outputs": [
    {
     "name": "stdout",
     "output_type": "stream",
     "text": [
      "True + True =  2 <class 'int'>\n",
      "True - False =  1 <class 'int'>\n",
      "True * False =  0 <class 'int'>\n"
     ]
    },
    {
     "ename": "ZeroDivisionError",
     "evalue": "division by zero",
     "output_type": "error",
     "traceback": [
      "\u001b[0;31m---------------------------------------------------------------------------\u001b[0m",
      "\u001b[0;31mZeroDivisionError\u001b[0m                         Traceback (most recent call last)",
      "\u001b[0;32m<ipython-input-12-6b7cbeb8d79f>\u001b[0m in \u001b[0;36m<module>\u001b[0;34m()\u001b[0m\n\u001b[1;32m      7\u001b[0m \u001b[0mprint\u001b[0m\u001b[0;34m(\u001b[0m\u001b[0;34m'True * False = '\u001b[0m\u001b[0;34m,\u001b[0m\u001b[0;32mTrue\u001b[0m \u001b[0;34m*\u001b[0m \u001b[0;32mFalse\u001b[0m\u001b[0;34m,\u001b[0m\u001b[0mtype\u001b[0m\u001b[0;34m(\u001b[0m\u001b[0;32mTrue\u001b[0m \u001b[0;34m+\u001b[0m \u001b[0;32mTrue\u001b[0m\u001b[0;34m)\u001b[0m\u001b[0;34m)\u001b[0m\u001b[0;34m\u001b[0m\u001b[0m\n\u001b[1;32m      8\u001b[0m \u001b[0;34m\u001b[0m\u001b[0m\n\u001b[0;32m----> 9\u001b[0;31m \u001b[0mprint\u001b[0m\u001b[0;34m(\u001b[0m\u001b[0;34m'True / False ='\u001b[0m\u001b[0;34m,\u001b[0m\u001b[0;32mTrue\u001b[0m \u001b[0;34m/\u001b[0m \u001b[0;32mFalse\u001b[0m\u001b[0;34m,\u001b[0m\u001b[0mtype\u001b[0m\u001b[0;34m(\u001b[0m\u001b[0;32mTrue\u001b[0m \u001b[0;34m+\u001b[0m \u001b[0;32mTrue\u001b[0m\u001b[0;34m)\u001b[0m\u001b[0;34m)\u001b[0m \u001b[0;31m# ZeroDivisionError: division by zero\u001b[0m\u001b[0;34m\u001b[0m\u001b[0m\n\u001b[0m",
      "\u001b[0;31mZeroDivisionError\u001b[0m: division by zero"
     ]
    }
   ],
   "source": [
    "# typ logiczny traktowany jako całkowity  True =1, False =0\n",
    "\n",
    "print('True + True = ',True + True, type(True + True))\n",
    "\n",
    "print('True - False = ',True - False,type(True + True))\n",
    "\n",
    "print('True * False = ',True * False,type(True + True))\n",
    "\n",
    "print('True / False =',True / False,type(True + True)) # ZeroDivisionError: division by zero"
   ]
  },
  {
   "cell_type": "code",
   "execution_count": 19,
   "metadata": {},
   "outputs": [
    {
     "name": "stdout",
     "output_type": "stream",
     "text": [
      "True and True =  True <class 'bool'>\n",
      "True or False =  True <class 'bool'>\n",
      "not False =  True <class 'bool'>\n",
      "not True = False <class 'bool'>\n"
     ]
    }
   ],
   "source": [
    "# typ logiczny traktowany jako całkowity  True =1, False =0\n",
    "\n",
    "print('True and True = ',True and True, type(True and True))\n",
    "\n",
    "print('True or False = ',True or False,type(True or True))\n",
    "\n",
    "print('not False = ',not False,type(not False))\n",
    "\n",
    "print('not True =',not True,type(not True))"
   ]
  },
  {
   "cell_type": "markdown",
   "metadata": {
    "collapsed": true
   },
   "source": [
    "### Instrukcja warunkowa"
   ]
  },
  {
   "cell_type": "code",
   "execution_count": 11,
   "metadata": {},
   "outputs": [
    {
     "name": "stdout",
     "output_type": "stream",
     "text": [
      "Prawda jest najważniejsza\n",
      "\n",
      "a jest większe lub równe 50\n"
     ]
    }
   ],
   "source": [
    "# instrukcja warunkowa if\n",
    "\n",
    "# wykona się jeśli wartość logiczna warunku jest prawdziwa\n",
    "if True:\n",
    "  print('Prawda jest najważniejsza\\n')\n",
    "\n",
    "# nie wykona się jeśli wartość logiczna warunku jest fałszywa\n",
    "\n",
    "   \n",
    "if False:\n",
    "  print('Ta instrukcja się nie wykona.')\n",
    "    \n",
    "    \n",
    "# wykonanie polecenia1 jeśli warunek jest prawdziwy a polecenie2 jeśli falszywy\n",
    "\n",
    "'''\n",
    "if ( warunek ):\n",
    "    polecenie1\n",
    "else:\n",
    "    polecenie2\n",
    "'''\n",
    "\n",
    "a=100\n",
    "\n",
    "if a<50:\n",
    "  print('a jest mniejsze niż 50')\n",
    "else:\n",
    "  print('a jest większe lub równe 50')\n",
    "    \n",
    "    \n",
    "\n",
    "    "
   ]
  },
  {
   "cell_type": "code",
   "execution_count": 9,
   "metadata": {},
   "outputs": [
    {
     "name": "stdout",
     "output_type": "stream",
     "text": [
      "a jest większe niż 50\n",
      "a jest równe 50\n",
      "a jest mniejsze niż 50\n"
     ]
    }
   ],
   "source": [
    "a=53\n",
    "\n",
    "# instrukcja warunkowa z elif i else\n",
    "if a > 50:\n",
    "    # to się wykona jeśli  warunek jest prawdziwy\n",
    "    print(\"a jest większe niż 50\")\n",
    "elif a == 50:\n",
    "    # w przeciwnym przypadku, jeśli warunek jest prawdziwy\n",
    "    print(\"a jest równe 50\")\n",
    "else:\n",
    "    # w pozostałych przypadkach\n",
    "    print(\"a jest mniejsze niż 50\")\n",
    "    \n",
    "    \n",
    "a=50\n",
    "# instrukcja warunkowa z elif i else\n",
    "if a > 50:\n",
    "    # to się wykona jeśli  warunek jest prawdziwy\n",
    "    print(\"a jest większe niż 50\")\n",
    "elif a == 50:\n",
    "    # w przeciwnym przypadku, jeśli warunek jest prawdziwy\n",
    "    print(\"a jest równe 50\")\n",
    "else:\n",
    "    # w pozostałych przypadkach\n",
    "    print(\"a jest mniejsze niż 50\")\n",
    "    \n",
    "a=47\n",
    "# instrukcja warunkowa z elif i else\n",
    "if a > 50:\n",
    "    # to się wykona jeśli  warunek jest prawdziwy\n",
    "    print(\"a jest większe niż 50\")\n",
    "elif a == 50:\n",
    "    # w przeciwnym przypadku, jeśli warunek jest prawdziwy\n",
    "    print(\"a jest równe 50\")\n",
    "else:\n",
    "    # w pozostałych przypadkach\n",
    "    print(\"a jest mniejsze niż 50\")  "
   ]
  },
  {
   "cell_type": "code",
   "execution_count": null,
   "metadata": {},
   "outputs": [],
   "source": [
    "# wykorzystanie  funkcji input\n",
    "\n",
    "print(\"Podaj liczbę:\", end=' ')\n",
    "\n",
    "raw_x = input() # pobieramy napis z wejścia standardowego (klawiatury)\n",
    "x = eval(raw_x) #  próba interpretacji napisu tak jak wyrażenia języka Python\n",
    "\n",
    "print('Wprowadzona liczba w stanie surowym: ',raw_x,type(raw_x),' Po ewaluacji :',x, type(x))\n",
    "\n",
    "if x<10:\n",
    "    print('Wprowadzona liczba jest mniejsza niż 10')\n",
    "elif x == 10:\n",
    "    # w przeciwnym przypadku, jeśli warunek jest prawdziwy\n",
    "    print(\"Wprowadzona liczba jest równa 10\")\n",
    "else:\n",
    "    # w pozostałych przypadkach\n",
    "    print(\"Wprowadzona liczba jest większa niż 10\")  \n"
   ]
  },
  {
   "cell_type": "markdown",
   "metadata": {},
   "source": [
    "### Petle"
   ]
  },
  {
   "cell_type": "code",
   "execution_count": null,
   "metadata": {},
   "outputs": [],
   "source": []
  },
  {
   "cell_type": "markdown",
   "metadata": {},
   "source": [
    "#### Petla for"
   ]
  },
  {
   "cell_type": "code",
   "execution_count": 23,
   "metadata": {},
   "outputs": [
    {
     "name": "stdout",
     "output_type": "stream",
     "text": [
      "liczni k=  1\n",
      "liczni k=  2\n",
      "liczni k=  3\n",
      "liczni k=  4\n",
      "Litera =  A\n",
      "Litera =  l\n",
      "Litera =  a\n",
      "Litera =   \n",
      "Litera =  m\n",
      "Litera =  a\n",
      "Litera =   \n",
      "Litera =  k\n",
      "Litera =  o\n",
      "Litera =  t\n",
      "Litera =  a\n",
      "Owoc = gruszka\n",
      "Owoc = jabłko\n",
      "Owoc = śliwka\n",
      "licznik = 1\n",
      "licznik = 2\n",
      "licznik = 3\n",
      "licznik = 4\n",
      "licznik = 5\n",
      "licznik = 6\n",
      "licznik = 7\n",
      "licznik = 8\n",
      "licznik = 9\n",
      "licznik = 10\n",
      "Koniec i bomba!\n",
      "licznik =  0  \n",
      "licznik =  1  \n",
      "licznik =  2  \n",
      "licznik =  3  \n",
      "licznik =  4  \n",
      "licznik =  5  \n",
      "licznik =  6  \n",
      "licznik =  7  \n",
      "licznik =  8  \n",
      "licznik =  9  \n",
      "Koniec i bomba!\n"
     ]
    }
   ],
   "source": [
    "# iteracja po liczbach całkowitych\n",
    "for licznik in (1,2,3,4):\n",
    "    print('liczni k= ',licznik)\n",
    "\n",
    "    \n",
    "# iteracja po elementach napisu\n",
    "\n",
    "napis1='Ala ma kota'    \n",
    "for litera in (range(len(napis1))):\n",
    "    print ('Litera = ', napis1[litera])\n",
    "                \n",
    "# iteracja po liście\n",
    "\n",
    "owoce = ['gruszka', 'jabłko',  'śliwka']\n",
    "\n",
    "for owoc in range(len(owoce)):\n",
    "    print ('Owoc =',owoce[owoc] )\n",
    "        \n",
    "# petla for z dodatkowa klauzula else: na koncu\n",
    "\n",
    "for licznik in range(1,11):\n",
    "    print('licznik =',licznik)\n",
    "else:\n",
    "    print('Koniec i bomba!')       \n",
    "    \n",
    "    \n",
    "    \n",
    "for licznik in range(10) :\n",
    "        print('licznik = ',licznik,' ',end='\\n')\n",
    "else:\n",
    "        print('Koniec i bomba!')       "
   ]
  },
  {
   "cell_type": "code",
   "execution_count": null,
   "metadata": {},
   "outputs": [],
   "source": []
  },
  {
   "cell_type": "code",
   "execution_count": null,
   "metadata": {},
   "outputs": [],
   "source": []
  },
  {
   "cell_type": "markdown",
   "metadata": {},
   "source": [
    "#### Petla while"
   ]
  },
  {
   "cell_type": "code",
   "execution_count": 24,
   "metadata": {},
   "outputs": [
    {
     "name": "stdout",
     "output_type": "stream",
     "text": [
      "Iteracja :  0\n",
      "Iteracja :  1\n",
      "Iteracja :  2\n",
      "Iteracja :  3\n",
      "Iteracja :  4\n"
     ]
    }
   ],
   "source": [
    "# wykonuj blok instrukcji dopóki warunek jest spełniony\n",
    "#while warunek:\n",
    "#   instrukcje\n",
    "i=0\n",
    "while i<5: # dopoki warunek jest prawdziwy\n",
    "    print('Iteracja : ',i)\n",
    "    i=i+1"
   ]
  },
  {
   "cell_type": "code",
   "execution_count": 33,
   "metadata": {},
   "outputs": [
    {
     "name": "stdout",
     "output_type": "stream",
     "text": [
      "Iteracja :  0\n",
      "Iteracja :  1\n",
      "Iteracja :  2\n",
      "Iteracja :  3\n",
      "Iteracja :  4\n",
      "Koniec pętli.\n"
     ]
    }
   ],
   "source": [
    "# z dodaniem else:\n",
    "i=0\n",
    "while i<5: # dopoki warunek jest prawdziwy\n",
    "    print('Iteracja : ',i)\n",
    "    i=i+1\n",
    "else:  # wykona się na koncu petli \n",
    "    print('Koniec pętli.') \n"
   ]
  },
  {
   "cell_type": "code",
   "execution_count": 34,
   "metadata": {},
   "outputs": [
    {
     "name": "stdout",
     "output_type": "stream",
     "text": [
      "Koniec pustej pętli.\n"
     ]
    }
   ],
   "source": [
    "# działa nawet dla pustej petli\n",
    "i=0\n",
    "while i>5: # dopoki warunek jest prawdziwy, w tym przypadku nigdy\n",
    "    print('Iteracja : ',i)\n",
    "    i=i+1\n",
    "else:  # wykona się na koncu petli \n",
    "    print('Koniec pustej pętli.')\n"
   ]
  },
  {
   "cell_type": "markdown",
   "metadata": {},
   "source": [
    "#### Dodatkowe sterowanie w petli\n",
    "break - przerwij pętlę\n",
    "\n",
    "\n",
    "continue - przerwij obecną iterację\n",
    "\n",
    "pass - nie rób nic\n",
    "\n",
    "else - wykonuj jeśli pętla zakończyła się inaczej niż break\n",
    "\n",
    "\n"
   ]
  },
  {
   "cell_type": "markdown",
   "metadata": {},
   "source": [
    "#### break"
   ]
  },
  {
   "cell_type": "code",
   "execution_count": 49,
   "metadata": {},
   "outputs": [
    {
     "name": "stdout",
     "output_type": "stream",
     "text": [
      "Iteracja dla i : 1\n",
      "Iteracja dla i : 2\n",
      "Iteracja dla i : 3\n"
     ]
    }
   ],
   "source": [
    "for i in range(1,6): # od 1 do 5\n",
    "    if i>3: # nie wykona się Iteracja dla i : 4,5\n",
    "       break\n",
    "        \n",
    "    print('Iteracja dla i :',i)\n",
    "    "
   ]
  },
  {
   "cell_type": "markdown",
   "metadata": {},
   "source": [
    "#### continue"
   ]
  },
  {
   "cell_type": "code",
   "execution_count": 51,
   "metadata": {},
   "outputs": [
    {
     "name": "stdout",
     "output_type": "stream",
     "text": [
      "Iteracja dla i : 1\n",
      "Iteracja dla i : 3\n",
      "Iteracja dla i : 5\n"
     ]
    }
   ],
   "source": [
    "for i in range(1,6): # od 1 do 5\n",
    "    if i%2==0:\n",
    "      continue # pomijamy parzyste i\n",
    "    print('Iteracja dla i :',i)   "
   ]
  },
  {
   "cell_type": "markdown",
   "metadata": {},
   "source": [
    "#### pass "
   ]
  },
  {
   "cell_type": "code",
   "execution_count": 52,
   "metadata": {},
   "outputs": [
    {
     "name": "stdout",
     "output_type": "stream",
     "text": [
      "Iteracja dla i : 1\n",
      "Iteracja dla i : 2\n",
      "Iteracja dla i : 3\n",
      "Iteracja dla i : 4\n",
      "Iteracja dla i : 5\n"
     ]
    }
   ],
   "source": [
    "for i in range(1,6): # od 1 do 5\n",
    "    if i%2==0:\n",
    "      pass # nic nie rób\n",
    "    print('Iteracja dla i :',i)   "
   ]
  },
  {
   "cell_type": "code",
   "execution_count": 54,
   "metadata": {},
   "outputs": [
    {
     "name": "stdout",
     "output_type": "stream",
     "text": [
      "Iteracja dla i : 1\n",
      "Iteracja dla i : 3\n",
      "Iteracja dla i : 5\n",
      "Iteracja dla i : 7\n",
      "Iteracja dla i : 9\n"
     ]
    }
   ],
   "source": [
    "for i in range(1,11): # od 1 do 10\n",
    "    if i%2==0:\n",
    "      pass # nic nie rób\n",
    "    else: # wykona się dla nieparzystych i\n",
    "      print('Iteracja dla i :',i)   "
   ]
  },
  {
   "cell_type": "markdown",
   "metadata": {},
   "source": [
    "#### else"
   ]
  },
  {
   "cell_type": "code",
   "execution_count": 56,
   "metadata": {},
   "outputs": [
    {
     "name": "stdout",
     "output_type": "stream",
     "text": [
      "Iteracja dla i : 1\n",
      "Iteracja dla i : 2\n",
      "Iteracja dla i : 3\n",
      "Iteracja dla i : 4\n",
      "Iteracja dla i : 5\n",
      "Koniec pętli.\n"
     ]
    }
   ],
   "source": [
    "#  wykonanie instrukcji na końcu pętli\n",
    "\n",
    "for i in range(1,6): # od 1 do 5\n",
    "    if i%2==0:\n",
    "      pass # nic nie rób\n",
    "    print('Iteracja dla i :',i)  \n",
    "else:\n",
    "    print('Koniec pętli.')"
   ]
  },
  {
   "cell_type": "code",
   "execution_count": 60,
   "metadata": {},
   "outputs": [
    {
     "name": "stdout",
     "output_type": "stream",
     "text": [
      "Iteracja dla i : 1\n",
      "Iteracja dla i : 2\n",
      "Iteracja dla i : 3\n",
      "Iteracja dla i : 4\n",
      "Iteracja dla i : 5\n"
     ]
    }
   ],
   "source": [
    "# Przyklad petli for z  else, który nie zostanie wykonany . \n",
    "for i in range(1,11): # od 1 do 10\n",
    "    if i%2==0:\n",
    "      pass # nic nie rób\n",
    "    print('Iteracja dla i :',i)  \n",
    "    if i%5==0: # konczymy na i=5\n",
    "        break\n",
    "else: #  ta czesc nie wykona się \n",
    "    print('Koniec pętli.')"
   ]
  }
 ],
 "metadata": {
  "kernelspec": {
   "display_name": "Python 3.6",
   "language": "python",
   "name": "python36"
  },
  "language_info": {
   "codemirror_mode": {
    "name": "ipython",
    "version": 3
   },
   "file_extension": ".py",
   "mimetype": "text/x-python",
   "name": "python",
   "nbconvert_exporter": "python",
   "pygments_lexer": "ipython3",
   "version": "3.6.3"
  }
 },
 "nbformat": 4,
 "nbformat_minor": 2
}
