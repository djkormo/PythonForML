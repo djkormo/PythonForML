{
 "cells": [
  {
   "cell_type": "markdown",
   "metadata": {},
   "source": [
    "### Operacje logiczne"
   ]
  },
  {
   "cell_type": "code",
   "execution_count": 21,
   "metadata": {},
   "outputs": [
    {
     "name": "stdout",
     "output_type": "stream",
     "text": [
      "0 < 1 :  True\n",
      "0 > 1 :  False\n",
      "0 <= 1 :  True\n",
      "0 >= 1 :  False\n",
      "1 == 0 :  False\n",
      "1 == 1 :  True\n",
      "1 != 0 :  True\n",
      " False\n"
     ]
    }
   ],
   "source": [
    "# zacznijmy od porownań \n",
    "\n",
    "# czy zero jest mniejsze niż jeden\n",
    "\n",
    "print('0 < 1 : ',0 < 1)  #True\n",
    "\n",
    "# czy zero jest większe niż jeden\n",
    "\n",
    "print('0 > 1 : ',0 > 1)  #False\n",
    "\n",
    "# czy zero jest mniejsze lub równe jeden\n",
    "\n",
    "print('0 <= 1 : ',0 <= 1) #True\n",
    "\n",
    "# czy zero jest większe lub równe jeden\n",
    "\n",
    "print('0 >= 1 : ',0 >= 1) #False\n",
    "\n",
    "# czy jeden jest równe zero\n",
    "\n",
    "print('1 == 0 : ',1 == 0) #False\n",
    "\n",
    "# czy jeden jest rowne jeden\n",
    "\n",
    "print('1 == 1 : ',1 == 1) #True\n",
    "\n",
    "# czy jeden jest różne od zera\n",
    "print('1 != 0 : ',1 != 0) #True\n",
    "\n",
    "# czy jeden jest rózne od jeden\n",
    "\n",
    "print('',1!= 1) #False"
   ]
  },
  {
   "cell_type": "markdown",
   "metadata": {
    "collapsed": true
   },
   "source": [
    "### Instrukcja warunkowa"
   ]
  },
  {
   "cell_type": "code",
   "execution_count": 11,
   "metadata": {},
   "outputs": [
    {
     "name": "stdout",
     "output_type": "stream",
     "text": [
      "Prawda jest najważniejsza\n",
      "\n",
      "a jest większe lub równe 50\n"
     ]
    }
   ],
   "source": [
    "# instrukcja warunkowa if\n",
    "\n",
    "# wykona się jeśli wartość logiczna warunku jest prawdziwa\n",
    "if True:\n",
    "  print('Prawda jest najważniejsza\\n')\n",
    "\n",
    "# nie wykona się jeśli wartość logiczna warunku jest fałszywa\n",
    "\n",
    "   \n",
    "if False:\n",
    "  print('Ta instrukcja się nie wykona.')\n",
    "    \n",
    "    \n",
    "# wykonanie polecenia1 jeśli warunek jest prawdziwy a polecenie2 jeśli falszywy\n",
    "\n",
    "'''\n",
    "if ( warunek ):\n",
    "    polecenie1\n",
    "else:\n",
    "    polecenie2\n",
    "'''\n",
    "\n",
    "a=100\n",
    "\n",
    "if a<50:\n",
    "  print('a jest mniejsze niż 50')\n",
    "else:\n",
    "  print('a jest większe lub równe 50')\n",
    "    \n",
    "    \n"
   ]
  },
  {
   "cell_type": "code",
   "execution_count": null,
   "metadata": {},
   "outputs": [],
   "source": []
  },
  {
   "cell_type": "code",
   "execution_count": null,
   "metadata": {},
   "outputs": [],
   "source": []
  },
  {
   "cell_type": "markdown",
   "metadata": {},
   "source": [
    "### Petle"
   ]
  },
  {
   "cell_type": "code",
   "execution_count": null,
   "metadata": {},
   "outputs": [],
   "source": []
  },
  {
   "cell_type": "markdown",
   "metadata": {},
   "source": [
    "#### Petla for"
   ]
  },
  {
   "cell_type": "code",
   "execution_count": null,
   "metadata": {},
   "outputs": [],
   "source": []
  },
  {
   "cell_type": "markdown",
   "metadata": {},
   "source": [
    "#### Petla while"
   ]
  },
  {
   "cell_type": "code",
   "execution_count": null,
   "metadata": {},
   "outputs": [],
   "source": []
  },
  {
   "cell_type": "code",
   "execution_count": null,
   "metadata": {},
   "outputs": [],
   "source": []
  }
 ],
 "metadata": {
  "kernelspec": {
   "display_name": "Python 3.6",
   "language": "python",
   "name": "python36"
  },
  "language_info": {
   "codemirror_mode": {
    "name": "ipython",
    "version": 3
   },
   "file_extension": ".py",
   "mimetype": "text/x-python",
   "name": "python",
   "nbconvert_exporter": "python",
   "pygments_lexer": "ipython3",
   "version": "3.6.3"
  }
 },
 "nbformat": 4,
 "nbformat_minor": 2
}
