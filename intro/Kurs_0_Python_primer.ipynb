{
 "cells": [
  {
   "cell_type": "markdown",
   "metadata": {},
   "source": [
    "### Powitanie"
   ]
  },
  {
   "cell_type": "code",
   "execution_count": null,
   "metadata": {},
   "outputs": [],
   "source": [
    "print(\"WItamy w świecie Pythona\")"
   ]
  },
  {
   "cell_type": "code",
   "execution_count": null,
   "metadata": {},
   "outputs": [],
   "source": [
    "# Jaka mamy wersje Pythona 2, czy 3 \n",
    "import sys\n",
    "print (\"Używana wersja Pythona to: \", sys.version)"
   ]
  },
  {
   "cell_type": "markdown",
   "metadata": {},
   "source": [
    "### Podstawowe typy danych\n",
    "#### całkowite\n",
    "#### rzeczywiste\n",
    "#### logiczne\n",
    "#### napisy"
   ]
  },
  {
   "cell_type": "code",
   "execution_count": null,
   "metadata": {},
   "outputs": [],
   "source": [
    "# Python jako kalkulator\n",
    "\n",
    "1+2"
   ]
  },
  {
   "cell_type": "code",
   "execution_count": null,
   "metadata": {},
   "outputs": [],
   "source": [
    "# Priorytety operatorów  dodawania i mnożenia\n",
    "\n",
    "1+2*3"
   ]
  },
  {
   "cell_type": "code",
   "execution_count": null,
   "metadata": {},
   "outputs": [],
   "source": [
    "# wymuszanie priorytetow operacji\n",
    "\n",
    "(1+2)*3"
   ]
  },
  {
   "cell_type": "code",
   "execution_count": null,
   "metadata": {},
   "outputs": [],
   "source": [
    "# dzielenie, którego wynikiem jest wartość rzeczywista\n",
    "\n",
    "1/2"
   ]
  },
  {
   "cell_type": "code",
   "execution_count": null,
   "metadata": {},
   "outputs": [],
   "source": [
    "# dzielenie, ktorego wynikiem jest nadal wartość rzeczywista\n",
    "\n",
    "4.0/2.0"
   ]
  },
  {
   "cell_type": "code",
   "execution_count": null,
   "metadata": {},
   "outputs": [],
   "source": [
    "# dzielenie calkowite 5//2 -> 2 ile razy zmieście się 2 w 5\n",
    "\n",
    "5//2"
   ]
  },
  {
   "cell_type": "code",
   "execution_count": null,
   "metadata": {},
   "outputs": [],
   "source": [
    "# nie mylić dzielenia całkowitego // z resztą z dzielenia całkowitego % 5%2 -> 1 , ile zostanie z podzialu 5 na 2 cześci\n",
    "5%2"
   ]
  },
  {
   "cell_type": "code",
   "execution_count": null,
   "metadata": {},
   "outputs": [],
   "source": [
    "# typ całkowity, wykorzystaju tu metodę type\n",
    "\n",
    "type(2)"
   ]
  },
  {
   "cell_type": "code",
   "execution_count": null,
   "metadata": {},
   "outputs": [],
   "source": [
    "# typ rzeczywisty\n",
    "\n",
    "type(2.0)"
   ]
  },
  {
   "cell_type": "code",
   "execution_count": null,
   "metadata": {},
   "outputs": [],
   "source": [
    "# typ logiczny, rylko dwa stany False, True\n",
    "type(False)"
   ]
  },
  {
   "cell_type": "code",
   "execution_count": null,
   "metadata": {},
   "outputs": [],
   "source": [
    "# a teraz prawda\n",
    "type (True)"
   ]
  },
  {
   "cell_type": "markdown",
   "metadata": {},
   "source": [
    "### Zmienne"
   ]
  },
  {
   "cell_type": "code",
   "execution_count": null,
   "metadata": {},
   "outputs": [],
   "source": [
    "# zapiszmy wartość w zmiennej a\n",
    "\n",
    "a=102\n",
    "\n",
    "# wyświetlamy jej wartość\n",
    "\n",
    "print(a)\n",
    "\n",
    "# wyświetlamy jej typ\n",
    "\n",
    "print(type(a))"
   ]
  },
  {
   "cell_type": "code",
   "execution_count": null,
   "metadata": {},
   "outputs": [],
   "source": [
    "# python jest typowany dynamiczne, typ zmiennej a moze się zmieniać w czasie\n",
    "\n",
    "a=2.1\n",
    "\n",
    "# wyswietlmy jej wartość\n",
    "\n",
    "print(a)\n",
    "\n",
    "# wyswietlmy jej typ\n",
    "\n",
    "print(type(a))"
   ]
  },
  {
   "cell_type": "code",
   "execution_count": null,
   "metadata": {},
   "outputs": [],
   "source": [
    "#usuwanie zmiennych\n",
    "\n",
    "a=2.5\n",
    "print(a)\n",
    "\n",
    "#usuwamy zmienną a\n",
    "\n",
    "del a\n",
    "\n",
    "#uzycie usuniętej zmiennej konczy się błędem\n",
    "\n",
    "print(a)"
   ]
  },
  {
   "cell_type": "code",
   "execution_count": null,
   "metadata": {},
   "outputs": [],
   "source": [
    "#Python rozróżnia duże i małe litery\n",
    "\n",
    "b=1.0\n",
    "print(B) #name 'B' is not defined"
   ]
  },
  {
   "cell_type": "code",
   "execution_count": null,
   "metadata": {},
   "outputs": [],
   "source": [
    "a=1 # zmienny typu całkowitego (int)\n",
    "f=1.0 # zmienna typu rzeczywistego (float)\n",
    "s=\"Napis\" # zmianna napisowa\n",
    "\n",
    "print(a+f) # 2.0\n",
    "print(f+s) #TypeError: unsupported operand type(s) for +: 'float' and 'str'\n",
    "print(s+a) #TypeError: must be str, not int"
   ]
  },
  {
   "cell_type": "code",
   "execution_count": null,
   "metadata": {},
   "outputs": [],
   "source": [
    "#### Zmienne logiczne"
   ]
  },
  {
   "cell_type": "code",
   "execution_count": null,
   "metadata": {},
   "outputs": [],
   "source": [
    "#typy logiczne przyjmują tylko dwie wartości prawda/fałsz\n",
    "\n",
    "l1=True\n",
    "l2=False\n",
    "\n",
    "#wyswietlamy wartośc obu zmiennych\n",
    "\n",
    "print(l1,l2)\n",
    "print(type(l1))\n",
    "\n",
    "#operator  iloczynu logicznego AND\n",
    "\n",
    "print(l1 and l2)\n",
    "\n",
    "#operator sumy logicznej OR\n",
    "\n",
    "print(l1 or l2)\n",
    "\n",
    "# operator negacji NOT\n",
    "\n",
    "print (not l2)\n",
    "\n",
    "# alternatywa rozłączna XOR\n",
    "\n",
    "print (l1 != l2)"
   ]
  },
  {
   "cell_type": "code",
   "execution_count": null,
   "metadata": {},
   "outputs": [],
   "source": []
  },
  {
   "cell_type": "code",
   "execution_count": null,
   "metadata": {},
   "outputs": [],
   "source": []
  },
  {
   "cell_type": "code",
   "execution_count": null,
   "metadata": {},
   "outputs": [],
   "source": []
  },
  {
   "cell_type": "code",
   "execution_count": null,
   "metadata": {},
   "outputs": [],
   "source": []
  },
  {
   "cell_type": "markdown",
   "metadata": {},
   "source": [
    "#### Konwersje"
   ]
  },
  {
   "cell_type": "code",
   "execution_count": 2,
   "metadata": {},
   "outputs": [
    {
     "data": {
      "text/plain": [
       "1.0"
      ]
     },
     "execution_count": 2,
     "metadata": {},
     "output_type": "execute_result"
    }
   ],
   "source": [
    "# konwersja typu całkowitego na rzeczywisty, metoda float()\n",
    "\n",
    "float(1)"
   ]
  },
  {
   "cell_type": "code",
   "execution_count": 3,
   "metadata": {},
   "outputs": [
    {
     "data": {
      "text/plain": [
       "1"
      ]
     },
     "execution_count": 3,
     "metadata": {},
     "output_type": "execute_result"
    }
   ],
   "source": [
    "# konwersja typu rzeczywistego na całkowity, metoda int\n",
    "\n",
    "int(1.0)"
   ]
  },
  {
   "cell_type": "code",
   "execution_count": null,
   "metadata": {},
   "outputs": [],
   "source": [
    "# konwersja typu całkowitego na rzeczywisty\n",
    "bool(1.0)"
   ]
  },
  {
   "cell_type": "code",
   "execution_count": null,
   "metadata": {},
   "outputs": [],
   "source": [
    "#konwersja typu logicznego na całkowity \n",
    "\n",
    "a1=int(True)\n",
    "a2=int(False)\n",
    "print('poczatek: ',a1,a2)\n",
    "\n",
    "#konwersja typu całkowitego na logiczny 0 -> False, pozostałe liczby -> True\n",
    "\n",
    "b1=bool(-1)\n",
    "b2=bool(0)\n",
    "b3=bool(1)\n",
    "b4=bool(2)\n",
    "print('konwersja z int: ',b1,b2,b3,b4)\n",
    "\n",
    "\n",
    "#konwersja typu  rzeczywistego na logiczny 0.0 -> False, pozostałe liczby -> True\n",
    "\n",
    "b11=bool(-1.0)\n",
    "b21=bool(0.0)\n",
    "b31=bool(1.5)\n",
    "b41=bool(5.6)\n",
    "print('konwersja z float:', b11,b21,b31,b41)\n",
    "\n",
    "\n",
    "# konwersja napisu na typ logiczny, pusty napis -> False, pozostałe -> True\n",
    "\n",
    "b12=bool('')\n",
    "b22=bool('Ala')\n",
    "b32=bool('ma')\n",
    "b42=bool('kota')\n",
    "print('KOnwersja ze string: ',b12,b22,b32,b42)"
   ]
  },
  {
   "cell_type": "code",
   "execution_count": null,
   "metadata": {},
   "outputs": [],
   "source": [
    "#konwesja typu łańcuchowego i liczowego\n",
    "\n",
    "s1='13'\n",
    "s2='12'\n",
    "a1=int(s1+s2)\n",
    "print(a1)\n",
    "print(type(a1))\n",
    "\n",
    "# konwersja połączona z operarorem potęgowania **\n",
    "\n",
    "a2=int(s1)**2\n",
    "print(a2)\n",
    "print(type(a2))\n",
    "\n",
    "# konwersja typu łańcuchowego przez typ całowity do typu rzeczywistego\n",
    "\n",
    "f1 = float(int(a1)-int(a2))\n",
    "print(f1, type(f1))\n",
    "\n",
    "# konwersja typu rzeczywistego na łańcuchowy\n",
    "\n",
    "s3=str(f1)\n",
    "print(s3,type(s3))\n",
    "\n",
    "1312\n",
    "<class 'int'>\n",
    "169\n",
    "<class 'int'>\n",
    "1143.0 <class 'float'>\n",
    "1143.0 <class 'str'>\n",
    "\n"
   ]
  },
  {
   "cell_type": "markdown",
   "metadata": {},
   "source": [
    "### Zmienne napisowe"
   ]
  },
  {
   "cell_type": "code",
   "execution_count": null,
   "metadata": {},
   "outputs": [],
   "source": []
  },
  {
   "cell_type": "markdown",
   "metadata": {},
   "source": [
    "#### Zmienne"
   ]
  },
  {
   "cell_type": "code",
   "execution_count": 5,
   "metadata": {},
   "outputs": [
    {
     "name": "stdout",
     "output_type": "stream",
     "text": [
      "102\n",
      "<class 'int'>\n"
     ]
    }
   ],
   "source": [
    "# zapiszmy wartość w zmiennej a\n",
    "\n",
    "a=102\n",
    "\n",
    "# wyświetlamy jej wartość\n",
    "\n",
    "print(a)\n",
    "\n",
    "# wyświetlamy jej typ\n",
    "\n",
    "print(type(a))"
   ]
  },
  {
   "cell_type": "code",
   "execution_count": 6,
   "metadata": {},
   "outputs": [
    {
     "name": "stdout",
     "output_type": "stream",
     "text": [
      "2.1\n",
      "<class 'float'>\n"
     ]
    }
   ],
   "source": [
    "# python jest typowany dynamiczne, typ zmiennej a moze się zmieniać w czasie\n",
    "\n",
    "a=2.1\n",
    "\n",
    "# wyswietlmy jej wartość\n",
    "\n",
    "print(a)\n",
    "\n",
    "# wyswietlmy jej typ\n",
    "\n",
    "print(type(a))"
   ]
  },
  {
   "cell_type": "code",
   "execution_count": null,
   "metadata": {},
   "outputs": [],
   "source": [
    "# Python jest silnie typowany, co oznacza, musimy kontrolować typy zmiennych przy operacjach miedzy nimi "
   ]
  },
  {
   "cell_type": "code",
   "execution_count": 7,
   "metadata": {},
   "outputs": [
    {
     "name": "stdout",
     "output_type": "stream",
     "text": [
      "2.5\n"
     ]
    },
    {
     "ename": "NameError",
     "evalue": "name 'a' is not defined",
     "output_type": "error",
     "traceback": [
      "\u001b[0;31m---------------------------------------------------------------------------\u001b[0m",
      "\u001b[0;31mNameError\u001b[0m                                 Traceback (most recent call last)",
      "\u001b[0;32m<ipython-input-7-5735354ccda8>\u001b[0m in \u001b[0;36m<module>\u001b[0;34m()\u001b[0m\n\u001b[1;32m     10\u001b[0m \u001b[0;31m#uzycie usuniętej zmiennej konczy się błędem\u001b[0m\u001b[0;34m\u001b[0m\u001b[0;34m\u001b[0m\u001b[0m\n\u001b[1;32m     11\u001b[0m \u001b[0;34m\u001b[0m\u001b[0m\n\u001b[0;32m---> 12\u001b[0;31m \u001b[0mprint\u001b[0m\u001b[0;34m(\u001b[0m\u001b[0ma\u001b[0m\u001b[0;34m)\u001b[0m\u001b[0;34m\u001b[0m\u001b[0m\n\u001b[0m",
      "\u001b[0;31mNameError\u001b[0m: name 'a' is not defined"
     ]
    }
   ],
   "source": [
    "#usuwanie zmiennych\n",
    "\n",
    "a=2.5\n",
    "print(a)\n",
    "\n",
    "#usuwamy zmienną a\n",
    "\n",
    "del a\n",
    "\n",
    "#uzycie usuniętej zmiennej konczy się błędem\n",
    "\n",
    "print(a)"
   ]
  },
  {
   "cell_type": "code",
   "execution_count": null,
   "metadata": {},
   "outputs": [],
   "source": [
    "#Python rozróżnia duże i małe litery\n",
    "\n",
    "b=1.0\n",
    "print(B) #name 'B' is not defined"
   ]
  },
  {
   "cell_type": "code",
   "execution_count": null,
   "metadata": {},
   "outputs": [],
   "source": [
    "#Python rozróżnia duże i małe litery\n",
    "\n",
    "b=1.0\n",
    "print(B) #name 'B' is not defined"
   ]
  },
  {
   "cell_type": "code",
   "execution_count": null,
   "metadata": {},
   "outputs": [],
   "source": [
    "#typy logiczne przyjmują tylko dwie wartości prawda/fałsz\n",
    "\n",
    "l1=True\n",
    "l2=False\n",
    "\n",
    "#wyswietlamy wartośc obu zmiennych\n",
    "\n",
    "print(l1,l2)\n",
    "print(type(l1))\n",
    "\n",
    "#operator  iloczynu logicznego AND\n",
    "\n",
    "print(l1 and l2)\n",
    "\n",
    "#operator sumy logicznej OR\n",
    "\n",
    "print(l1 or l2)\n",
    "\n",
    "# operator negacji NOT\n",
    "\n",
    "print (not l2)\n",
    "\n",
    "# alternatywa rozłączna XOR\n",
    "\n",
    "print (l1 != l2)"
   ]
  },
  {
   "cell_type": "code",
   "execution_count": null,
   "metadata": {},
   "outputs": [],
   "source": [
    "a=1 # zmienny typu całkowitego (int)\n",
    "f=1.0 # zmienna typu rzeczywistego (float)\n",
    "s=\"Napis\" # zmianna napisowa\n",
    "\n",
    "print(a+f) # 2.0\n",
    "print(f+s) #TypeError: unsupported operand type(s) for +: 'float' and 'str'\n",
    "print(s+a) #TypeError: must be str, not int"
   ]
  },
  {
   "cell_type": "markdown",
   "metadata": {},
   "source": [
    "### System pomocy"
   ]
  },
  {
   "cell_type": "code",
   "execution_count": null,
   "metadata": {},
   "outputs": [],
   "source": [
    "#  polecenie help pozwala na dostęp do systemowej pomocy  Pythona\n",
    "help(print)\n",
    "help(len)"
   ]
  },
  {
   "cell_type": "code",
   "execution_count": null,
   "metadata": {},
   "outputs": [],
   "source": [
    "# istnieje też możliwość otrzymania pomocy wykorzystując składnię Jupitera. To nie jest część języka Python (!)\n",
    "\n",
    "# dodajemy znak ? przed nazwą funkcji\n",
    "\n",
    "?print\n",
    "\n",
    "# to samo jeśli dodamy znak ? po nazwie funkcji\n",
    "\n",
    "print?"
   ]
  },
  {
   "cell_type": "markdown",
   "metadata": {},
   "source": [
    "Po krótkim przeglądzie typów skalarnych i sekwencyjnych przyszedł czas, by pochylić się nad:\n",
    "\n",
    "    Instrukcjami warunkowymi\n",
    "    Pętlami\n",
    "    Wykorzystywaniem gotowych pakietów/modułów\n",
    "\n",
    "Dobre opanowanie instrukcji warunkowych jest podstawą do budowy bardziej skomplikowanych struktur sterujących przebiegiem programu.\n",
    "\n",
    "Należy zapamiętać jak Python traktuje  typ logiczny rzutowany na typ całkowity, gdzie 1 to prawa, a 0 to fałsz.\n",
    "\n",
    "Jak jest wartość logiczna pustej listy, krotki lub słownika ? (sprawdź!)\n",
    "\n",
    "Znajomość typu logicznego, operatorów logicznych i instrukcji warunkowej jest również niezbędna przy budowie funkcji i nieco później przy budowie obiektów\n",
    "\n",
    " \n",
    "\n",
    "Python dostarcza jedynie dwa rodzaje pętli , for oraz while., ale moim zdaniem jest to wystarczający wybór. Możliwa jest iteracja po elementach listy, elementach słownika , elementach napisu czy zakresach. Dodatkowe sterowanie przebiegiem petli w postaci instrukcji break, continue, pass , else:\n",
    "\n",
    "    break – przerwij pętlę\n",
    "    continue – przerwij obecną iterację\n",
    "    pass – nie rób nic\n",
    "    else – wykonuj jeśli pętla zakończyła się inaczej niż break\n",
    "\n",
    "Pozwala na budowę bardziej rozbudowanej logiki niż zwykła iteracja po elementach różnego typu.\n",
    "\n",
    " \n",
    "\n",
    "Jedną z silnych cech Pythona jest liczba dostępnych  i darmowych pakietów, które umożliwiają nam wykorzystanie skomplikowanych algorytmów w prosty sposób.\n",
    "\n",
    "Nie ma sensu wynajdywanie koła od nowa, ale warto poznać podstawowe funkcjonalności i sposób ich wykorzystania\n",
    "\n",
    "Przykładowe pakiety, gdzie praktyką jest stosowanie aliasów"
   ]
  },
  {
   "cell_type": "markdown",
   "metadata": {},
   "source": [
    "#### Instrukcje warunkowe"
   ]
  },
  {
   "cell_type": "code",
   "execution_count": null,
   "metadata": {},
   "outputs": [],
   "source": []
  },
  {
   "cell_type": "markdown",
   "metadata": {},
   "source": [
    "#### Petle"
   ]
  },
  {
   "cell_type": "code",
   "execution_count": null,
   "metadata": {},
   "outputs": [],
   "source": []
  },
  {
   "cell_type": "code",
   "execution_count": null,
   "metadata": {},
   "outputs": [],
   "source": []
  },
  {
   "cell_type": "markdown",
   "metadata": {},
   "source": [
    "#### Funkcje"
   ]
  },
  {
   "cell_type": "code",
   "execution_count": null,
   "metadata": {},
   "outputs": [],
   "source": []
  },
  {
   "cell_type": "markdown",
   "metadata": {},
   "source": [
    "### Kilka sztuczek"
   ]
  },
  {
   "cell_type": "code",
   "execution_count": null,
   "metadata": {},
   "outputs": [],
   "source": [
    "# zamiana wartości dwoch zmiennych\n",
    "\n",
    "z1 =5\n",
    "z2 =7\n",
    "\n",
    "print('Stan wejściowy: ',z1,z2, type(z1),type(z2))\n",
    "\n",
    "# klasycznie za pomocą dodatkowej zmiennej\n",
    "\n",
    "temp= z1\n",
    "z1  = z2\n",
    "z2  = temp\n",
    "\n",
    "print('Stan wyjściowy  z dodatkową zmienną: ',z1,z2, type(z1),type(z2))\n",
    "\n",
    "# sprytnie, bez pomocy dodatkowej zmiennej\n",
    "# tu zastosowano krotkę (tuple) \n",
    "# będzie o tym w dalszej cześć kursu\n",
    "\n",
    "print('Stan wejściowy: ',z1,z2, type(z1),type(z2))\n",
    "\n",
    "# krotka w tle\n",
    "z1, z2 = z2, z1\n",
    "\n",
    "print('Stan wyjściowy z krotką: ',z1,z2, type(z1),type(z2))"
   ]
  },
  {
   "cell_type": "code",
   "execution_count": null,
   "metadata": {},
   "outputs": [],
   "source": [
    "# potegowanie ma wyższy priorytet niż mnożenie, dodawanie, ale również zmianę znaku (operator unarny) (!)\n",
    "\n",
    "print(-2**8)   # wynik -256\n",
    "\n",
    "# w takiej sytuacji zawsze można wymusić priorytet wykorzystująca nawiasy ()\n",
    "\n",
    "print((-2)**8) # wynik 256"
   ]
  },
  {
   "cell_type": "code",
   "execution_count": null,
   "metadata": {},
   "outputs": [],
   "source": [
    "import sys\n",
    "\n",
    "# maksymalnia wartość liczby całkowitej 64 bitowej\n",
    "\n",
    "print(sys.maxsize)\n",
    "\n",
    "amax=amax=2**63 -1\n",
    "\n",
    "print(amax,type(amax))\n",
    "\n",
    "# przekraczamy wartość maksymalną, czy pojawi się błąd ?\n",
    "amax=2**128\n",
    "\n",
    "print(amax,type(amax)) # nadal typu int"
   ]
  },
  {
   "cell_type": "code",
   "execution_count": null,
   "metadata": {},
   "outputs": [],
   "source": [
    "# przykład z poprzedniej komorki, który obrazuje dodawania kolejnych bajtów dla zmiennej całkowitej\n",
    "# rozszerzanie on demand\n",
    "\n",
    "#  mały przedsmak  wykorzystania pętli for\n",
    "\n",
    "x=256\n",
    "for i in range(1,6):\n",
    "  x=x*x\n",
    "  print (\"size:\", x.__sizeof__(), \"value:\", x)"
   ]
  },
  {
   "cell_type": "code",
   "execution_count": null,
   "metadata": {},
   "outputs": [],
   "source": [
    "# liczby całkowite mogą stosować inne systemy niż dziesiętny\n",
    "\n",
    "# system dwójkowy -> liczbe rozpoczybamy od 0b (b= binary)\n",
    "\n",
    "abin=0b1111 # 1*2**3 + 1*2**2 + 1*2**1 +1*2**0 = 8 + 4 + 2 + 1 =15\n",
    "\n",
    "# system usemkowy -> liczbe rozpoczybamy od 0o ( o = octan)\n",
    "\n",
    "aoct = 0o123 # 1*8**2 + 2*8**1 + 3 * 8**0 = 64 + 16 +3 = 83\n",
    "\n",
    "# system szestnastkowy -> liczbe rozpoczybamy od 0x (x = heXal )\n",
    "\n",
    "ahex =0xff # 15*16**1 + 15*16**0 =  240 + 15 = 255\n",
    "\n",
    "print(abin,aoct,ahex)"
   ]
  },
  {
   "cell_type": "code",
   "execution_count": null,
   "metadata": {},
   "outputs": [],
   "source": []
  }
 ],
 "metadata": {
  "kernelspec": {
   "display_name": "Python 3",
   "language": "python",
   "name": "python3"
  },
  "language_info": {
   "codemirror_mode": {
    "name": "ipython",
    "version": 3
   },
   "file_extension": ".py",
   "mimetype": "text/x-python",
   "name": "python",
   "nbconvert_exporter": "python",
   "pygments_lexer": "ipython3",
   "version": "3.6.5"
  }
 },
 "nbformat": 4,
 "nbformat_minor": 2
}
