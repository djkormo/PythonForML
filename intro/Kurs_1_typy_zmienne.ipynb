{
 "cells": [
  {
   "cell_type": "code",
   "execution_count": 1,
   "metadata": {
    "collapsed": false
   },
   "outputs": [
    {
     "name": "stdout",
     "output_type": "stream",
     "text": [
      "Powitanie!\n"
     ]
    }
   ],
   "source": [
    "print(\"Powitanie!\")"
   ]
  },
  {
   "cell_type": "markdown",
   "metadata": {},
   "source": [
    "### Podstawowe typy danych\n",
    "#### całkowite\n",
    "#### rzeczywiste\n",
    "#### logiczne\n",
    "#### napisy "
   ]
  },
  {
   "cell_type": "code",
   "execution_count": 2,
   "metadata": {
    "collapsed": false
   },
   "outputs": [
    {
     "data": {
      "text/plain": [
       "3"
      ]
     },
     "execution_count": 2,
     "metadata": {},
     "output_type": "execute_result"
    }
   ],
   "source": [
    "#Python jako kalkulator\n",
    "\n",
    "1+2"
   ]
  },
  {
   "cell_type": "code",
   "execution_count": 3,
   "metadata": {
    "collapsed": false
   },
   "outputs": [
    {
     "data": {
      "text/plain": [
       "7"
      ]
     },
     "execution_count": 3,
     "metadata": {},
     "output_type": "execute_result"
    }
   ],
   "source": [
    "1+2*3"
   ]
  },
  {
   "cell_type": "code",
   "execution_count": 4,
   "metadata": {
    "collapsed": false
   },
   "outputs": [
    {
     "data": {
      "text/plain": [
       "9"
      ]
     },
     "execution_count": 4,
     "metadata": {},
     "output_type": "execute_result"
    }
   ],
   "source": [
    "# wymuszanie priorytetow operacji\n",
    "\n",
    "(1+2)*3"
   ]
  },
  {
   "cell_type": "code",
   "execution_count": 5,
   "metadata": {
    "collapsed": false
   },
   "outputs": [
    {
     "data": {
      "text/plain": [
       "0.5"
      ]
     },
     "execution_count": 5,
     "metadata": {},
     "output_type": "execute_result"
    }
   ],
   "source": [
    "# dzielenie\n",
    "\n",
    "1/2"
   ]
  },
  {
   "cell_type": "code",
   "execution_count": 6,
   "metadata": {
    "collapsed": false
   },
   "outputs": [
    {
     "data": {
      "text/plain": [
       "2.0"
      ]
     },
     "execution_count": 6,
     "metadata": {},
     "output_type": "execute_result"
    }
   ],
   "source": [
    "# dzielenie, ktorego wynikiem jest wartość rzeczywista\n",
    "\n",
    "4.0/2.0"
   ]
  },
  {
   "cell_type": "code",
   "execution_count": 7,
   "metadata": {
    "collapsed": false
   },
   "outputs": [
    {
     "data": {
      "text/plain": [
       "2"
      ]
     },
     "execution_count": 7,
     "metadata": {},
     "output_type": "execute_result"
    }
   ],
   "source": [
    "#dzielenie calkowite\n",
    "\n",
    "5//2"
   ]
  },
  {
   "cell_type": "code",
   "execution_count": 8,
   "metadata": {
    "collapsed": false
   },
   "outputs": [
    {
     "data": {
      "text/plain": [
       "int"
      ]
     },
     "execution_count": 8,
     "metadata": {},
     "output_type": "execute_result"
    }
   ],
   "source": [
    "#typ całkowity\n",
    "\n",
    "type(2)"
   ]
  },
  {
   "cell_type": "code",
   "execution_count": 9,
   "metadata": {
    "collapsed": false
   },
   "outputs": [
    {
     "data": {
      "text/plain": [
       "float"
      ]
     },
     "execution_count": 9,
     "metadata": {},
     "output_type": "execute_result"
    }
   ],
   "source": [
    "#typ rzeczywisty\n",
    "\n",
    "type(2.0)"
   ]
  },
  {
   "cell_type": "code",
   "execution_count": 10,
   "metadata": {
    "collapsed": false
   },
   "outputs": [
    {
     "data": {
      "text/plain": [
       "1.0"
      ]
     },
     "execution_count": 10,
     "metadata": {},
     "output_type": "execute_result"
    }
   ],
   "source": [
    "#konwersja typu całkowitego na rzeczywisty\n",
    "\n",
    "float(1)"
   ]
  },
  {
   "cell_type": "code",
   "execution_count": 11,
   "metadata": {
    "collapsed": false
   },
   "outputs": [
    {
     "data": {
      "text/plain": [
       "1"
      ]
     },
     "execution_count": 11,
     "metadata": {},
     "output_type": "execute_result"
    }
   ],
   "source": [
    "#konwersja typu rzeczywistego na całkowity\n",
    "\n",
    "int(1.0)"
   ]
  },
  {
   "cell_type": "code",
   "execution_count": 12,
   "metadata": {
    "collapsed": false
   },
   "outputs": [
    {
     "name": "stdout",
     "output_type": "stream",
     "text": [
      "1\n",
      "<class 'int'>\n"
     ]
    }
   ],
   "source": [
    "#zapiszmy wartośc w zmiennej a\n",
    "\n",
    "a=1\n",
    "#wyswietlmy jej wartość\n",
    "\n",
    "print(a)\n",
    "\n",
    "#wyswietlamy jej typ\n",
    "\n",
    "print(type(a))"
   ]
  },
  {
   "cell_type": "code",
   "execution_count": 13,
   "metadata": {
    "collapsed": false
   },
   "outputs": [
    {
     "name": "stdout",
     "output_type": "stream",
     "text": [
      "2.1\n",
      "<class 'float'>\n"
     ]
    }
   ],
   "source": [
    "# python jest typowany dynamiczne, typ zmiennej a moze się zmieniać w czasie\n",
    "a=2.1\n",
    "\n",
    "#wyswietlmy jej wartość\n",
    "\n",
    "print(a)\n",
    "\n",
    "#wyswietlmy jej typ\n",
    "\n",
    "print(type(a))"
   ]
  },
  {
   "cell_type": "code",
   "execution_count": 14,
   "metadata": {
    "collapsed": false
   },
   "outputs": [
    {
     "name": "stdout",
     "output_type": "stream",
     "text": [
      "2.5\n"
     ]
    },
    {
     "ename": "NameError",
     "evalue": "name 'a' is not defined",
     "output_type": "error",
     "traceback": [
      "\u001b[0;31m---------------------------------------------------------------------------\u001b[0m",
      "\u001b[0;31mNameError\u001b[0m                                 Traceback (most recent call last)",
      "\u001b[0;32m<ipython-input-14-a90c5f43f700>\u001b[0m in \u001b[0;36m<module>\u001b[0;34m()\u001b[0m\n\u001b[1;32m     10\u001b[0m \u001b[1;31m#uzycie usuniętej zmiennej konczy się błędem\u001b[0m\u001b[1;33m\u001b[0m\u001b[1;33m\u001b[0m\u001b[0m\n\u001b[1;32m     11\u001b[0m \u001b[1;33m\u001b[0m\u001b[0m\n\u001b[0;32m---> 12\u001b[0;31m \u001b[0mprint\u001b[0m\u001b[1;33m(\u001b[0m\u001b[0ma\u001b[0m\u001b[1;33m)\u001b[0m\u001b[1;33m\u001b[0m\u001b[0m\n\u001b[0m",
      "\u001b[0;31mNameError\u001b[0m: name 'a' is not defined"
     ]
    }
   ],
   "source": [
    "#usuwanie zmiennych\n",
    "\n",
    "a=2.5\n",
    "print(a)\n",
    "\n",
    "#usuwamy zmienną a\n",
    "\n",
    "del a\n",
    "\n",
    "#uzycie usuniętej zmiennej konczy się błędem\n",
    "\n",
    "print(a)"
   ]
  },
  {
   "cell_type": "code",
   "execution_count": 15,
   "metadata": {
    "collapsed": false
   },
   "outputs": [
    {
     "ename": "NameError",
     "evalue": "name 'B' is not defined",
     "output_type": "error",
     "traceback": [
      "\u001b[0;31m---------------------------------------------------------------------------\u001b[0m",
      "\u001b[0;31mNameError\u001b[0m                                 Traceback (most recent call last)",
      "\u001b[0;32m<ipython-input-15-3f826c386546>\u001b[0m in \u001b[0;36m<module>\u001b[0;34m()\u001b[0m\n\u001b[1;32m      1\u001b[0m \u001b[1;31m#Python rozróżnia duże i małe litery\u001b[0m\u001b[1;33m\u001b[0m\u001b[1;33m\u001b[0m\u001b[0m\n\u001b[1;32m      2\u001b[0m \u001b[0mb\u001b[0m\u001b[1;33m=\u001b[0m\u001b[1;36m1.0\u001b[0m\u001b[1;33m\u001b[0m\u001b[0m\n\u001b[0;32m----> 3\u001b[0;31m \u001b[0mprint\u001b[0m\u001b[1;33m(\u001b[0m\u001b[0mB\u001b[0m\u001b[1;33m)\u001b[0m \u001b[1;31m#name 'B' is not defined\u001b[0m\u001b[1;33m\u001b[0m\u001b[0m\n\u001b[0m",
      "\u001b[0;31mNameError\u001b[0m: name 'B' is not defined"
     ]
    }
   ],
   "source": [
    "#Python rozróżnia duże i małe litery\n",
    "b=1.0\n",
    "print(B) #name 'B' is not defined\n"
   ]
  },
  {
   "cell_type": "code",
   "execution_count": 16,
   "metadata": {
    "collapsed": false
   },
   "outputs": [
    {
     "name": "stdout",
     "output_type": "stream",
     "text": [
      "1.0 <class 'float'> 102 <class 'int'>\n"
     ]
    }
   ],
   "source": [
    "# dwie różne zmienne  o dwóch różnych typach\n",
    "b=1.0\n",
    "B=102\n",
    "print(b,type(b),B,type(B))"
   ]
  },
  {
   "cell_type": "code",
   "execution_count": 17,
   "metadata": {
    "collapsed": false
   },
   "outputs": [
    {
     "name": "stdout",
     "output_type": "stream",
     "text": [
      "NApis1NApis1NApis1NApis1NApis1\n",
      "NApis1 Napis2\n",
      "13\n",
      "NAPIS1 NAPIS2\n",
      "napis1 napis2\n",
      "Napis1 napis2\n",
      "NNApis1 NNapis2\n",
      "       NApis1 Napis2\n",
      "NApis1 Napis2       \n",
      "   NApis1 Napis2    \n",
      "napis ze spacjami po obu stronach\n",
      "Witamy w roku 2018\n"
     ]
    }
   ],
   "source": [
    "# utworzenie zmiennych typu napis, możemy stosować jak ograniczniki znaki \" jak rownież '\n",
    "\n",
    "s1=\"NApis1\"\n",
    "s2='Napis2'\n",
    "\n",
    "# powielamy pięć razy zawartość zmiennej s1 i umieszczamy całość w zmiennje s3\n",
    "\n",
    "s3=5*s1\n",
    "print(s3)\n",
    "\n",
    "# sklejanie napisów za pomocą operatora +\n",
    "\n",
    "s4=s1+\" \"+s2\n",
    "print(s4)\n",
    "\n",
    "# postawowe funkcje operujące na napisach\n",
    "\n",
    "print(len(s4)) # dlugość napisu\n",
    "print(s4.upper()) # zamiana na duze litery\n",
    "print(s4.lower()) # zamiana na male litery\n",
    "\n",
    "print(s4.capitalize())  # kapitalizacja napisu\n",
    "print(s4.replace('N', 'NN'))  #zamiana N na NN\n",
    "print(s4.rjust(20)) #dopasowanie do prawej napisu , pozostałe znaki wypełnione spacją \n",
    "print(s4.ljust(20)) #dopasowanie do lewej napisu, pozostałe znaki wypełnione spacją-\n",
    "print(s4.center(20)) #dopasowanie do lewej napisu, pozostałe znaki wypełnione spacją-\n",
    "print('  napis ze spacjami po obu stronach     '.strip())\n",
    "\n",
    "# formatowanie napisu wyjściowego\n",
    "s5 ='{0} {1} {2}'.format('Witamy', 'w roku',2018)\n",
    "print(s5)  "
   ]
  },
  {
   "cell_type": "code",
   "execution_count": 18,
   "metadata": {
    "collapsed": false
   },
   "outputs": [
    {
     "name": "stdout",
     "output_type": "stream",
     "text": [
      "True False\n",
      "<class 'bool'>\n",
      "False\n",
      "True\n",
      "True\n",
      "True\n"
     ]
    }
   ],
   "source": [
    "#typy logiczne przyjmują tylko dwie wartości prawda/fałsz\n",
    "\n",
    "l1=True\n",
    "l2=False\n",
    "\n",
    "#wyswietlamy wartośc obu zmiennych\n",
    "\n",
    "print(l1,l2)\n",
    "print(type(l1))\n",
    "\n",
    "#operator  iloczynu logicznego AND\n",
    "\n",
    "print(l1 and l2)\n",
    "\n",
    "#operator sumy logicznej OR\n",
    "\n",
    "print(l1 or l2)\n",
    "\n",
    "# operator negacji NOT\n",
    "\n",
    "print (not l2)\n",
    "\n",
    "#alternatywa rozłączna XOR\n",
    "print (l1 != l2)"
   ]
  },
  {
   "cell_type": "code",
   "execution_count": 19,
   "metadata": {
    "collapsed": false
   },
   "outputs": [
    {
     "name": "stdout",
     "output_type": "stream",
     "text": [
      "1 0\n",
      "True False True True\n"
     ]
    }
   ],
   "source": [
    "#konwersja typu logicznego na całkowity \n",
    "\n",
    "a1=int(True)\n",
    "a2=int(False)\n",
    "print(a1,a2)\n",
    "\n",
    "#konwersja typu całkowitego na logiczny 0 -> False, pozostałe liczby -> True\n",
    "\n",
    "b1=bool(-1)\n",
    "b2=bool(0)\n",
    "b3=bool(1)\n",
    "b4=bool(2)\n",
    "print(b1,b2,b3,b4)"
   ]
  }
 ],
 "metadata": {
  "kernelspec": {
   "display_name": "Python 3",
   "language": "python",
   "name": "python3"
  },
  "language_info": {
   "codemirror_mode": {
    "name": "ipython",
    "version": 3
   },
   "file_extension": ".py",
   "mimetype": "text/x-python",
   "name": "python",
   "nbconvert_exporter": "python",
   "pygments_lexer": "ipython3",
   "version": "3.6.0"
  }
 },
 "nbformat": 4,
 "nbformat_minor": 2
}
