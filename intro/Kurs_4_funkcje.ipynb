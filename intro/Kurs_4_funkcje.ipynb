{
  "cells": [
    {
      "metadata": {},
      "cell_type": "markdown",
      "source": "### Funcje"
    },
    {
      "metadata": {},
      "cell_type": "markdown",
      "source": "#### def nazwa( parametry ):\n####   '''dokumentacja''' #opcjonalne\n####   logika\n####   return [wyrażenie] # opcjonalne\n"
    },
    {
      "metadata": {
        "trusted": true
      },
      "cell_type": "code",
      "source": "# nasza pierwsza funkcja.\n# Wyswietlnie wartości parametru. \n# Funkcja nie zwraca jawnej wartości\n\ndef drukuj(napis):\n    print(napis)\n    \n# wykonanie funkcji\n\ndrukuj('Litwo, Ojczyzno moja')    ",
      "execution_count": 1,
      "outputs": [
        {
          "output_type": "stream",
          "text": "Litwo, Ojczyzno moja\n",
          "name": "stdout"
        }
      ]
    },
    {
      "metadata": {
        "trusted": true
      },
      "cell_type": "code",
      "source": "#Jeśli nie zwracamy wartości, to niejawnie zwracana jest wartość None.\n\nprint(\"Nie zwracam wartosci\") is None",
      "execution_count": 2,
      "outputs": [
        {
          "output_type": "stream",
          "text": "Nie zwracam wartosci\n",
          "name": "stdout"
        },
        {
          "output_type": "execute_result",
          "execution_count": 2,
          "data": {
            "text/plain": "True"
          },
          "metadata": {}
        }
      ]
    },
    {
      "metadata": {
        "trusted": true
      },
      "cell_type": "code",
      "source": "# Wywolanie instrukcji help w przypadku, gdy nasza funkcja nie  zostałą opisana w docstring\n\nhelp(drukuj)",
      "execution_count": 3,
      "outputs": [
        {
          "output_type": "stream",
          "text": "Help on function drukuj in module __main__:\n\ndrukuj(napis)\n\n",
          "name": "stdout"
        }
      ]
    },
    {
      "metadata": {
        "trusted": true
      },
      "cell_type": "code",
      "source": "# dodajemy dokumentację do funkcji\n\ndef drukuj(napis):\n    '''Funkcja print drukuje podany w parametrze napis'''\n    print(napis)\n    ",
      "execution_count": 4,
      "outputs": []
    },
    {
      "metadata": {
        "trusted": true
      },
      "cell_type": "code",
      "source": "# Wywolanie instrukcji help w przypadku, gdy nasza funkcja   została opisana w docstring\n\nhelp(drukuj)",
      "execution_count": 5,
      "outputs": [
        {
          "output_type": "stream",
          "text": "Help on function drukuj in module __main__:\n\ndrukuj(napis)\n    Funkcja print drukuje podany w parametrze napis\n\n",
          "name": "stdout"
        }
      ]
    },
    {
      "metadata": {
        "trusted": true
      },
      "cell_type": "code",
      "source": "# pusta funkcja\n\ndef nicnierobie():\n   pass # pusta instrukcja, to nie jest komentarz\n\n# wywołanie \nnicnierobie()\n\n\n# w wersji z dokumentacją\n\ndef nicnierobie():\n   '''Funkcja leniwa. Nic nie robię i dobrze mi z tym.''' \n   pass\n\n#wywołanie \nnicnierobie()\n# pomoc \nhelp(nicnierobie)\n# typu None\nhelp(nicnierobie) is None",
      "execution_count": 6,
      "outputs": [
        {
          "output_type": "stream",
          "text": "Help on function nicnierobie in module __main__:\n\nnicnierobie()\n    Funkcja leniwa. Nic nie robię i dobrze mi z tym.\n\nHelp on function nicnierobie in module __main__:\n\nnicnierobie()\n    Funkcja leniwa. Nic nie robię i dobrze mi z tym.\n\n",
          "name": "stdout"
        },
        {
          "output_type": "execute_result",
          "execution_count": 6,
          "data": {
            "text/plain": "True"
          },
          "metadata": {}
        }
      ]
    },
    {
      "metadata": {
        "trusted": true
      },
      "cell_type": "code",
      "source": "# funkcja z parametrem zwrotnym\n\ndef sklejnapisy(napis1,napis2):\n    '''Funkcja skleja dwa napisy podane w parametrach funkcji'''\n    napis3=napis1+napis2 # zmienna lokalna\n    return napis3 # slowo k\n\n# pomoc systemowa \n\nhelp(sklejnapisy)\n\n# wynik działania funkcji\n\nprint(sklejnapisy('Nad rzęczką ','opodal krzaczka.'))\n\n# inny sposob wywołania tej funcji\n\nprint(sklejnapisy(napis1='Nad rzęczką ',napis2='opodal krzaczka.'))\n",
      "execution_count": 7,
      "outputs": [
        {
          "output_type": "stream",
          "text": "Help on function sklejnapisy in module __main__:\n\nsklejnapisy(napis1, napis2)\n    Funkcja skleja dwa napisy podane w parametrach funkcji\n\nNad rzęczką opodal krzaczka.\nNad rzęczką opodal krzaczka.\n",
          "name": "stdout"
        }
      ]
    },
    {
      "metadata": {
        "trusted": true
      },
      "cell_type": "code",
      "source": "# jeżeli potrzebujemy wyswietlenia wielu wartości output z jednej komorki\nfrom IPython.core.interactiveshell import InteractiveShell\nInteractiveShell.ast_node_interactivity = \"all\"",
      "execution_count": 8,
      "outputs": []
    },
    {
      "metadata": {
        "trusted": true
      },
      "cell_type": "code",
      "source": "# Wywolanie argumentów danej funkcji  może być zarówno bez podowania nazwy argumentu, lub w postaci nazwa=wartosc\n\n# Dla powyższej funcji mamy różne sposoby  wywołania\n\n# tylko wartosci argumentow\n\nsklejnapisy('Nad rzęczką ','opodal krzaczka.')\n\n# pierwszy argument przez wartosc, drugi przez postać nazwa=wartosc\n\nsklejnapisy('Nad rzęczką ',napis2='opodal krzaczka.')\n\n# pierwszy argument przez nazwa=wartosc, drugi przez postać nazwa=wartosc\n\nsklejnapisy(napis1='Nad rzęczką ',napis2='opodal krzaczka.')\n\n# pierwszy argument przez nazwa=wartosc, drugi przez postać nazwa=wartosc, ale z przestawieniem kolejnosci\n\nsklejnapisy(napis2='opodal krzaczka.',napis1='Nad rzęczką ')\n",
      "execution_count": 9,
      "outputs": [
        {
          "output_type": "execute_result",
          "execution_count": 9,
          "data": {
            "text/plain": "'Nad rzęczką opodal krzaczka.'"
          },
          "metadata": {}
        },
        {
          "output_type": "execute_result",
          "execution_count": 9,
          "data": {
            "text/plain": "'Nad rzęczką opodal krzaczka.'"
          },
          "metadata": {}
        },
        {
          "output_type": "execute_result",
          "execution_count": 9,
          "data": {
            "text/plain": "'Nad rzęczką opodal krzaczka.'"
          },
          "metadata": {}
        },
        {
          "output_type": "execute_result",
          "execution_count": 9,
          "data": {
            "text/plain": "'Nad rzęczką opodal krzaczka.'"
          },
          "metadata": {}
        }
      ]
    },
    {
      "metadata": {
        "trusted": true
      },
      "cell_type": "code",
      "source": "# parametry funkcji mogą mieć zdefiniowaną wartość domyślną\n\ndef sklejnapisy3(napis1,napis2,napis3='...'):\n    '''Funkcja skleja trzy napisy podane w parametrach funkcji'''\n    napis4=napis1+napis2+napis3 # zmienna lokalna\n    return napis4\n\n# jeśli nie podamy wartości trzeciego parametru\n\nprint(sklejnapisy3('Nad rzeczką ','opodal krzaczka'))\n\nprint(sklejnapisy3(napis1='Nad rzeczką ',napis2='opodal krzaczka'))\n\n# z podaniem tej wartości \n\nprint(sklejnapisy3('Nad rzeczką ','opodal krzaczka','!!!'))\n\nprint(sklejnapisy3(napis1='Nad rzeczką ',napis2='opodal krzaczka',napis3='!!!'))\n",
      "execution_count": 11,
      "outputs": [
        {
          "output_type": "stream",
          "text": "Nad rzeczką opodal krzaczka...\nNad rzeczką opodal krzaczka...\nNad rzeczką opodal krzaczka!!!\nNad rzeczką opodal krzaczka!!!\n",
          "name": "stdout"
        }
      ]
    },
    {
      "metadata": {
        "trusted": true
      },
      "cell_type": "code",
      "source": "# jesli nie podamy patametru, ktory nie ma wartosci domyslnej ?\nprint(sklejnapisy3(napis1='Nad rzeczką ',napis3='!!!')) # TypeError: sklejnapisy() missing 1 required positional argument: 'napis2'\n\n# Bedzie zwrócony błąd  TypeError: sklejnapisy3() missing 1 required positional argument: 'napis2'",
      "execution_count": 12,
      "outputs": [
        {
          "output_type": "error",
          "ename": "TypeError",
          "evalue": "sklejnapisy3() missing 1 required positional argument: 'napis2'",
          "traceback": [
            "\u001b[0;31m---------------------------------------------------------------------------\u001b[0m",
            "\u001b[0;31mTypeError\u001b[0m                                 Traceback (most recent call last)",
            "\u001b[0;32m<ipython-input-12-72ebcfe66dac>\u001b[0m in \u001b[0;36m<module>\u001b[0;34m()\u001b[0m\n\u001b[1;32m      1\u001b[0m \u001b[0;31m# jesli nie podamy patametru, ktory nie ma wartosci domyslnej ?\u001b[0m\u001b[0;34m\u001b[0m\u001b[0;34m\u001b[0m\u001b[0m\n\u001b[0;32m----> 2\u001b[0;31m \u001b[0mprint\u001b[0m\u001b[0;34m(\u001b[0m\u001b[0msklejnapisy3\u001b[0m\u001b[0;34m(\u001b[0m\u001b[0mnapis1\u001b[0m\u001b[0;34m=\u001b[0m\u001b[0;34m'Nad rzeczką '\u001b[0m\u001b[0;34m,\u001b[0m\u001b[0mnapis3\u001b[0m\u001b[0;34m=\u001b[0m\u001b[0;34m'!!!'\u001b[0m\u001b[0;34m)\u001b[0m\u001b[0;34m)\u001b[0m \u001b[0;31m# TypeError: sklejnapisy() missing 1 required positional argument: 'napis2'\u001b[0m\u001b[0;34m\u001b[0m\u001b[0m\n\u001b[0m\u001b[1;32m      3\u001b[0m \u001b[0;34m\u001b[0m\u001b[0m\n\u001b[1;32m      4\u001b[0m \u001b[0;31m# Bedzie zwrócony błąd  TypeError: sklejnapisy3() missing 1 required positional argument: 'napis2'\u001b[0m\u001b[0;34m\u001b[0m\u001b[0;34m\u001b[0m\u001b[0m\n",
            "\u001b[0;31mTypeError\u001b[0m: sklejnapisy3() missing 1 required positional argument: 'napis2'"
          ]
        }
      ]
    },
    {
      "metadata": {
        "trusted": true
      },
      "cell_type": "code",
      "source": "# metadane funkcji\n\n# https://docs.python.org/3/reference/datamodel.html\n\nprint ('Nazwa: ',sklejnapisy3.__name__)           # nazwa funkcji\nprint ('Opis: ',sklejnapisy3.__doc__ )           # dokumentacja (docstring)\nprint ('Wartosci domyslne:',sklejnapisy3.__defaults__ )  # wartości domyślne \n",
      "execution_count": 13,
      "outputs": [
        {
          "output_type": "stream",
          "text": "Nazwa:  sklejnapisy3\nOpis:  Funkcja skleja trzy napisy podane w parametrach funkcji\nWartosci domyslne: ('...',)\n",
          "name": "stdout"
        }
      ]
    },
    {
      "metadata": {
        "trusted": true
      },
      "cell_type": "code",
      "source": "# zen of Python\nimport this",
      "execution_count": 14,
      "outputs": [
        {
          "output_type": "stream",
          "text": "The Zen of Python, by Tim Peters\n\nBeautiful is better than ugly.\nExplicit is better than implicit.\nSimple is better than complex.\nComplex is better than complicated.\nFlat is better than nested.\nSparse is better than dense.\nReadability counts.\nSpecial cases aren't special enough to break the rules.\nAlthough practicality beats purity.\nErrors should never pass silently.\nUnless explicitly silenced.\nIn the face of ambiguity, refuse the temptation to guess.\nThere should be one-- and preferably only one --obvious way to do it.\nAlthough that way may not be obvious at first unless you're Dutch.\nNow is better than never.\nAlthough never is often better than *right* now.\nIf the implementation is hard to explain, it's a bad idea.\nIf the implementation is easy to explain, it may be a good idea.\nNamespaces are one honking great idea -- let's do more of those!\n",
          "name": "stdout"
        }
      ]
    },
    {
      "metadata": {},
      "cell_type": "markdown",
      "source": "#### Klika słów o zasięgu zmienych"
    },
    {
      "metadata": {
        "trusted": true
      },
      "cell_type": "code",
      "source": "#http://www.diveintopython.net/html_processing/locals_and_globals.html\n\n# Zmienne utworzone wewnątrz funkcji mają lokalny zasięg.\n# Funkcja locals() zwraca słownik par klucz-wartość\n\ndef loc(arg):\n    x = 1\n    print ('Locals() : ',locals())\n    \n# x lokalny ma wartość 7 tzpu calkowitego \n\n# x lokalny ma wartość 'Lokalne jest piekne' typu napis\nloc('Lokalne jest piekne') \n\n",
      "execution_count": 15,
      "outputs": [
        {
          "output_type": "stream",
          "text": "Locals() :  {'arg': 'Lokalne jest piekne', 'x': 1}\n",
          "name": "stdout"
        }
      ]
    },
    {
      "metadata": {
        "trusted": true
      },
      "cell_type": "code",
      "source": " #http://www.diveintopython.net/html_processing/locals_and_globals.html\n    \ndef lokalny(arg):\n     x = 1\n     # wyswietlamy slownik zmiennych lokalnych\n     # zauwazmy, ze pojawia sié klucz o nazwie orgumentu funkcji \n     print (locals() )  \n    \n     # zmieniamy wartosc slownika o nazwie x   \n     locals()[\"x\"] = 2 \n     # wyswietlamy slownik zmiennych lokalnych \n     print (locals() ) \n     # wyswietlamy zawartosc zmiennej x\n     print (\"Zmienna x= \",x)\n\n# nasza zmienna         \nz = 7\nprint (\"Zmienna z= \",z)\n\nlokalny(3)\n# zmieniany wartosc slownika o nazwie z\nglobals()[\"z\"] = 8    \nprint (\"Zmienna z= \",z)\n\n# To co musimy zapamietac, to informacja o tym, ze locals jest tylko do odczytu \n# Inaczej jest z odpowiednikiem globals, o czym bedzie pozniej \n",
      "execution_count": 16,
      "outputs": [
        {
          "output_type": "stream",
          "text": "Zmienna z=  7\n{'arg': 3, 'x': 1}\n{'arg': 3, 'x': 1}\nZmienna x=  1\nZmienna z=  8\n",
          "name": "stdout"
        }
      ]
    },
    {
      "metadata": {},
      "cell_type": "markdown",
      "source": "### Fragment z dokumentacji w Wikipedii\n\nKiedy pewna linia kodu pyta się o wartość zmiennej x, Python przeszuka wszystkie przestrzenie nazw, aby ją znaleźć, w poniższym porządku:\n\n1. lokalna przestrzeń nazw -- określona dla bieżącej funkcji lub metody pewnej klasy. Jeśli funkcja definiuje jakąś lokalną zmienną x, Python wykorzysta ją i zakończy szukanie.\n2. przestrzeni nazw, w której dana funkcja została zagnieżdżona i przestrzeniach nazw, które znajdują się wyżej w \"zagnieżdżonej\" hierarchii.\n3. globalna przestrzeń nazw -- określona dla bieżącego modułu. Jeśli moduł definiuje zmienną lub klasę o nazwie x, Python wykorzysta ją i zakończy szukanie.\n4. wbudowana przestrzeń nazw -- globalna dla wszystkich modułów. Ponieważ jest to ostatnia deska ratunku, Python przyjmie, że x jest nazwą wbudowanej funkcji lub zmiennej."
    },
    {
      "metadata": {
        "trusted": true
      },
      "cell_type": "code",
      "source": "def funkcja_lokalna():\n    x = 1\n    \n# Zmienna x jest dostépna tylko wewnátrz funkcji    \nprint (x) #NameError: name 'x' is not defined",
      "execution_count": 17,
      "outputs": [
        {
          "output_type": "error",
          "ename": "NameError",
          "evalue": "name 'x' is not defined",
          "traceback": [
            "\u001b[0;31m---------------------------------------------------------------------------\u001b[0m",
            "\u001b[0;31mNameError\u001b[0m                                 Traceback (most recent call last)",
            "\u001b[0;32m<ipython-input-17-6ae2f3f26784>\u001b[0m in \u001b[0;36m<module>\u001b[0;34m()\u001b[0m\n\u001b[1;32m      3\u001b[0m \u001b[0;34m\u001b[0m\u001b[0m\n\u001b[1;32m      4\u001b[0m \u001b[0;31m# Zmienna x jest dostépna tylko wewnátrz funkcji\u001b[0m\u001b[0;34m\u001b[0m\u001b[0;34m\u001b[0m\u001b[0m\n\u001b[0;32m----> 5\u001b[0;31m \u001b[0mprint\u001b[0m \u001b[0;34m(\u001b[0m\u001b[0mx\u001b[0m\u001b[0;34m)\u001b[0m \u001b[0;31m#NameError: name 'x' is not defined\u001b[0m\u001b[0;34m\u001b[0m\u001b[0m\n\u001b[0m",
            "\u001b[0;31mNameError\u001b[0m: name 'x' is not defined"
          ]
        }
      ]
    },
    {
      "metadata": {
        "trusted": true
      },
      "cell_type": "code",
      "source": "\n# jesli chcemy skorzystac ze zmiennej utworzonej poza cialem funkcji\n#  Co jesli taka zmienna nie zostala utworzona wczesniej ?\n\n\ndef funkcja_globalna_nieutworzona():\n    global x\n    x = 10\n  \n#print ('Zmienna x= ',x)  #NameError: global name 'x' is not defined\nfunkcja_globalna_nieutworzona()  \nprint ('Zmienna x= ',x)",
      "execution_count": 20,
      "outputs": [
        {
          "output_type": "stream",
          "text": "Zmienna x=  10\n",
          "name": "stdout"
        }
      ]
    },
    {
      "metadata": {
        "trusted": true
      },
      "cell_type": "code",
      "source": "# Wykorzystujemy istniejaca zmienna w funkcji\ndef funkcja_globalna_utworzona():\n    global x\n    x =x+1\n# tworzymy zmienna x     \nx=10    \nprint ('Zmienna x= ',x) \nfunkcja_globalna_utworzona()\nprint ('Zmienna x= ',x) \n",
      "execution_count": 21,
      "outputs": [
        {
          "output_type": "stream",
          "text": "Zmienna x=  10\nZmienna x=  11\n",
          "name": "stdout"
        }
      ]
    },
    {
      "metadata": {
        "trusted": true
      },
      "cell_type": "code",
      "source": "# jak wygláda struktura locals ?\ndef funkcja_globalna_utworzona():\n    global x\n    x =x+1\n    print (locals()) # struktura jest pusta , brakuje zmienny lokalnych\n    \nx=10    \nprint ('Zmienna x= ',x) \nfunkcja_globalna_utworzona()\nprint ('Zmienna x= ',x)    ",
      "execution_count": 22,
      "outputs": [
        {
          "output_type": "stream",
          "text": "Zmienna x=  10\n{}\nZmienna x=  11\n",
          "name": "stdout"
        }
      ]
    },
    {
      "metadata": {
        "trusted": true
      },
      "cell_type": "code",
      "source": "# Do jej pory rozmawialismy o zmiennych lokalnyh i globalnych.\n\n# Jak sobie z tym poradzic, jesli korzystamy z funkcji w funkcji ?\n\ndef funkcja_zewnetrzna():\n    def funkcja_wewnetrzna():\n        nonlocal x\n        x = 5\n    funkcja_wewnetrzna()\n\nfunkcja_zewnetrzna()\n\n# wykonanie powyzszego kodu koñczy sie bledem  no binding for nonlocal 'x' found\n\n# funkcja_wewnetrzna ma zdefiniowana zmienna x jako zmienna nielokalna\n# to oznacza, ze oczekuje istnienia takiej funkcji w przestrzeni nazw , ktorej jest zanurzona\n# czyli w funkcji funkcja_zewnetrzna()",
      "execution_count": 23,
      "outputs": [
        {
          "output_type": "error",
          "ename": "SyntaxError",
          "evalue": "no binding for nonlocal 'x' found (<ipython-input-23-66605e0f4d74>, line 7)",
          "traceback": [
            "\u001b[0;36m  File \u001b[0;32m\"<ipython-input-23-66605e0f4d74>\"\u001b[0;36m, line \u001b[0;32m7\u001b[0m\n\u001b[0;31m    nonlocal x\u001b[0m\n\u001b[0m    ^\u001b[0m\n\u001b[0;31mSyntaxError\u001b[0m\u001b[0;31m:\u001b[0m no binding for nonlocal 'x' found\n"
          ]
        }
      ]
    },
    {
      "metadata": {
        "trusted": true
      },
      "cell_type": "code",
      "source": "# W funkcji wewnétrznej difiniujemy zmienna nielokalna x.\n# W funkji wewnétrznej tworzymy zmienna lokalna x\n# Na zewnátrz obu funkcji jest zdefiniowana zmienna x.\n\ndef funkcja_zewnetrzna():\n    def funkcja_wewnetrzna():\n        nonlocal x\n        x = 5\n        print('funkcja_wewnetrzna()-> Zmienna x= ',x)\n    funkcja_wewnetrzna()\n    x =10\n    print('funkcja_zewnetrzna()-> Zmienna x= ',x)\n    \n# zmienna globalna x\nx=-1\nprint('Zmienna x= ',x)\nfunkcja_zewnetrzna()\nprint('Zmienna x= ',x)",
      "execution_count": 24,
      "outputs": [
        {
          "output_type": "stream",
          "text": "Zmienna x=  -1\nfunkcja_wewnetrzna()-> Zmienna x=  5\nfunkcja_zewnetrzna()-> Zmienna x=  10\nZmienna x=  -1\n",
          "name": "stdout"
        }
      ]
    },
    {
      "metadata": {
        "trusted": true
      },
      "cell_type": "code",
      "source": "# W ponizszym przypadku zmienna globalna x nie jest zmieniana, gdyæ \n# w funkcja_zewnetrzna() , gdyz korzysta ze zmiennej lokalnej x\n# w funkcja_wewnetrzna(), gdyz korzysta ze zmiennej nielokalnej x , czyli z lokalnej x funkcja_zewnetrzna()\n\n# Ten przyklad proponuje sobie spokojnie pouklada© w glowie\n\ndef funkcja_zewnetrzna():\n    def funkcja_wewnetrzna():\n        nonlocal x\n        x = 1\n        print(\"funkcja_wewnetrzna()-> Zmienna x=\", x)  \n    x = 3\n    print(\"funkcja_zewnetrzna()-> Zmienna x=\", x)\n    funkcja_wewnetrzna()\n    \n    \nprint(\"Globalnie() -> Zmienna x= \", x)    \nx = 2    \nfunkcja_zewnetrzna()\nprint(\"Globalnie() -> Zmienna x= \", x)\n",
      "execution_count": 25,
      "outputs": [
        {
          "output_type": "stream",
          "text": "Globalnie() -> Zmienna x=  -1\nfunkcja_zewnetrzna()-> Zmienna x= 3\nfunkcja_wewnetrzna()-> Zmienna x= 1\nGlobalnie() -> Zmienna x=  2\n",
          "name": "stdout"
        }
      ]
    },
    {
      "metadata": {
        "trusted": true
      },
      "cell_type": "code",
      "source": "# Ten przyklad zostawiam dla chetnych.\n\n# Kiedy zmienna x przyjmuje wartosc 50 ?\n\ndef funkcja_zewnetrzna():\n    def funkcja_wewnetrzna():\n        def funkcja_wewnetrzna2():\n            nonlocal x\n            x = 100\n            print(\"funkcja_wewnetrzna2()-> Zmienna x=\", x)\n        x = 50\n        funkcja_wewnetrzna2()\n        print(\"funkcja_wewnetrzna()-> Zmienna x=\", x)\n    x = 10\n    funkcja_wewnetrzna()\n    print(\"funkcja_zewnetrzna()-> Zmienna x=\", x)\n\nx = 1\nprint(\"Globalnie()-> Zmienna x=\", x)\nfunkcja_zewnetrzna()\nprint(\"Globalnie()-> Zmienna x=\", x)\n",
      "execution_count": 26,
      "outputs": [
        {
          "output_type": "stream",
          "text": "Globalnie()-> Zmienna x= 1\nfunkcja_wewnetrzna2()-> Zmienna x= 100\nfunkcja_wewnetrzna()-> Zmienna x= 100\nfunkcja_zewnetrzna()-> Zmienna x= 10\nGlobalnie()-> Zmienna x= 1\n",
          "name": "stdout"
        }
      ]
    },
    {
      "metadata": {
        "trusted": true
      },
      "cell_type": "code",
      "source": "#### Rekurencja i iteracja na przykladzie ciagu Fibonacciego\n\ndef fibo_rekurencja(n):\n    '''Funkcja fibo_rekurencja(n) wyznacza wartosc n elementu ciagu Fibonaciego w wersji rekurencyjnej\n    '''\n    if n<=1:\n      return 1\n    else:\n      return fibo_rekurencja(n-1) + fibo_rekurencja(n-2)\n\ndef fibo_iteracja(n):\n    '''Funkcja fibo_iteracja(n) wyznacza wartosc n elementu ciagu Fibonaciego w wersji rekurencyjnej\n    '''\n    x,y=1,0\n    for i in range(n):\n      x,y=x+y,x\n    return x    \n\n\nhelp(fibo_iteracja)\nprint ('Iteracja....')\nfor n in range(10):\n  print('Fibo_iteracja dla n= ',n,' = ',fibo_iteracja(n)) \n\nhelp(fibo_rekurencja)\nprint ('Rekurencja....')\nfor n in range(10):\n  print('Fibo_rekurencja dla n= ',n,' = ',fibo_rekurencja(n)) \n    ",
      "execution_count": 27,
      "outputs": [
        {
          "output_type": "stream",
          "text": "Help on function fibo_iteracja in module __main__:\n\nfibo_iteracja(n)\n    Funkcja fibo_iteracja(n) wyznacza wartosc n elementu ciagu Fibonaciego w wersji rekurencyjnej\n\nIteracja....\nFibo_iteracja dla n=  0  =  1\nFibo_iteracja dla n=  1  =  1\nFibo_iteracja dla n=  2  =  2\nFibo_iteracja dla n=  3  =  3\nFibo_iteracja dla n=  4  =  5\nFibo_iteracja dla n=  5  =  8\nFibo_iteracja dla n=  6  =  13\nFibo_iteracja dla n=  7  =  21\nFibo_iteracja dla n=  8  =  34\nFibo_iteracja dla n=  9  =  55\nHelp on function fibo_rekurencja in module __main__:\n\nfibo_rekurencja(n)\n    Funkcja fibo_rekurencja(n) wyznacza wartosc n elementu ciagu Fibonaciego w wersji rekurencyjnej\n\nRekurencja....\nFibo_rekurencja dla n=  0  =  1\nFibo_rekurencja dla n=  1  =  1\nFibo_rekurencja dla n=  2  =  2\nFibo_rekurencja dla n=  3  =  3\nFibo_rekurencja dla n=  4  =  5\nFibo_rekurencja dla n=  5  =  8\nFibo_rekurencja dla n=  6  =  13\nFibo_rekurencja dla n=  7  =  21\nFibo_rekurencja dla n=  8  =  34\nFibo_rekurencja dla n=  9  =  55\n",
          "name": "stdout"
        }
      ]
    },
    {
      "metadata": {},
      "cell_type": "markdown",
      "source": "### Operator lambda "
    },
    {
      "metadata": {
        "trusted": true
      },
      "cell_type": "code",
      "source": "# Wyrazenia Lanbda, czyli funkjce inline lub finkcje atomowe\n# skladania \n# lambda argumenty: instrukcja_gererujaca_wynik\n\n# funkcja dodawania\ndodawanie = lambda x,y : x+y\nprint('1+2 =',dodawanie(1,2))",
      "execution_count": 28,
      "outputs": [
        {
          "output_type": "stream",
          "text": "1+2 = 3\n",
          "name": "stdout"
        }
      ]
    },
    {
      "metadata": {
        "trusted": true
      },
      "cell_type": "code",
      "source": "# Warto poczytac https://www.afternerd.com/blog/python-lambdas/\n\n# kwadrat liczby\n\nkwadrat = lambda x: x * x\nprint('3*3 = ',kwadrat(3))\n\n# mnozenie dwoch liczb\n\nmnozenie = lambda x,y: x * y\nprint('3*4 = ',mnozenie(3,4))\n\n# zawsze prawda, w wyrazenie bez argumentow na wejsciu\n\nprawda= lambda :True\nprint ('Zawsze prawda = ',prawda())\n",
      "execution_count": 29,
      "outputs": [
        {
          "output_type": "stream",
          "text": "3*3 =  9\n3*4 =  12\nZawsze prawda =  True\n",
          "name": "stdout"
        }
      ]
    },
    {
      "metadata": {
        "trusted": true
      },
      "cell_type": "code",
      "source": "# operacja list i map\n\nlista_wejsciowa = [1, 2, 3, 4]\nlista_wyjsciowa=list(map(lambda x: x**2, lista_wejsciowa))\n\nprint ('lista_wyjsciowa=',lista_wyjsciowa)\n",
      "execution_count": 30,
      "outputs": [
        {
          "output_type": "stream",
          "text": "lista_wyjsciowa= [1, 4, 9, 16]\n",
          "name": "stdout"
        }
      ]
    },
    {
      "metadata": {
        "trusted": true
      },
      "cell_type": "code",
      "source": "# operator lambda w wersji rekurencyjnej\n\nsilnia = lambda x: x * silnia(x-1) if x != 0 else 1\nprint('Silnia z 6 =',silnia(6))",
      "execution_count": 31,
      "outputs": [
        {
          "output_type": "stream",
          "text": "Silnia z 6 = 720\n",
          "name": "stdout"
        }
      ]
    },
    {
      "metadata": {},
      "cell_type": "markdown",
      "source": "### Obsluga wyjatkow"
    },
    {
      "metadata": {
        "trusted": true
      },
      "cell_type": "code",
      "source": "x = [1,2]\n# probujemy siagnac po nieistniejacy element\nprint(x[2]) #IndexError: list index out of range",
      "execution_count": 32,
      "outputs": [
        {
          "output_type": "error",
          "ename": "IndexError",
          "evalue": "list index out of range",
          "traceback": [
            "\u001b[0;31m---------------------------------------------------------------------------\u001b[0m",
            "\u001b[0;31mIndexError\u001b[0m                                Traceback (most recent call last)",
            "\u001b[0;32m<ipython-input-32-10465f1c6562>\u001b[0m in \u001b[0;36m<module>\u001b[0;34m()\u001b[0m\n\u001b[1;32m      1\u001b[0m \u001b[0mx\u001b[0m \u001b[0;34m=\u001b[0m \u001b[0;34m[\u001b[0m\u001b[0;36m1\u001b[0m\u001b[0;34m,\u001b[0m\u001b[0;36m2\u001b[0m\u001b[0;34m]\u001b[0m\u001b[0;34m\u001b[0m\u001b[0m\n\u001b[1;32m      2\u001b[0m \u001b[0;31m# probujemy siagnac po nieistniejacy element\u001b[0m\u001b[0;34m\u001b[0m\u001b[0;34m\u001b[0m\u001b[0m\n\u001b[0;32m----> 3\u001b[0;31m \u001b[0mprint\u001b[0m\u001b[0;34m(\u001b[0m\u001b[0mx\u001b[0m\u001b[0;34m[\u001b[0m\u001b[0;36m2\u001b[0m\u001b[0;34m]\u001b[0m\u001b[0;34m)\u001b[0m \u001b[0;31m#IndexError: list index out of range\u001b[0m\u001b[0;34m\u001b[0m\u001b[0m\n\u001b[0m",
            "\u001b[0;31mIndexError\u001b[0m: list index out of range"
          ]
        }
      ]
    },
    {
      "metadata": {
        "trusted": true
      },
      "cell_type": "code",
      "source": "try:\n  x = [1,2]     \n  print(x[2])\nexcept Exception as e:\n    print ('Nie widzimy bledu')",
      "execution_count": 33,
      "outputs": [
        {
          "output_type": "stream",
          "text": "Nie widzimy bledu\n",
          "name": "stdout"
        }
      ]
    },
    {
      "metadata": {
        "trusted": true
      },
      "cell_type": "code",
      "source": "try:\n  x = [1,2]     \n  print(x[2])\nexcept Exception as e:\n    print ('Cos sie wydarzylo: ',e) #wyswietlamy blad",
      "execution_count": 35,
      "outputs": [
        {
          "output_type": "stream",
          "text": "Cos sie wydarzylo:  list index out of range\n",
          "name": "stdout"
        }
      ]
    },
    {
      "metadata": {
        "trusted": true
      },
      "cell_type": "code",
      "source": "# Mozemy wykorzystac predefiniowane rodzaje wyjatkow\ntry:\n  x = [1,2]     \n  print(x[2])\nexcept ZeroDivisionError as e0:\n    print ('Cos sie wydarzylo: ',e0) #blad nie zostanie wyswietlony\nexcept Exception as e:\n    print ('Cos sie wydarzylo: ',e) #wyswietlamy blad        ",
      "execution_count": 36,
      "outputs": [
        {
          "output_type": "stream",
          "text": "Cos sie wydarzylo:  list index out of range\n",
          "name": "stdout"
        }
      ]
    },
    {
      "metadata": {
        "trusted": true
      },
      "cell_type": "code",
      "source": "try:\n  1/0\nexcept ZeroDivisionError as e0:\n  print ('Cos sie wydarzylo: ',e0) #blad  zostanie wyswietlony\nexcept Exception as e:\n  print ('Cos sie wydarzylo: ',e) # blad nie zostanie wyswietlamy",
      "execution_count": 37,
      "outputs": [
        {
          "output_type": "stream",
          "text": "Cos sie wydarzylo:  division by zero\n",
          "name": "stdout"
        }
      ]
    }
  ],
  "metadata": {
    "kernelspec": {
      "name": "python3",
      "display_name": "Python 3",
      "language": "python"
    },
    "language_info": {
      "mimetype": "text/x-python",
      "nbconvert_exporter": "python",
      "name": "python",
      "file_extension": ".py",
      "version": "3.5.4",
      "pygments_lexer": "ipython3",
      "codemirror_mode": {
        "version": 3,
        "name": "ipython"
      }
    }
  },
  "nbformat": 4,
  "nbformat_minor": 2
}