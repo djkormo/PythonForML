{
 "cells": [
  {
   "cell_type": "markdown",
   "metadata": {},
   "source": [
    "### Funcje"
   ]
  },
  {
   "cell_type": "code",
   "execution_count": 9,
   "metadata": {},
   "outputs": [],
   "source": [
    "#def nazwa( parametry ):\n",
    "#   '''dokumentacja''' #opcjonalne\n",
    "#   logika\n",
    "#   return [wyrażenie] # opcjonalne\n"
   ]
  },
  {
   "cell_type": "code",
   "execution_count": 22,
   "metadata": {},
   "outputs": [
    {
     "name": "stdout",
     "output_type": "stream",
     "text": [
      "Litwo, Ojczyzno moja\n"
     ]
    }
   ],
   "source": [
    "def drukuj(napis):\n",
    "    print(napis)\n",
    "\n",
    "drukuj('Litwo, Ojczyzno moja')    "
   ]
  },
  {
   "cell_type": "code",
   "execution_count": 23,
   "metadata": {},
   "outputs": [
    {
     "name": "stdout",
     "output_type": "stream",
     "text": [
      "Help on function drukuj in module __main__:\n",
      "\n",
      "drukuj(napis)\n",
      "\n"
     ]
    }
   ],
   "source": [
    "help(drukuj)"
   ]
  },
  {
   "cell_type": "code",
   "execution_count": 24,
   "metadata": {},
   "outputs": [],
   "source": [
    "# dodajemy dokumentację do funkcji\n",
    "\n",
    "def drukuj(napis):\n",
    "    '''Funkcja print drukuje podany w parametrze napis'''\n",
    "    print(napis)\n",
    "    "
   ]
  },
  {
   "cell_type": "code",
   "execution_count": 25,
   "metadata": {},
   "outputs": [
    {
     "name": "stdout",
     "output_type": "stream",
     "text": [
      "Help on function drukuj in module __main__:\n",
      "\n",
      "drukuj(napis)\n",
      "    Funkcja print drukuje podany w parametrze napis\n",
      "\n"
     ]
    }
   ],
   "source": [
    "help(drukuj)"
   ]
  },
  {
   "cell_type": "code",
   "execution_count": 26,
   "metadata": {},
   "outputs": [
    {
     "name": "stdout",
     "output_type": "stream",
     "text": [
      "Help on function nicnierobie in module __main__:\n",
      "\n",
      "nicnierobie()\n",
      "    Funkcja leniwa. Nic nie robię i dobrze mi z tym.\n",
      "\n"
     ]
    }
   ],
   "source": [
    "# pusta funkcja\n",
    "\n",
    "def nicnierobie():\n",
    "   pass # pusta instrukcja, to nie jest komentarz\n",
    "\n",
    "# wywołanie \n",
    "nicnierobie()\n",
    "\n",
    "\n",
    "# w wersji z dokumentacją\n",
    "\n",
    "def nicnierobie():\n",
    "   '''Funkcja leniwa. Nic nie robię i dobrze mi z tym.''' \n",
    "   pass\n",
    "\n",
    "#wywołanie \n",
    "nicnierobie()\n",
    "# pomoc \n",
    "help(nicnierobie)"
   ]
  },
  {
   "cell_type": "code",
   "execution_count": 33,
   "metadata": {},
   "outputs": [
    {
     "name": "stdout",
     "output_type": "stream",
     "text": [
      "Help on function sklejnapisy in module __main__:\n",
      "\n",
      "sklejnapisy(napis1, napis2)\n",
      "    Funkcja skleja dwa napisy podane w parametrach funkcji\n",
      "\n",
      "Nad rzęczką opodal krzaczka.\n",
      "Nad rzęczką opodal krzaczka.\n"
     ]
    }
   ],
   "source": [
    "# funkcja z parametrem zwrotnym\n",
    "\n",
    "def sklejnapisy(napis1,napis2):\n",
    "    '''Funkcja skleja dwa napisy podane w parametrach funkcji'''\n",
    "    napis3=napis1+napis2 # zmienna lokalna\n",
    "    return napis3\n",
    "\n",
    "# pomoc systemowa \n",
    "help(sklejnapisy)\n",
    "\n",
    "# wynik działania funkcji\n",
    "\n",
    "print(sklejnapisy('Nad rzęczką ','opodal krzaczka.'))\n",
    "\n",
    "# inny sposob wywołania tej funcji\n",
    "\n",
    "print(sklejnapisy(napis1='Nad rzęczką ',napis2='opodal krzaczka.'))\n",
    "\n"
   ]
  },
  {
   "cell_type": "code",
   "execution_count": 1,
   "metadata": {},
   "outputs": [
    {
     "name": "stdout",
     "output_type": "stream",
     "text": [
      "Nad rzeczką opodal krzaczka...\n",
      "Nad rzeczką opodal krzaczka...\n",
      "Nad rzeczką opodal krzaczka!!!\n",
      "Nad rzeczką opodal krzaczka!!!\n"
     ]
    }
   ],
   "source": [
    "# parametry funkcji mogą mieć zdefiniowaną wartość domyślną\n",
    "\n",
    "def sklejnapisy(napis1,napis2,napis3='...'):\n",
    "    '''Funkcja skleja trzy napisy podane w parametrach funkcji'''\n",
    "    napis4=napis1+napis2+napis3 # zmienna lokalna\n",
    "    return napis4\n",
    "\n",
    "# jeśli nie podamy wartości trzeciego parametru\n",
    "\n",
    "print(sklejnapisy('Nad rzeczką ','opodal krzaczka'))\n",
    "\n",
    "print(sklejnapisy(napis1='Nad rzeczką ',napis2='opodal krzaczka'))\n",
    "\n",
    "# z podaniem tej wartości \n",
    "\n",
    "print(sklejnapisy('Nad rzeczką ','opodal krzaczka','!!!'))\n",
    "\n",
    "print(sklejnapisy(napis1='Nad rzeczką ',napis2='opodal krzaczka',napis3='!!!'))\n"
   ]
  },
  {
   "cell_type": "code",
   "execution_count": 2,
   "metadata": {},
   "outputs": [
    {
     "ename": "TypeError",
     "evalue": "sklejnapisy() missing 1 required positional argument: 'napis2'",
     "output_type": "error",
     "traceback": [
      "\u001b[0;31m---------------------------------------------------------------------------\u001b[0m",
      "\u001b[0;31mTypeError\u001b[0m                                 Traceback (most recent call last)",
      "\u001b[0;32m<ipython-input-2-fc7fb6dd10e3>\u001b[0m in \u001b[0;36m<module>\u001b[0;34m()\u001b[0m\n\u001b[1;32m      1\u001b[0m \u001b[0;31m# jesli nie podamy patametru, ktory nie ma wartosci domyslnej ?\u001b[0m\u001b[0;34m\u001b[0m\u001b[0;34m\u001b[0m\u001b[0m\n\u001b[0;32m----> 2\u001b[0;31m \u001b[0mprint\u001b[0m\u001b[0;34m(\u001b[0m\u001b[0msklejnapisy\u001b[0m\u001b[0;34m(\u001b[0m\u001b[0mnapis1\u001b[0m\u001b[0;34m=\u001b[0m\u001b[0;34m'Nad rzeczką '\u001b[0m\u001b[0;34m,\u001b[0m\u001b[0mnapis3\u001b[0m\u001b[0;34m=\u001b[0m\u001b[0;34m'!!!'\u001b[0m\u001b[0;34m)\u001b[0m\u001b[0;34m)\u001b[0m \u001b[0;31m# TypeError: sklejnapisy() missing 1 required positional argument: 'napis2'\u001b[0m\u001b[0;34m\u001b[0m\u001b[0m\n\u001b[0m",
      "\u001b[0;31mTypeError\u001b[0m: sklejnapisy() missing 1 required positional argument: 'napis2'"
     ]
    }
   ],
   "source": [
    "# jesli nie podamy patametru, ktory nie ma wartosci domyslnej ?\n",
    "print(sklejnapisy(napis1='Nad rzeczką ',napis3='!!!')) # TypeError: sklejnapisy() missing 1 required positional argument: 'napis2'\n"
   ]
  },
  {
   "cell_type": "code",
   "execution_count": 6,
   "metadata": {},
   "outputs": [
    {
     "name": "stdout",
     "output_type": "stream",
     "text": [
      "sklejnapisy\n",
      "Funkcja skleja trzy napisy podane w parametrach funkcji\n",
      "('...',)\n",
      "<code object sklejnapisy at 0x7f20bb3366f0, file \"<ipython-input-1-1dbc48812eab>\", line 3>\n"
     ]
    }
   ],
   "source": [
    "# metadane funkcji\n",
    "\n",
    "# https://docs.python.org/3/reference/datamodel.html\n",
    "\n",
    "print (sklejnapisy.__name__)           #  nazwa funkcji\n",
    "print (sklejnapisy.__doc__ )           #  dokumentacja (docstring)\n",
    "print (sklejnapisy.__defaults__ )      # wartości domyślne \n",
    "print (sklejnapisy.__code__)\n",
    "#print (sklejnapisy)\n",
    "#id(sklejnapisy)"
   ]
  },
  {
   "cell_type": "code",
   "execution_count": 9,
   "metadata": {},
   "outputs": [
    {
     "name": "stdout",
     "output_type": "stream",
     "text": [
      "Help on built-in function id in module builtins:\n",
      "\n",
      "id(obj, /)\n",
      "    Return the identity of an object.\n",
      "    \n",
      "    This is guaranteed to be unique among simultaneously existing objects.\n",
      "    (CPython uses the object's memory address.)\n",
      "\n"
     ]
    }
   ],
   "source": [
    "help(id)"
   ]
  },
  {
   "cell_type": "code",
   "execution_count": 1,
   "metadata": {},
   "outputs": [
    {
     "name": "stdout",
     "output_type": "stream",
     "text": [
      "The Zen of Python, by Tim Peters\n",
      "\n",
      "Beautiful is better than ugly.\n",
      "Explicit is better than implicit.\n",
      "Simple is better than complex.\n",
      "Complex is better than complicated.\n",
      "Flat is better than nested.\n",
      "Sparse is better than dense.\n",
      "Readability counts.\n",
      "Special cases aren't special enough to break the rules.\n",
      "Although practicality beats purity.\n",
      "Errors should never pass silently.\n",
      "Unless explicitly silenced.\n",
      "In the face of ambiguity, refuse the temptation to guess.\n",
      "There should be one-- and preferably only one --obvious way to do it.\n",
      "Although that way may not be obvious at first unless you're Dutch.\n",
      "Now is better than never.\n",
      "Although never is often better than *right* now.\n",
      "If the implementation is hard to explain, it's a bad idea.\n",
      "If the implementation is easy to explain, it may be a good idea.\n",
      "Namespaces are one honking great idea -- let's do more of those!\n"
     ]
    }
   ],
   "source": [
    "# zen of Python\n",
    "import this"
   ]
  },
  {
   "cell_type": "code",
   "execution_count": 2,
   "metadata": {},
   "outputs": [],
   "source": [
    "#globals()"
   ]
  },
  {
   "cell_type": "code",
   "execution_count": 4,
   "metadata": {},
   "outputs": [],
   "source": [
    "#if __name__ == \"__main__\":\n",
    "#for k, v in globals().items():             #(1)\n",
    "    #print (k, \"=\", v)"
   ]
  },
  {
   "cell_type": "code",
   "execution_count": 25,
   "metadata": {},
   "outputs": [
    {
     "name": "stdout",
     "output_type": "stream",
     "text": [
      "Locals() :  {'x': 1, 'arg': 7}\n",
      "Locals() :  {'x': 1, 'arg': 'local1'}\n"
     ]
    }
   ],
   "source": [
    "#http://www.diveintopython.net/html_processing/locals_and_globals.html\n",
    "\n",
    "def loc(arg):\n",
    "    x = 1\n",
    "    print ('Locals() : ',locals())\n",
    "\n",
    "loc(7)  \n",
    "loc('local1') \n",
    "\n",
    "\n"
   ]
  },
  {
   "cell_type": "code",
   "execution_count": 43,
   "metadata": {},
   "outputs": [
    {
     "name": "stdout",
     "output_type": "stream",
     "text": [
      "z= 7\n",
      "{'x': 1, 'arg': 3}\n",
      "x= 1\n",
      "z= 8\n"
     ]
    }
   ],
   "source": [
    " #http://www.diveintopython.net/html_processing/locals_and_globals.html\n",
    "    \n",
    "def foo(arg):\n",
    "     x = 1\n",
    "     print (locals() )   #(1)\n",
    "     locals()[\"x\"] = 2 #(2)\n",
    "     print (\"x=\",x)      #(3)\n",
    "\n",
    "        \n",
    "z = 7\n",
    "print (\"z=\",z)\n",
    "foo(3)\n",
    "globals()[\"z\"] = 8    #(4)\n",
    "print (\"z=\",z)          #(5)"
   ]
  },
  {
   "cell_type": "code",
   "execution_count": 44,
   "metadata": {},
   "outputs": [
    {
     "name": "stdout",
     "output_type": "stream",
     "text": [
      "HOSTNAME=nbserver\n",
      "SHELL=/bin/bash\n",
      "TERM=xterm-color\n",
      "MSI_ENDPOINT=http://localhost:25198/nb/api/nbsvc/oauth2/token\n",
      "http_proxy=http://webproxy:3128\n",
      "USER=nbuser\n",
      "LD_LIBRARY_PATH=/usr/lib64/MRO-3.3.0/R-3.3.0/lib/R/lib:\n",
      "SUDO_USER=root\n",
      "SUDO_UID=0\n",
      "JPY_PARENT_PID=35\n",
      "USERNAME=nbuser\n",
      "MAIL=/var/mail/nbuser\n",
      "PATH=/home/nbuser/anaconda3_501/bin:/usr/local/bin:/usr/local/sbin:/usr/local/bin:/usr/sbin:/usr/bin:/sbin:/bin:/snap/bin\n",
      "PWD=/home/nbuser/library\n",
      "R_LIBS=/home/nbuser/R:/usr/local/lib/R/site-library:/usr/lib/R/site-library:/usr/lib/R/library\n",
      "LANG=en_US.UTF-8\n",
      "https_proxy=http://webproxy:3128\n",
      "SUDO_COMMAND=/bin/bash /.start.sh 25198 https://notebooks.azure.com nb 0010_ansprod5978nb 2736fe99ee5b4c2b97e4242ee18275c6fb5d735e2291496484872e7116116b79 e1160796-a49f-4f9c-8942-2b02900b024a ansprod5978nb VM\n",
      "SHLVL=2\n",
      "HOME=/home/nbuser\n",
      "AZURE_NOTEBOOKS_VMVERSION=fc1961587\n",
      "no_proxy=localhost\n",
      "PYTHONPATH=/home/nbuser/library\n",
      "LOGNAME=nbuser\n",
      "SUDO_GID=0\n",
      "AZURE_NOTEBOOKS_HOST=https://notebooks.azure.com\n",
      "_=/home/nbuser/anaconda3_501/bin/python\n",
      "CLICOLOR=1\n",
      "PAGER=cat\n",
      "GIT_PAGER=cat\n",
      "MPLBACKEND=module://ipykernel.pylab.backend_inline\n"
     ]
    }
   ],
   "source": [
    "import os\n",
    "for k, v in os.environ.items():      #(1) (2)\n",
    "    print (\"%s=%s\" % (k, v))"
   ]
  },
  {
   "cell_type": "code",
   "execution_count": null,
   "metadata": {},
   "outputs": [],
   "source": []
  },
  {
   "cell_type": "code",
   "execution_count": null,
   "metadata": {},
   "outputs": [],
   "source": []
  },
  {
   "cell_type": "code",
   "execution_count": null,
   "metadata": {},
   "outputs": [],
   "source": []
  },
  {
   "cell_type": "code",
   "execution_count": null,
   "metadata": {},
   "outputs": [],
   "source": []
  },
  {
   "cell_type": "code",
   "execution_count": 1,
   "metadata": {},
   "outputs": [
    {
     "ename": "NameError",
     "evalue": "name 'x' is not defined",
     "output_type": "error",
     "traceback": [
      "\u001b[0;31m---------------------------------------------------------------------------\u001b[0m",
      "\u001b[0;31mNameError\u001b[0m                                 Traceback (most recent call last)",
      "\u001b[0;32m<ipython-input-1-bfd43e5d6333>\u001b[0m in \u001b[0;36m<module>\u001b[0;34m()\u001b[0m\n\u001b[1;32m      2\u001b[0m     \u001b[0mx\u001b[0m \u001b[0;34m=\u001b[0m \u001b[0;36m1\u001b[0m\u001b[0;34m\u001b[0m\u001b[0m\n\u001b[1;32m      3\u001b[0m \u001b[0;34m\u001b[0m\u001b[0m\n\u001b[0;32m----> 4\u001b[0;31m \u001b[0mprint\u001b[0m \u001b[0;34m(\u001b[0m\u001b[0mx\u001b[0m\u001b[0;34m)\u001b[0m \u001b[0;31m#NameError: name 'x' is not defined\u001b[0m\u001b[0;34m\u001b[0m\u001b[0m\n\u001b[0m",
      "\u001b[0;31mNameError\u001b[0m: name 'x' is not defined"
     ]
    }
   ],
   "source": [
    "def func():\n",
    "    x = 1\n",
    "    \n",
    "print (x) #NameError: name 'x' is not defined"
   ]
  },
  {
   "cell_type": "code",
   "execution_count": 2,
   "metadata": {},
   "outputs": [
    {
     "ename": "NameError",
     "evalue": "name 'x' is not defined",
     "output_type": "error",
     "traceback": [
      "\u001b[0;31m---------------------------------------------------------------------------\u001b[0m",
      "\u001b[0;31mNameError\u001b[0m                                 Traceback (most recent call last)",
      "\u001b[0;32m<ipython-input-2-b5923ef23f6a>\u001b[0m in \u001b[0;36m<module>\u001b[0;34m()\u001b[0m\n\u001b[1;32m      3\u001b[0m     \u001b[0mx\u001b[0m \u001b[0;34m=\u001b[0m \u001b[0;36m1\u001b[0m\u001b[0;34m\u001b[0m\u001b[0m\n\u001b[1;32m      4\u001b[0m \u001b[0;34m\u001b[0m\u001b[0m\n\u001b[0;32m----> 5\u001b[0;31m \u001b[0mprint\u001b[0m \u001b[0;34m(\u001b[0m\u001b[0mx\u001b[0m\u001b[0;34m)\u001b[0m\u001b[0;34m\u001b[0m\u001b[0m\n\u001b[0m",
      "\u001b[0;31mNameError\u001b[0m: name 'x' is not defined"
     ]
    }
   ],
   "source": [
    "def func():\n",
    "    global x\n",
    "    x = 1\n",
    "    \n",
    "print (x) #NameError: global name 'x' is not defined"
   ]
  },
  {
   "cell_type": "code",
   "execution_count": 3,
   "metadata": {},
   "outputs": [
    {
     "name": "stdout",
     "output_type": "stream",
     "text": [
      "2\n"
     ]
    }
   ],
   "source": [
    "def func():\n",
    "    x = 1\n",
    "\n",
    "x = 2\n",
    "func()\n",
    "print (x)"
   ]
  },
  {
   "cell_type": "code",
   "execution_count": 4,
   "metadata": {},
   "outputs": [
    {
     "name": "stdout",
     "output_type": "stream",
     "text": [
      "1\n"
     ]
    }
   ],
   "source": [
    "def func():\n",
    "    global x\n",
    "    x = 1\n",
    "\n",
    "x = 2\n",
    "func()\n",
    "#print(x)"
   ]
  },
  {
   "cell_type": "code",
   "execution_count": 5,
   "metadata": {},
   "outputs": [],
   "source": [
    "# pusta definicja funkcji\n",
    "def func():\n",
    "    pass\n",
    "\n",
    "func()\n"
   ]
  },
  {
   "cell_type": "code",
   "execution_count": 6,
   "metadata": {},
   "outputs": [
    {
     "ename": "IndentationError",
     "evalue": "expected an indented block (<ipython-input-6-405b5127f7b3>, line 4)",
     "output_type": "error",
     "traceback": [
      "\u001b[0;36m  File \u001b[0;32m\"<ipython-input-6-405b5127f7b3>\"\u001b[0;36m, line \u001b[0;32m4\u001b[0m\n\u001b[0;31m    func()\u001b[0m\n\u001b[0m       ^\u001b[0m\n\u001b[0;31mIndentationError\u001b[0m\u001b[0;31m:\u001b[0m expected an indented block\n"
     ]
    }
   ],
   "source": [
    "def func():\n",
    "\n",
    "\n",
    "func()"
   ]
  },
  {
   "cell_type": "code",
   "execution_count": null,
   "metadata": {},
   "outputs": [],
   "source": []
  },
  {
   "cell_type": "code",
   "execution_count": 7,
   "metadata": {},
   "outputs": [
    {
     "name": "stdout",
     "output_type": "stream",
     "text": [
      "None\n"
     ]
    }
   ],
   "source": [
    "def func():\n",
    "    pass\n",
    "\n",
    "print(func())\n"
   ]
  },
  {
   "cell_type": "markdown",
   "metadata": {},
   "source": [
    "### Operator lambda "
   ]
  },
  {
   "cell_type": "code",
   "execution_count": 40,
   "metadata": {},
   "outputs": [
    {
     "name": "stdout",
     "output_type": "stream",
     "text": [
      "3\n"
     ]
    }
   ],
   "source": [
    "b = lambda x,y : x+y\n",
    "print(b(1,2))"
   ]
  },
  {
   "cell_type": "code",
   "execution_count": null,
   "metadata": {},
   "outputs": [],
   "source": []
  },
  {
   "cell_type": "code",
   "execution_count": null,
   "metadata": {},
   "outputs": [],
   "source": []
  }
 ],
 "metadata": {
  "kernelspec": {
   "display_name": "Python 3.6",
   "language": "python",
   "name": "python36"
  },
  "language_info": {
   "codemirror_mode": {
    "name": "ipython",
    "version": 3
   },
   "file_extension": ".py",
   "mimetype": "text/x-python",
   "name": "python",
   "nbconvert_exporter": "python",
   "pygments_lexer": "ipython3",
   "version": "3.6.3"
  }
 },
 "nbformat": 4,
 "nbformat_minor": 2
}
