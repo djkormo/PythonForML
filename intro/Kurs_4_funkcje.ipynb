{
 "cells": [
  {
   "cell_type": "markdown",
   "metadata": {},
   "source": [
    "### Funcje"
   ]
  },
  {
   "cell_type": "code",
   "execution_count": 9,
   "metadata": {},
   "outputs": [],
   "source": [
    "#def nazwa( parametry ):\n",
    "#   '''dokumentacja''' #opcjonalne\n",
    "#   logika\n",
    "#   return [wyrażenie] # opcjonalne\n"
   ]
  },
  {
   "cell_type": "code",
   "execution_count": 22,
   "metadata": {},
   "outputs": [
    {
     "name": "stdout",
     "output_type": "stream",
     "text": [
      "Litwo, Ojczyzno moja\n"
     ]
    }
   ],
   "source": [
    "def drukuj(napis):\n",
    "    print(napis)\n",
    "\n",
    "drukuj('Litwo, Ojczyzno moja')    "
   ]
  },
  {
   "cell_type": "code",
   "execution_count": 23,
   "metadata": {},
   "outputs": [
    {
     "name": "stdout",
     "output_type": "stream",
     "text": [
      "Help on function drukuj in module __main__:\n",
      "\n",
      "drukuj(napis)\n",
      "\n"
     ]
    }
   ],
   "source": [
    "help(drukuj)"
   ]
  },
  {
   "cell_type": "code",
   "execution_count": 24,
   "metadata": {},
   "outputs": [],
   "source": [
    "# dodajemy dokumentację do funkcji\n",
    "\n",
    "def drukuj(napis):\n",
    "    '''Funkcja print drukuje podany w parametrze napis'''\n",
    "    print(napis)\n",
    "    "
   ]
  },
  {
   "cell_type": "code",
   "execution_count": 25,
   "metadata": {},
   "outputs": [
    {
     "name": "stdout",
     "output_type": "stream",
     "text": [
      "Help on function drukuj in module __main__:\n",
      "\n",
      "drukuj(napis)\n",
      "    Funkcja print drukuje podany w parametrze napis\n",
      "\n"
     ]
    }
   ],
   "source": [
    "help(drukuj)"
   ]
  },
  {
   "cell_type": "code",
   "execution_count": 26,
   "metadata": {},
   "outputs": [
    {
     "name": "stdout",
     "output_type": "stream",
     "text": [
      "Help on function nicnierobie in module __main__:\n",
      "\n",
      "nicnierobie()\n",
      "    Funkcja leniwa. Nic nie robię i dobrze mi z tym.\n",
      "\n"
     ]
    }
   ],
   "source": [
    "# pusta funkcja\n",
    "\n",
    "def nicnierobie():\n",
    "   pass # pusta instrukcja, to nie jest komentarz\n",
    "\n",
    "# wywołanie \n",
    "nicnierobie()\n",
    "\n",
    "\n",
    "# w wersji z dokumentacją\n",
    "\n",
    "def nicnierobie():\n",
    "   '''Funkcja leniwa. Nic nie robię i dobrze mi z tym.''' \n",
    "   pass\n",
    "\n",
    "#wywołanie \n",
    "nicnierobie()\n",
    "# pomoc \n",
    "help(nicnierobie)"
   ]
  },
  {
   "cell_type": "code",
   "execution_count": 33,
   "metadata": {},
   "outputs": [
    {
     "name": "stdout",
     "output_type": "stream",
     "text": [
      "Help on function sklejnapisy in module __main__:\n",
      "\n",
      "sklejnapisy(napis1, napis2)\n",
      "    Funkcja skleja dwa napisy podane w parametrach funkcji\n",
      "\n",
      "Nad rzęczką opodal krzaczka.\n",
      "Nad rzęczką opodal krzaczka.\n"
     ]
    }
   ],
   "source": [
    "# funkcja z parametrem zwrotnym\n",
    "\n",
    "def sklejnapisy(napis1,napis2):\n",
    "    '''Funkcja skleja dwa napisy podane w parametrach funkcji'''\n",
    "    napis3=napis1+napis2 # zmienna lokalna\n",
    "    return napis3\n",
    "\n",
    "# pomoc systemowa \n",
    "help(sklejnapisy)\n",
    "\n",
    "# wynik działania funkcji\n",
    "\n",
    "print(sklejnapisy('Nad rzęczką ','opodal krzaczka.'))\n",
    "\n",
    "# inny sposob wywołania tej funcji\n",
    "\n",
    "print(sklejnapisy(napis1='Nad rzęczką ',napis2='opodal krzaczka.'))\n",
    "\n"
   ]
  },
  {
   "cell_type": "code",
   "execution_count": 1,
   "metadata": {},
   "outputs": [
    {
     "name": "stdout",
     "output_type": "stream",
     "text": [
      "Nad rzeczką opodal krzaczka...\n",
      "Nad rzeczką opodal krzaczka...\n",
      "Nad rzeczką opodal krzaczka!!!\n",
      "Nad rzeczką opodal krzaczka!!!\n"
     ]
    }
   ],
   "source": [
    "# parametry funkcji mogą mieć zdefiniowaną wartość domyślną\n",
    "\n",
    "def sklejnapisy(napis1,napis2,napis3='...'):\n",
    "    '''Funkcja skleja trzy napisy podane w parametrach funkcji'''\n",
    "    napis4=napis1+napis2+napis3 # zmienna lokalna\n",
    "    return napis4\n",
    "\n",
    "# jeśli nie podamy wartości trzeciego parametru\n",
    "\n",
    "print(sklejnapisy('Nad rzeczką ','opodal krzaczka'))\n",
    "\n",
    "print(sklejnapisy(napis1='Nad rzeczką ',napis2='opodal krzaczka'))\n",
    "\n",
    "# z podaniem tej wartości \n",
    "\n",
    "print(sklejnapisy('Nad rzeczką ','opodal krzaczka','!!!'))\n",
    "\n",
    "print(sklejnapisy(napis1='Nad rzeczką ',napis2='opodal krzaczka',napis3='!!!'))\n"
   ]
  },
  {
   "cell_type": "code",
   "execution_count": 2,
   "metadata": {},
   "outputs": [
    {
     "ename": "TypeError",
     "evalue": "sklejnapisy() missing 1 required positional argument: 'napis2'",
     "output_type": "error",
     "traceback": [
      "\u001b[0;31m---------------------------------------------------------------------------\u001b[0m",
      "\u001b[0;31mTypeError\u001b[0m                                 Traceback (most recent call last)",
      "\u001b[0;32m<ipython-input-2-fc7fb6dd10e3>\u001b[0m in \u001b[0;36m<module>\u001b[0;34m()\u001b[0m\n\u001b[1;32m      1\u001b[0m \u001b[0;31m# jesli nie podamy patametru, ktory nie ma wartosci domyslnej ?\u001b[0m\u001b[0;34m\u001b[0m\u001b[0;34m\u001b[0m\u001b[0m\n\u001b[0;32m----> 2\u001b[0;31m \u001b[0mprint\u001b[0m\u001b[0;34m(\u001b[0m\u001b[0msklejnapisy\u001b[0m\u001b[0;34m(\u001b[0m\u001b[0mnapis1\u001b[0m\u001b[0;34m=\u001b[0m\u001b[0;34m'Nad rzeczką '\u001b[0m\u001b[0;34m,\u001b[0m\u001b[0mnapis3\u001b[0m\u001b[0;34m=\u001b[0m\u001b[0;34m'!!!'\u001b[0m\u001b[0;34m)\u001b[0m\u001b[0;34m)\u001b[0m \u001b[0;31m# TypeError: sklejnapisy() missing 1 required positional argument: 'napis2'\u001b[0m\u001b[0;34m\u001b[0m\u001b[0m\n\u001b[0m",
      "\u001b[0;31mTypeError\u001b[0m: sklejnapisy() missing 1 required positional argument: 'napis2'"
     ]
    }
   ],
   "source": [
    "# jesli nie podamy patametru, ktory nie ma wartosci domyslnej ?\n",
    "print(sklejnapisy(napis1='Nad rzeczką ',napis3='!!!')) # TypeError: sklejnapisy() missing 1 required positional argument: 'napis2'\n"
   ]
  },
  {
   "cell_type": "code",
   "execution_count": 6,
   "metadata": {},
   "outputs": [
    {
     "name": "stdout",
     "output_type": "stream",
     "text": [
      "sklejnapisy\n",
      "Funkcja skleja trzy napisy podane w parametrach funkcji\n",
      "('...',)\n",
      "<code object sklejnapisy at 0x7f20bb3366f0, file \"<ipython-input-1-1dbc48812eab>\", line 3>\n"
     ]
    }
   ],
   "source": [
    "# metadane funkcji\n",
    "\n",
    "# https://docs.python.org/3/reference/datamodel.html\n",
    "\n",
    "print (sklejnapisy.__name__)           #  nazwa funkcji\n",
    "print (sklejnapisy.__doc__ )           #  dokumentacja (docstring)\n",
    "print (sklejnapisy.__defaults__ )      # wartości domyślne \n",
    "print (sklejnapisy.__code__)\n",
    "#print (sklejnapisy)\n",
    "#id(sklejnapisy)"
   ]
  },
  {
   "cell_type": "code",
   "execution_count": 9,
   "metadata": {},
   "outputs": [
    {
     "name": "stdout",
     "output_type": "stream",
     "text": [
      "Help on built-in function id in module builtins:\n",
      "\n",
      "id(obj, /)\n",
      "    Return the identity of an object.\n",
      "    \n",
      "    This is guaranteed to be unique among simultaneously existing objects.\n",
      "    (CPython uses the object's memory address.)\n",
      "\n"
     ]
    }
   ],
   "source": [
    "help(id)"
   ]
  },
  {
   "cell_type": "code",
   "execution_count": 11,
   "metadata": {},
   "outputs": [],
   "source": [
    "# zen of Python\n",
    "import this"
   ]
  },
  {
   "cell_type": "code",
   "execution_count": 10,
   "metadata": {},
   "outputs": [
    {
     "data": {
      "text/plain": [
       "{'In': ['',\n",
       "  \"# parametry funkcji mogą mieć zdefiniowaną wartość domyślną\\n\\ndef sklejnapisy(napis1,napis2,napis3='...'):\\n    '''Funkcja skleja trzy napisy podane w parametrach funkcji'''\\n    napis4=napis1+napis2+napis3 # zmienna lokalna\\n    return napis4\\n\\n# jeśli nie podamy wartości trzeciego parametru\\n\\nprint(sklejnapisy('Nad rzeczką ','opodal krzaczka'))\\n\\nprint(sklejnapisy(napis1='Nad rzeczką ',napis2='opodal krzaczka'))\\n\\n# z podaniem tej wartości \\n\\nprint(sklejnapisy('Nad rzeczką ','opodal krzaczka','!!!'))\\n\\nprint(sklejnapisy(napis1='Nad rzeczką ',napis2='opodal krzaczka',napis3='!!!'))\",\n",
       "  \"# jesli nie podamy patametru, ktory nie ma wartosci domyslnej ?\\nprint(sklejnapisy(napis1='Nad rzeczką ',napis3='!!!')) # TypeError: sklejnapisy() missing 1 required positional argument: 'napis2'\",\n",
       "  '# metadane funkcji\\n\\nprint (sklejnapisy.__name__)           #  nazwa funkcji\\nprint (sklejnapisy.__doc__ )           #  dokumentacja (docstring)\\nprint (sklejnapisy.__dict__ )\\nprint (sklejnapisy)\\nid(sklejnapisy)',\n",
       "  '# metadane funkcji\\n\\n# https://docs.python.org/3/reference/datamodel.html\\n\\nprint (sklejnapisy.__name__)           #  nazwa funkcji\\nprint (sklejnapisy.__doc__ )           #  dokumentacja (docstring)\\nprint (sklejnapisy.__defaults__ )\\nprint (sklejnapisy)\\nid(sklejnapisy)',\n",
       "  '# metadane funkcji\\n\\n# https://docs.python.org/3/reference/datamodel.html\\n\\nprint (sklejnapisy.__name__)           #  nazwa funkcji\\nprint (sklejnapisy.__doc__ )           #  dokumentacja (docstring)\\nprint (sklejnapisy.__defaults__ )\\n#print (sklejnapisy)\\n#id(sklejnapisy)',\n",
       "  '# metadane funkcji\\n\\n# https://docs.python.org/3/reference/datamodel.html\\n\\nprint (sklejnapisy.__name__)           #  nazwa funkcji\\nprint (sklejnapisy.__doc__ )           #  dokumentacja (docstring)\\nprint (sklejnapisy.__defaults__ )      # wartości domyślne \\nprint (sklejnapisy.__code__)\\n#print (sklejnapisy)\\n#id(sklejnapisy)',\n",
       "  'import this',\n",
       "  'dir()',\n",
       "  'locals()',\n",
       "  'globals()'],\n",
       " 'Out': {3: 139778555428648,\n",
       "  4: 139778555428648,\n",
       "  8: ['In',\n",
       "   'Out',\n",
       "   '_',\n",
       "   '_3',\n",
       "   '_4',\n",
       "   '__',\n",
       "   '___',\n",
       "   '__builtin__',\n",
       "   '__builtins__',\n",
       "   '__doc__',\n",
       "   '__loader__',\n",
       "   '__name__',\n",
       "   '__package__',\n",
       "   '__spec__',\n",
       "   '_dh',\n",
       "   '_i',\n",
       "   '_i1',\n",
       "   '_i2',\n",
       "   '_i3',\n",
       "   '_i4',\n",
       "   '_i5',\n",
       "   '_i6',\n",
       "   '_i7',\n",
       "   '_i8',\n",
       "   '_ih',\n",
       "   '_ii',\n",
       "   '_iii',\n",
       "   '_oh',\n",
       "   'exit',\n",
       "   'get_ipython',\n",
       "   'quit',\n",
       "   'sklejnapisy',\n",
       "   'this'],\n",
       "  9: {...}},\n",
       " '_': {...},\n",
       " '_3': 139778555428648,\n",
       " '_4': 139778555428648,\n",
       " '_8': ['In',\n",
       "  'Out',\n",
       "  '_',\n",
       "  '_3',\n",
       "  '_4',\n",
       "  '__',\n",
       "  '___',\n",
       "  '__builtin__',\n",
       "  '__builtins__',\n",
       "  '__doc__',\n",
       "  '__loader__',\n",
       "  '__name__',\n",
       "  '__package__',\n",
       "  '__spec__',\n",
       "  '_dh',\n",
       "  '_i',\n",
       "  '_i1',\n",
       "  '_i2',\n",
       "  '_i3',\n",
       "  '_i4',\n",
       "  '_i5',\n",
       "  '_i6',\n",
       "  '_i7',\n",
       "  '_i8',\n",
       "  '_ih',\n",
       "  '_ii',\n",
       "  '_iii',\n",
       "  '_oh',\n",
       "  'exit',\n",
       "  'get_ipython',\n",
       "  'quit',\n",
       "  'sklejnapisy',\n",
       "  'this'],\n",
       " '_9': {...},\n",
       " '__': ['In',\n",
       "  'Out',\n",
       "  '_',\n",
       "  '_3',\n",
       "  '_4',\n",
       "  '__',\n",
       "  '___',\n",
       "  '__builtin__',\n",
       "  '__builtins__',\n",
       "  '__doc__',\n",
       "  '__loader__',\n",
       "  '__name__',\n",
       "  '__package__',\n",
       "  '__spec__',\n",
       "  '_dh',\n",
       "  '_i',\n",
       "  '_i1',\n",
       "  '_i2',\n",
       "  '_i3',\n",
       "  '_i4',\n",
       "  '_i5',\n",
       "  '_i6',\n",
       "  '_i7',\n",
       "  '_i8',\n",
       "  '_ih',\n",
       "  '_ii',\n",
       "  '_iii',\n",
       "  '_oh',\n",
       "  'exit',\n",
       "  'get_ipython',\n",
       "  'quit',\n",
       "  'sklejnapisy',\n",
       "  'this'],\n",
       " '___': 139778555428648,\n",
       " '__builtin__': <module 'builtins' (built-in)>,\n",
       " '__builtins__': <module 'builtins' (built-in)>,\n",
       " '__doc__': 'Automatically created module for IPython interactive environment',\n",
       " '__loader__': None,\n",
       " '__name__': '__main__',\n",
       " '__package__': None,\n",
       " '__spec__': None,\n",
       " '_dh': ['/home/nbuser/library'],\n",
       " '_i': 'locals()',\n",
       " '_i1': \"# parametry funkcji mogą mieć zdefiniowaną wartość domyślną\\n\\ndef sklejnapisy(napis1,napis2,napis3='...'):\\n    '''Funkcja skleja trzy napisy podane w parametrach funkcji'''\\n    napis4=napis1+napis2+napis3 # zmienna lokalna\\n    return napis4\\n\\n# jeśli nie podamy wartości trzeciego parametru\\n\\nprint(sklejnapisy('Nad rzeczką ','opodal krzaczka'))\\n\\nprint(sklejnapisy(napis1='Nad rzeczką ',napis2='opodal krzaczka'))\\n\\n# z podaniem tej wartości \\n\\nprint(sklejnapisy('Nad rzeczką ','opodal krzaczka','!!!'))\\n\\nprint(sklejnapisy(napis1='Nad rzeczką ',napis2='opodal krzaczka',napis3='!!!'))\",\n",
       " '_i10': 'globals()',\n",
       " '_i2': \"# jesli nie podamy patametru, ktory nie ma wartosci domyslnej ?\\nprint(sklejnapisy(napis1='Nad rzeczką ',napis3='!!!')) # TypeError: sklejnapisy() missing 1 required positional argument: 'napis2'\",\n",
       " '_i3': '# metadane funkcji\\n\\nprint (sklejnapisy.__name__)           #  nazwa funkcji\\nprint (sklejnapisy.__doc__ )           #  dokumentacja (docstring)\\nprint (sklejnapisy.__dict__ )\\nprint (sklejnapisy)\\nid(sklejnapisy)',\n",
       " '_i4': '# metadane funkcji\\n\\n# https://docs.python.org/3/reference/datamodel.html\\n\\nprint (sklejnapisy.__name__)           #  nazwa funkcji\\nprint (sklejnapisy.__doc__ )           #  dokumentacja (docstring)\\nprint (sklejnapisy.__defaults__ )\\nprint (sklejnapisy)\\nid(sklejnapisy)',\n",
       " '_i5': '# metadane funkcji\\n\\n# https://docs.python.org/3/reference/datamodel.html\\n\\nprint (sklejnapisy.__name__)           #  nazwa funkcji\\nprint (sklejnapisy.__doc__ )           #  dokumentacja (docstring)\\nprint (sklejnapisy.__defaults__ )\\n#print (sklejnapisy)\\n#id(sklejnapisy)',\n",
       " '_i6': '# metadane funkcji\\n\\n# https://docs.python.org/3/reference/datamodel.html\\n\\nprint (sklejnapisy.__name__)           #  nazwa funkcji\\nprint (sklejnapisy.__doc__ )           #  dokumentacja (docstring)\\nprint (sklejnapisy.__defaults__ )      # wartości domyślne \\nprint (sklejnapisy.__code__)\\n#print (sklejnapisy)\\n#id(sklejnapisy)',\n",
       " '_i7': ' import this',\n",
       " '_i8': 'dir()',\n",
       " '_i9': 'locals()',\n",
       " '_ih': ['',\n",
       "  \"# parametry funkcji mogą mieć zdefiniowaną wartość domyślną\\n\\ndef sklejnapisy(napis1,napis2,napis3='...'):\\n    '''Funkcja skleja trzy napisy podane w parametrach funkcji'''\\n    napis4=napis1+napis2+napis3 # zmienna lokalna\\n    return napis4\\n\\n# jeśli nie podamy wartości trzeciego parametru\\n\\nprint(sklejnapisy('Nad rzeczką ','opodal krzaczka'))\\n\\nprint(sklejnapisy(napis1='Nad rzeczką ',napis2='opodal krzaczka'))\\n\\n# z podaniem tej wartości \\n\\nprint(sklejnapisy('Nad rzeczką ','opodal krzaczka','!!!'))\\n\\nprint(sklejnapisy(napis1='Nad rzeczką ',napis2='opodal krzaczka',napis3='!!!'))\",\n",
       "  \"# jesli nie podamy patametru, ktory nie ma wartosci domyslnej ?\\nprint(sklejnapisy(napis1='Nad rzeczką ',napis3='!!!')) # TypeError: sklejnapisy() missing 1 required positional argument: 'napis2'\",\n",
       "  '# metadane funkcji\\n\\nprint (sklejnapisy.__name__)           #  nazwa funkcji\\nprint (sklejnapisy.__doc__ )           #  dokumentacja (docstring)\\nprint (sklejnapisy.__dict__ )\\nprint (sklejnapisy)\\nid(sklejnapisy)',\n",
       "  '# metadane funkcji\\n\\n# https://docs.python.org/3/reference/datamodel.html\\n\\nprint (sklejnapisy.__name__)           #  nazwa funkcji\\nprint (sklejnapisy.__doc__ )           #  dokumentacja (docstring)\\nprint (sklejnapisy.__defaults__ )\\nprint (sklejnapisy)\\nid(sklejnapisy)',\n",
       "  '# metadane funkcji\\n\\n# https://docs.python.org/3/reference/datamodel.html\\n\\nprint (sklejnapisy.__name__)           #  nazwa funkcji\\nprint (sklejnapisy.__doc__ )           #  dokumentacja (docstring)\\nprint (sklejnapisy.__defaults__ )\\n#print (sklejnapisy)\\n#id(sklejnapisy)',\n",
       "  '# metadane funkcji\\n\\n# https://docs.python.org/3/reference/datamodel.html\\n\\nprint (sklejnapisy.__name__)           #  nazwa funkcji\\nprint (sklejnapisy.__doc__ )           #  dokumentacja (docstring)\\nprint (sklejnapisy.__defaults__ )      # wartości domyślne \\nprint (sklejnapisy.__code__)\\n#print (sklejnapisy)\\n#id(sklejnapisy)',\n",
       "  'import this',\n",
       "  'dir()',\n",
       "  'locals()',\n",
       "  'globals()'],\n",
       " '_ii': 'dir()',\n",
       " '_iii': ' import this',\n",
       " '_oh': {3: 139778555428648,\n",
       "  4: 139778555428648,\n",
       "  8: ['In',\n",
       "   'Out',\n",
       "   '_',\n",
       "   '_3',\n",
       "   '_4',\n",
       "   '__',\n",
       "   '___',\n",
       "   '__builtin__',\n",
       "   '__builtins__',\n",
       "   '__doc__',\n",
       "   '__loader__',\n",
       "   '__name__',\n",
       "   '__package__',\n",
       "   '__spec__',\n",
       "   '_dh',\n",
       "   '_i',\n",
       "   '_i1',\n",
       "   '_i2',\n",
       "   '_i3',\n",
       "   '_i4',\n",
       "   '_i5',\n",
       "   '_i6',\n",
       "   '_i7',\n",
       "   '_i8',\n",
       "   '_ih',\n",
       "   '_ii',\n",
       "   '_iii',\n",
       "   '_oh',\n",
       "   'exit',\n",
       "   'get_ipython',\n",
       "   'quit',\n",
       "   'sklejnapisy',\n",
       "   'this'],\n",
       "  9: {...}},\n",
       " 'exit': <IPython.core.autocall.ZMQExitAutocall at 0x7f20bb36c940>,\n",
       " 'get_ipython': <bound method InteractiveShell.get_ipython of <ipykernel.zmqshell.ZMQInteractiveShell object at 0x7f20bb3a10f0>>,\n",
       " 'quit': <IPython.core.autocall.ZMQExitAutocall at 0x7f20bb36c940>,\n",
       " 'sklejnapisy': <function __main__.sklejnapisy>,\n",
       " 'this': <module 'this' from '/home/nbuser/anaconda3_501/lib/python3.6/this.py'>}"
      ]
     },
     "execution_count": 10,
     "metadata": {},
     "output_type": "execute_result"
    }
   ],
   "source": [
    "globals()"
   ]
  },
  {
   "cell_type": "code",
   "execution_count": 15,
   "metadata": {},
   "outputs": [
    {
     "name": "stdout",
     "output_type": "stream",
     "text": [
      "__name__ = __main__\n",
      "__doc__ = Automatically created module for IPython interactive environment\n",
      "__package__ = None\n",
      "__loader__ = None\n",
      "__spec__ = None\n",
      "__builtin__ = <module 'builtins' (built-in)>\n",
      "__builtins__ = <module 'builtins' (built-in)>\n",
      "_ih = ['', \"# parametry funkcji mogą mieć zdefiniowaną wartość domyślną\\n\\ndef sklejnapisy(napis1,napis2,napis3='...'):\\n    '''Funkcja skleja trzy napisy podane w parametrach funkcji'''\\n    napis4=napis1+napis2+napis3 # zmienna lokalna\\n    return napis4\\n\\n# jeśli nie podamy wartości trzeciego parametru\\n\\nprint(sklejnapisy('Nad rzeczką ','opodal krzaczka'))\\n\\nprint(sklejnapisy(napis1='Nad rzeczką ',napis2='opodal krzaczka'))\\n\\n# z podaniem tej wartości \\n\\nprint(sklejnapisy('Nad rzeczką ','opodal krzaczka','!!!'))\\n\\nprint(sklejnapisy(napis1='Nad rzeczką ',napis2='opodal krzaczka',napis3='!!!'))\", \"# jesli nie podamy patametru, ktory nie ma wartosci domyslnej ?\\nprint(sklejnapisy(napis1='Nad rzeczką ',napis3='!!!')) # TypeError: sklejnapisy() missing 1 required positional argument: 'napis2'\", '# metadane funkcji\\n\\nprint (sklejnapisy.__name__)           #  nazwa funkcji\\nprint (sklejnapisy.__doc__ )           #  dokumentacja (docstring)\\nprint (sklejnapisy.__dict__ )\\nprint (sklejnapisy)\\nid(sklejnapisy)', '# metadane funkcji\\n\\n# https://docs.python.org/3/reference/datamodel.html\\n\\nprint (sklejnapisy.__name__)           #  nazwa funkcji\\nprint (sklejnapisy.__doc__ )           #  dokumentacja (docstring)\\nprint (sklejnapisy.__defaults__ )\\nprint (sklejnapisy)\\nid(sklejnapisy)', '# metadane funkcji\\n\\n# https://docs.python.org/3/reference/datamodel.html\\n\\nprint (sklejnapisy.__name__)           #  nazwa funkcji\\nprint (sklejnapisy.__doc__ )           #  dokumentacja (docstring)\\nprint (sklejnapisy.__defaults__ )\\n#print (sklejnapisy)\\n#id(sklejnapisy)', '# metadane funkcji\\n\\n# https://docs.python.org/3/reference/datamodel.html\\n\\nprint (sklejnapisy.__name__)           #  nazwa funkcji\\nprint (sklejnapisy.__doc__ )           #  dokumentacja (docstring)\\nprint (sklejnapisy.__defaults__ )      # wartości domyślne \\nprint (sklejnapisy.__code__)\\n#print (sklejnapisy)\\n#id(sklejnapisy)', 'import this', 'dir()', 'locals()', 'globals()', '# zen of Python\\nimport this', 'if __name__ == \"__main__\":\\n     for k, v in globals().items():             #(1)\\n         print k, \"=\", v', 'if __name__ == \"__main__\":\\n     for k, v in globals().items():             #(1)\\n         print (k, \"=\", v)', '#if __name__ == \"__main__\":\\n     for k, v in globals().items():             #(1)\\n         print (k, \"=\", v)', '#if __name__ == \"__main__\":\\nfor k, v in globals().items():             #(1)\\n    print (k, \"=\", v)']\n",
      "_oh = {3: 139778555428648, 4: 139778555428648, 8: ['In', 'Out', '_', '_3', '_4', '__', '___', '__builtin__', '__builtins__', '__doc__', '__loader__', '__name__', '__package__', '__spec__', '_dh', '_i', '_i1', '_i2', '_i3', '_i4', '_i5', '_i6', '_i7', '_i8', '_ih', '_ii', '_iii', '_oh', 'exit', 'get_ipython', 'quit', 'sklejnapisy', 'this'], 9: {'__name__': '__main__', '__doc__': 'Automatically created module for IPython interactive environment', '__package__': None, '__loader__': None, '__spec__': None, '__builtin__': <module 'builtins' (built-in)>, '__builtins__': <module 'builtins' (built-in)>, '_ih': ['', \"# parametry funkcji mogą mieć zdefiniowaną wartość domyślną\\n\\ndef sklejnapisy(napis1,napis2,napis3='...'):\\n    '''Funkcja skleja trzy napisy podane w parametrach funkcji'''\\n    napis4=napis1+napis2+napis3 # zmienna lokalna\\n    return napis4\\n\\n# jeśli nie podamy wartości trzeciego parametru\\n\\nprint(sklejnapisy('Nad rzeczką ','opodal krzaczka'))\\n\\nprint(sklejnapisy(napis1='Nad rzeczką ',napis2='opodal krzaczka'))\\n\\n# z podaniem tej wartości \\n\\nprint(sklejnapisy('Nad rzeczką ','opodal krzaczka','!!!'))\\n\\nprint(sklejnapisy(napis1='Nad rzeczką ',napis2='opodal krzaczka',napis3='!!!'))\", \"# jesli nie podamy patametru, ktory nie ma wartosci domyslnej ?\\nprint(sklejnapisy(napis1='Nad rzeczką ',napis3='!!!')) # TypeError: sklejnapisy() missing 1 required positional argument: 'napis2'\", '# metadane funkcji\\n\\nprint (sklejnapisy.__name__)           #  nazwa funkcji\\nprint (sklejnapisy.__doc__ )           #  dokumentacja (docstring)\\nprint (sklejnapisy.__dict__ )\\nprint (sklejnapisy)\\nid(sklejnapisy)', '# metadane funkcji\\n\\n# https://docs.python.org/3/reference/datamodel.html\\n\\nprint (sklejnapisy.__name__)           #  nazwa funkcji\\nprint (sklejnapisy.__doc__ )           #  dokumentacja (docstring)\\nprint (sklejnapisy.__defaults__ )\\nprint (sklejnapisy)\\nid(sklejnapisy)', '# metadane funkcji\\n\\n# https://docs.python.org/3/reference/datamodel.html\\n\\nprint (sklejnapisy.__name__)           #  nazwa funkcji\\nprint (sklejnapisy.__doc__ )           #  dokumentacja (docstring)\\nprint (sklejnapisy.__defaults__ )\\n#print (sklejnapisy)\\n#id(sklejnapisy)', '# metadane funkcji\\n\\n# https://docs.python.org/3/reference/datamodel.html\\n\\nprint (sklejnapisy.__name__)           #  nazwa funkcji\\nprint (sklejnapisy.__doc__ )           #  dokumentacja (docstring)\\nprint (sklejnapisy.__defaults__ )      # wartości domyślne \\nprint (sklejnapisy.__code__)\\n#print (sklejnapisy)\\n#id(sklejnapisy)', 'import this', 'dir()', 'locals()', 'globals()', '# zen of Python\\nimport this', 'if __name__ == \"__main__\":\\n     for k, v in globals().items():             #(1)\\n         print k, \"=\", v', 'if __name__ == \"__main__\":\\n     for k, v in globals().items():             #(1)\\n         print (k, \"=\", v)', '#if __name__ == \"__main__\":\\n     for k, v in globals().items():             #(1)\\n         print (k, \"=\", v)', '#if __name__ == \"__main__\":\\nfor k, v in globals().items():             #(1)\\n    print (k, \"=\", v)'], '_oh': {...}, '_dh': ['/home/nbuser/library'], 'In': ['', \"# parametry funkcji mogą mieć zdefiniowaną wartość domyślną\\n\\ndef sklejnapisy(napis1,napis2,napis3='...'):\\n    '''Funkcja skleja trzy napisy podane w parametrach funkcji'''\\n    napis4=napis1+napis2+napis3 # zmienna lokalna\\n    return napis4\\n\\n# jeśli nie podamy wartości trzeciego parametru\\n\\nprint(sklejnapisy('Nad rzeczką ','opodal krzaczka'))\\n\\nprint(sklejnapisy(napis1='Nad rzeczką ',napis2='opodal krzaczka'))\\n\\n# z podaniem tej wartości \\n\\nprint(sklejnapisy('Nad rzeczką ','opodal krzaczka','!!!'))\\n\\nprint(sklejnapisy(napis1='Nad rzeczką ',napis2='opodal krzaczka',napis3='!!!'))\", \"# jesli nie podamy patametru, ktory nie ma wartosci domyslnej ?\\nprint(sklejnapisy(napis1='Nad rzeczką ',napis3='!!!')) # TypeError: sklejnapisy() missing 1 required positional argument: 'napis2'\", '# metadane funkcji\\n\\nprint (sklejnapisy.__name__)           #  nazwa funkcji\\nprint (sklejnapisy.__doc__ )           #  dokumentacja (docstring)\\nprint (sklejnapisy.__dict__ )\\nprint (sklejnapisy)\\nid(sklejnapisy)', '# metadane funkcji\\n\\n# https://docs.python.org/3/reference/datamodel.html\\n\\nprint (sklejnapisy.__name__)           #  nazwa funkcji\\nprint (sklejnapisy.__doc__ )           #  dokumentacja (docstring)\\nprint (sklejnapisy.__defaults__ )\\nprint (sklejnapisy)\\nid(sklejnapisy)', '# metadane funkcji\\n\\n# https://docs.python.org/3/reference/datamodel.html\\n\\nprint (sklejnapisy.__name__)           #  nazwa funkcji\\nprint (sklejnapisy.__doc__ )           #  dokumentacja (docstring)\\nprint (sklejnapisy.__defaults__ )\\n#print (sklejnapisy)\\n#id(sklejnapisy)', '# metadane funkcji\\n\\n# https://docs.python.org/3/reference/datamodel.html\\n\\nprint (sklejnapisy.__name__)           #  nazwa funkcji\\nprint (sklejnapisy.__doc__ )           #  dokumentacja (docstring)\\nprint (sklejnapisy.__defaults__ )      # wartości domyślne \\nprint (sklejnapisy.__code__)\\n#print (sklejnapisy)\\n#id(sklejnapisy)', 'import this', 'dir()', 'locals()', 'globals()', '# zen of Python\\nimport this', 'if __name__ == \"__main__\":\\n     for k, v in globals().items():             #(1)\\n         print k, \"=\", v', 'if __name__ == \"__main__\":\\n     for k, v in globals().items():             #(1)\\n         print (k, \"=\", v)', '#if __name__ == \"__main__\":\\n     for k, v in globals().items():             #(1)\\n         print (k, \"=\", v)', '#if __name__ == \"__main__\":\\nfor k, v in globals().items():             #(1)\\n    print (k, \"=\", v)'], 'Out': {...}, 'get_ipython': <bound method InteractiveShell.get_ipython of <ipykernel.zmqshell.ZMQInteractiveShell object at 0x7f20bb3a10f0>>, 'exit': <IPython.core.autocall.ZMQExitAutocall object at 0x7f20bb36c940>, 'quit': <IPython.core.autocall.ZMQExitAutocall object at 0x7f20bb36c940>, '_': {...}, '__': {...}, '___': ['In', 'Out', '_', '_3', '_4', '__', '___', '__builtin__', '__builtins__', '__doc__', '__loader__', '__name__', '__package__', '__spec__', '_dh', '_i', '_i1', '_i2', '_i3', '_i4', '_i5', '_i6', '_i7', '_i8', '_ih', '_ii', '_iii', '_oh', 'exit', 'get_ipython', 'quit', 'sklejnapisy', 'this'], '_i': '#if __name__ == \"__main__\":\\n     for k, v in globals().items():             #(1)\\n         print (k, \"=\", v)', '_ii': 'if __name__ == \"__main__\":\\n     for k, v in globals().items():             #(1)\\n         print (k, \"=\", v)', '_iii': 'if __name__ == \"__main__\":\\n     for k, v in globals().items():             #(1)\\n         print k, \"=\", v', '_i1': \"# parametry funkcji mogą mieć zdefiniowaną wartość domyślną\\n\\ndef sklejnapisy(napis1,napis2,napis3='...'):\\n    '''Funkcja skleja trzy napisy podane w parametrach funkcji'''\\n    napis4=napis1+napis2+napis3 # zmienna lokalna\\n    return napis4\\n\\n# jeśli nie podamy wartości trzeciego parametru\\n\\nprint(sklejnapisy('Nad rzeczką ','opodal krzaczka'))\\n\\nprint(sklejnapisy(napis1='Nad rzeczką ',napis2='opodal krzaczka'))\\n\\n# z podaniem tej wartości \\n\\nprint(sklejnapisy('Nad rzeczką ','opodal krzaczka','!!!'))\\n\\nprint(sklejnapisy(napis1='Nad rzeczką ',napis2='opodal krzaczka',napis3='!!!'))\", 'sklejnapisy': <function sklejnapisy at 0x7f20bb24bf28>, '_i2': \"# jesli nie podamy patametru, ktory nie ma wartosci domyslnej ?\\nprint(sklejnapisy(napis1='Nad rzeczką ',napis3='!!!')) # TypeError: sklejnapisy() missing 1 required positional argument: 'napis2'\", '_i3': '# metadane funkcji\\n\\nprint (sklejnapisy.__name__)           #  nazwa funkcji\\nprint (sklejnapisy.__doc__ )           #  dokumentacja (docstring)\\nprint (sklejnapisy.__dict__ )\\nprint (sklejnapisy)\\nid(sklejnapisy)', '_3': 139778555428648, '_i4': '# metadane funkcji\\n\\n# https://docs.python.org/3/reference/datamodel.html\\n\\nprint (sklejnapisy.__name__)           #  nazwa funkcji\\nprint (sklejnapisy.__doc__ )           #  dokumentacja (docstring)\\nprint (sklejnapisy.__defaults__ )\\nprint (sklejnapisy)\\nid(sklejnapisy)', '_4': 139778555428648, '_i5': '# metadane funkcji\\n\\n# https://docs.python.org/3/reference/datamodel.html\\n\\nprint (sklejnapisy.__name__)           #  nazwa funkcji\\nprint (sklejnapisy.__doc__ )           #  dokumentacja (docstring)\\nprint (sklejnapisy.__defaults__ )\\n#print (sklejnapisy)\\n#id(sklejnapisy)', '_i6': '# metadane funkcji\\n\\n# https://docs.python.org/3/reference/datamodel.html\\n\\nprint (sklejnapisy.__name__)           #  nazwa funkcji\\nprint (sklejnapisy.__doc__ )           #  dokumentacja (docstring)\\nprint (sklejnapisy.__defaults__ )      # wartości domyślne \\nprint (sklejnapisy.__code__)\\n#print (sklejnapisy)\\n#id(sklejnapisy)', '_i7': ' import this', 'this': <module 'this' from '/home/nbuser/anaconda3_501/lib/python3.6/this.py'>, '_i8': 'dir()', '_8': ['In', 'Out', '_', '_3', '_4', '__', '___', '__builtin__', '__builtins__', '__doc__', '__loader__', '__name__', '__package__', '__spec__', '_dh', '_i', '_i1', '_i2', '_i3', '_i4', '_i5', '_i6', '_i7', '_i8', '_ih', '_ii', '_iii', '_oh', 'exit', 'get_ipython', 'quit', 'sklejnapisy', 'this'], '_i9': 'locals()', '_9': {...}, '_i10': 'globals()', '_10': {...}, '_i11': '# zen of Python\\nimport this', '_i12': 'if __name__ == \"__main__\":\\n     for k, v in globals().items():             #(1)\\n         print k, \"=\", v', '_i13': 'if __name__ == \"__main__\":\\n     for k, v in globals().items():             #(1)\\n         print (k, \"=\", v)', 'k': '_oh', 'v': {...}, '_i14': '#if __name__ == \"__main__\":\\n     for k, v in globals().items():             #(1)\\n         print (k, \"=\", v)', '_i15': '#if __name__ == \"__main__\":\\nfor k, v in globals().items():             #(1)\\n    print (k, \"=\", v)'}, 10: {'__name__': '__main__', '__doc__': 'Automatically created module for IPython interactive environment', '__package__': None, '__loader__': None, '__spec__': None, '__builtin__': <module 'builtins' (built-in)>, '__builtins__': <module 'builtins' (built-in)>, '_ih': ['', \"# parametry funkcji mogą mieć zdefiniowaną wartość domyślną\\n\\ndef sklejnapisy(napis1,napis2,napis3='...'):\\n    '''Funkcja skleja trzy napisy podane w parametrach funkcji'''\\n    napis4=napis1+napis2+napis3 # zmienna lokalna\\n    return napis4\\n\\n# jeśli nie podamy wartości trzeciego parametru\\n\\nprint(sklejnapisy('Nad rzeczką ','opodal krzaczka'))\\n\\nprint(sklejnapisy(napis1='Nad rzeczką ',napis2='opodal krzaczka'))\\n\\n# z podaniem tej wartości \\n\\nprint(sklejnapisy('Nad rzeczką ','opodal krzaczka','!!!'))\\n\\nprint(sklejnapisy(napis1='Nad rzeczką ',napis2='opodal krzaczka',napis3='!!!'))\", \"# jesli nie podamy patametru, ktory nie ma wartosci domyslnej ?\\nprint(sklejnapisy(napis1='Nad rzeczką ',napis3='!!!')) # TypeError: sklejnapisy() missing 1 required positional argument: 'napis2'\", '# metadane funkcji\\n\\nprint (sklejnapisy.__name__)           #  nazwa funkcji\\nprint (sklejnapisy.__doc__ )           #  dokumentacja (docstring)\\nprint (sklejnapisy.__dict__ )\\nprint (sklejnapisy)\\nid(sklejnapisy)', '# metadane funkcji\\n\\n# https://docs.python.org/3/reference/datamodel.html\\n\\nprint (sklejnapisy.__name__)           #  nazwa funkcji\\nprint (sklejnapisy.__doc__ )           #  dokumentacja (docstring)\\nprint (sklejnapisy.__defaults__ )\\nprint (sklejnapisy)\\nid(sklejnapisy)', '# metadane funkcji\\n\\n# https://docs.python.org/3/reference/datamodel.html\\n\\nprint (sklejnapisy.__name__)           #  nazwa funkcji\\nprint (sklejnapisy.__doc__ )           #  dokumentacja (docstring)\\nprint (sklejnapisy.__defaults__ )\\n#print (sklejnapisy)\\n#id(sklejnapisy)', '# metadane funkcji\\n\\n# https://docs.python.org/3/reference/datamodel.html\\n\\nprint (sklejnapisy.__name__)           #  nazwa funkcji\\nprint (sklejnapisy.__doc__ )           #  dokumentacja (docstring)\\nprint (sklejnapisy.__defaults__ )      # wartości domyślne \\nprint (sklejnapisy.__code__)\\n#print (sklejnapisy)\\n#id(sklejnapisy)', 'import this', 'dir()', 'locals()', 'globals()', '# zen of Python\\nimport this', 'if __name__ == \"__main__\":\\n     for k, v in globals().items():             #(1)\\n         print k, \"=\", v', 'if __name__ == \"__main__\":\\n     for k, v in globals().items():             #(1)\\n         print (k, \"=\", v)', '#if __name__ == \"__main__\":\\n     for k, v in globals().items():             #(1)\\n         print (k, \"=\", v)', '#if __name__ == \"__main__\":\\nfor k, v in globals().items():             #(1)\\n    print (k, \"=\", v)'], '_oh': {...}, '_dh': ['/home/nbuser/library'], 'In': ['', \"# parametry funkcji mogą mieć zdefiniowaną wartość domyślną\\n\\ndef sklejnapisy(napis1,napis2,napis3='...'):\\n    '''Funkcja skleja trzy napisy podane w parametrach funkcji'''\\n    napis4=napis1+napis2+napis3 # zmienna lokalna\\n    return napis4\\n\\n# jeśli nie podamy wartości trzeciego parametru\\n\\nprint(sklejnapisy('Nad rzeczką ','opodal krzaczka'))\\n\\nprint(sklejnapisy(napis1='Nad rzeczką ',napis2='opodal krzaczka'))\\n\\n# z podaniem tej wartości \\n\\nprint(sklejnapisy('Nad rzeczką ','opodal krzaczka','!!!'))\\n\\nprint(sklejnapisy(napis1='Nad rzeczką ',napis2='opodal krzaczka',napis3='!!!'))\", \"# jesli nie podamy patametru, ktory nie ma wartosci domyslnej ?\\nprint(sklejnapisy(napis1='Nad rzeczką ',napis3='!!!')) # TypeError: sklejnapisy() missing 1 required positional argument: 'napis2'\", '# metadane funkcji\\n\\nprint (sklejnapisy.__name__)           #  nazwa funkcji\\nprint (sklejnapisy.__doc__ )           #  dokumentacja (docstring)\\nprint (sklejnapisy.__dict__ )\\nprint (sklejnapisy)\\nid(sklejnapisy)', '# metadane funkcji\\n\\n# https://docs.python.org/3/reference/datamodel.html\\n\\nprint (sklejnapisy.__name__)           #  nazwa funkcji\\nprint (sklejnapisy.__doc__ )           #  dokumentacja (docstring)\\nprint (sklejnapisy.__defaults__ )\\nprint (sklejnapisy)\\nid(sklejnapisy)', '# metadane funkcji\\n\\n# https://docs.python.org/3/reference/datamodel.html\\n\\nprint (sklejnapisy.__name__)           #  nazwa funkcji\\nprint (sklejnapisy.__doc__ )           #  dokumentacja (docstring)\\nprint (sklejnapisy.__defaults__ )\\n#print (sklejnapisy)\\n#id(sklejnapisy)', '# metadane funkcji\\n\\n# https://docs.python.org/3/reference/datamodel.html\\n\\nprint (sklejnapisy.__name__)           #  nazwa funkcji\\nprint (sklejnapisy.__doc__ )           #  dokumentacja (docstring)\\nprint (sklejnapisy.__defaults__ )      # wartości domyślne \\nprint (sklejnapisy.__code__)\\n#print (sklejnapisy)\\n#id(sklejnapisy)', 'import this', 'dir()', 'locals()', 'globals()', '# zen of Python\\nimport this', 'if __name__ == \"__main__\":\\n     for k, v in globals().items():             #(1)\\n         print k, \"=\", v', 'if __name__ == \"__main__\":\\n     for k, v in globals().items():             #(1)\\n         print (k, \"=\", v)', '#if __name__ == \"__main__\":\\n     for k, v in globals().items():             #(1)\\n         print (k, \"=\", v)', '#if __name__ == \"__main__\":\\nfor k, v in globals().items():             #(1)\\n    print (k, \"=\", v)'], 'Out': {...}, 'get_ipython': <bound method InteractiveShell.get_ipython of <ipykernel.zmqshell.ZMQInteractiveShell object at 0x7f20bb3a10f0>>, 'exit': <IPython.core.autocall.ZMQExitAutocall object at 0x7f20bb36c940>, 'quit': <IPython.core.autocall.ZMQExitAutocall object at 0x7f20bb36c940>, '_': {...}, '__': {...}, '___': ['In', 'Out', '_', '_3', '_4', '__', '___', '__builtin__', '__builtins__', '__doc__', '__loader__', '__name__', '__package__', '__spec__', '_dh', '_i', '_i1', '_i2', '_i3', '_i4', '_i5', '_i6', '_i7', '_i8', '_ih', '_ii', '_iii', '_oh', 'exit', 'get_ipython', 'quit', 'sklejnapisy', 'this'], '_i': '#if __name__ == \"__main__\":\\n     for k, v in globals().items():             #(1)\\n         print (k, \"=\", v)', '_ii': 'if __name__ == \"__main__\":\\n     for k, v in globals().items():             #(1)\\n         print (k, \"=\", v)', '_iii': 'if __name__ == \"__main__\":\\n     for k, v in globals().items():             #(1)\\n         print k, \"=\", v', '_i1': \"# parametry funkcji mogą mieć zdefiniowaną wartość domyślną\\n\\ndef sklejnapisy(napis1,napis2,napis3='...'):\\n    '''Funkcja skleja trzy napisy podane w parametrach funkcji'''\\n    napis4=napis1+napis2+napis3 # zmienna lokalna\\n    return napis4\\n\\n# jeśli nie podamy wartości trzeciego parametru\\n\\nprint(sklejnapisy('Nad rzeczką ','opodal krzaczka'))\\n\\nprint(sklejnapisy(napis1='Nad rzeczką ',napis2='opodal krzaczka'))\\n\\n# z podaniem tej wartości \\n\\nprint(sklejnapisy('Nad rzeczką ','opodal krzaczka','!!!'))\\n\\nprint(sklejnapisy(napis1='Nad rzeczką ',napis2='opodal krzaczka',napis3='!!!'))\", 'sklejnapisy': <function sklejnapisy at 0x7f20bb24bf28>, '_i2': \"# jesli nie podamy patametru, ktory nie ma wartosci domyslnej ?\\nprint(sklejnapisy(napis1='Nad rzeczką ',napis3='!!!')) # TypeError: sklejnapisy() missing 1 required positional argument: 'napis2'\", '_i3': '# metadane funkcji\\n\\nprint (sklejnapisy.__name__)           #  nazwa funkcji\\nprint (sklejnapisy.__doc__ )           #  dokumentacja (docstring)\\nprint (sklejnapisy.__dict__ )\\nprint (sklejnapisy)\\nid(sklejnapisy)', '_3': 139778555428648, '_i4': '# metadane funkcji\\n\\n# https://docs.python.org/3/reference/datamodel.html\\n\\nprint (sklejnapisy.__name__)           #  nazwa funkcji\\nprint (sklejnapisy.__doc__ )           #  dokumentacja (docstring)\\nprint (sklejnapisy.__defaults__ )\\nprint (sklejnapisy)\\nid(sklejnapisy)', '_4': 139778555428648, '_i5': '# metadane funkcji\\n\\n# https://docs.python.org/3/reference/datamodel.html\\n\\nprint (sklejnapisy.__name__)           #  nazwa funkcji\\nprint (sklejnapisy.__doc__ )           #  dokumentacja (docstring)\\nprint (sklejnapisy.__defaults__ )\\n#print (sklejnapisy)\\n#id(sklejnapisy)', '_i6': '# metadane funkcji\\n\\n# https://docs.python.org/3/reference/datamodel.html\\n\\nprint (sklejnapisy.__name__)           #  nazwa funkcji\\nprint (sklejnapisy.__doc__ )           #  dokumentacja (docstring)\\nprint (sklejnapisy.__defaults__ )      # wartości domyślne \\nprint (sklejnapisy.__code__)\\n#print (sklejnapisy)\\n#id(sklejnapisy)', '_i7': ' import this', 'this': <module 'this' from '/home/nbuser/anaconda3_501/lib/python3.6/this.py'>, '_i8': 'dir()', '_8': ['In', 'Out', '_', '_3', '_4', '__', '___', '__builtin__', '__builtins__', '__doc__', '__loader__', '__name__', '__package__', '__spec__', '_dh', '_i', '_i1', '_i2', '_i3', '_i4', '_i5', '_i6', '_i7', '_i8', '_ih', '_ii', '_iii', '_oh', 'exit', 'get_ipython', 'quit', 'sklejnapisy', 'this'], '_i9': 'locals()', '_9': {...}, '_i10': 'globals()', '_10': {...}, '_i11': '# zen of Python\\nimport this', '_i12': 'if __name__ == \"__main__\":\\n     for k, v in globals().items():             #(1)\\n         print k, \"=\", v', '_i13': 'if __name__ == \"__main__\":\\n     for k, v in globals().items():             #(1)\\n         print (k, \"=\", v)', 'k': '_oh', 'v': {...}, '_i14': '#if __name__ == \"__main__\":\\n     for k, v in globals().items():             #(1)\\n         print (k, \"=\", v)', '_i15': '#if __name__ == \"__main__\":\\nfor k, v in globals().items():             #(1)\\n    print (k, \"=\", v)'}}\n",
      "_dh = ['/home/nbuser/library']\n",
      "In = ['', \"# parametry funkcji mogą mieć zdefiniowaną wartość domyślną\\n\\ndef sklejnapisy(napis1,napis2,napis3='...'):\\n    '''Funkcja skleja trzy napisy podane w parametrach funkcji'''\\n    napis4=napis1+napis2+napis3 # zmienna lokalna\\n    return napis4\\n\\n# jeśli nie podamy wartości trzeciego parametru\\n\\nprint(sklejnapisy('Nad rzeczką ','opodal krzaczka'))\\n\\nprint(sklejnapisy(napis1='Nad rzeczką ',napis2='opodal krzaczka'))\\n\\n# z podaniem tej wartości \\n\\nprint(sklejnapisy('Nad rzeczką ','opodal krzaczka','!!!'))\\n\\nprint(sklejnapisy(napis1='Nad rzeczką ',napis2='opodal krzaczka',napis3='!!!'))\", \"# jesli nie podamy patametru, ktory nie ma wartosci domyslnej ?\\nprint(sklejnapisy(napis1='Nad rzeczką ',napis3='!!!')) # TypeError: sklejnapisy() missing 1 required positional argument: 'napis2'\", '# metadane funkcji\\n\\nprint (sklejnapisy.__name__)           #  nazwa funkcji\\nprint (sklejnapisy.__doc__ )           #  dokumentacja (docstring)\\nprint (sklejnapisy.__dict__ )\\nprint (sklejnapisy)\\nid(sklejnapisy)', '# metadane funkcji\\n\\n# https://docs.python.org/3/reference/datamodel.html\\n\\nprint (sklejnapisy.__name__)           #  nazwa funkcji\\nprint (sklejnapisy.__doc__ )           #  dokumentacja (docstring)\\nprint (sklejnapisy.__defaults__ )\\nprint (sklejnapisy)\\nid(sklejnapisy)', '# metadane funkcji\\n\\n# https://docs.python.org/3/reference/datamodel.html\\n\\nprint (sklejnapisy.__name__)           #  nazwa funkcji\\nprint (sklejnapisy.__doc__ )           #  dokumentacja (docstring)\\nprint (sklejnapisy.__defaults__ )\\n#print (sklejnapisy)\\n#id(sklejnapisy)', '# metadane funkcji\\n\\n# https://docs.python.org/3/reference/datamodel.html\\n\\nprint (sklejnapisy.__name__)           #  nazwa funkcji\\nprint (sklejnapisy.__doc__ )           #  dokumentacja (docstring)\\nprint (sklejnapisy.__defaults__ )      # wartości domyślne \\nprint (sklejnapisy.__code__)\\n#print (sklejnapisy)\\n#id(sklejnapisy)', 'import this', 'dir()', 'locals()', 'globals()', '# zen of Python\\nimport this', 'if __name__ == \"__main__\":\\n     for k, v in globals().items():             #(1)\\n         print k, \"=\", v', 'if __name__ == \"__main__\":\\n     for k, v in globals().items():             #(1)\\n         print (k, \"=\", v)', '#if __name__ == \"__main__\":\\n     for k, v in globals().items():             #(1)\\n         print (k, \"=\", v)', '#if __name__ == \"__main__\":\\nfor k, v in globals().items():             #(1)\\n    print (k, \"=\", v)']\n",
      "Out = {3: 139778555428648, 4: 139778555428648, 8: ['In', 'Out', '_', '_3', '_4', '__', '___', '__builtin__', '__builtins__', '__doc__', '__loader__', '__name__', '__package__', '__spec__', '_dh', '_i', '_i1', '_i2', '_i3', '_i4', '_i5', '_i6', '_i7', '_i8', '_ih', '_ii', '_iii', '_oh', 'exit', 'get_ipython', 'quit', 'sklejnapisy', 'this'], 9: {'__name__': '__main__', '__doc__': 'Automatically created module for IPython interactive environment', '__package__': None, '__loader__': None, '__spec__': None, '__builtin__': <module 'builtins' (built-in)>, '__builtins__': <module 'builtins' (built-in)>, '_ih': ['', \"# parametry funkcji mogą mieć zdefiniowaną wartość domyślną\\n\\ndef sklejnapisy(napis1,napis2,napis3='...'):\\n    '''Funkcja skleja trzy napisy podane w parametrach funkcji'''\\n    napis4=napis1+napis2+napis3 # zmienna lokalna\\n    return napis4\\n\\n# jeśli nie podamy wartości trzeciego parametru\\n\\nprint(sklejnapisy('Nad rzeczką ','opodal krzaczka'))\\n\\nprint(sklejnapisy(napis1='Nad rzeczką ',napis2='opodal krzaczka'))\\n\\n# z podaniem tej wartości \\n\\nprint(sklejnapisy('Nad rzeczką ','opodal krzaczka','!!!'))\\n\\nprint(sklejnapisy(napis1='Nad rzeczką ',napis2='opodal krzaczka',napis3='!!!'))\", \"# jesli nie podamy patametru, ktory nie ma wartosci domyslnej ?\\nprint(sklejnapisy(napis1='Nad rzeczką ',napis3='!!!')) # TypeError: sklejnapisy() missing 1 required positional argument: 'napis2'\", '# metadane funkcji\\n\\nprint (sklejnapisy.__name__)           #  nazwa funkcji\\nprint (sklejnapisy.__doc__ )           #  dokumentacja (docstring)\\nprint (sklejnapisy.__dict__ )\\nprint (sklejnapisy)\\nid(sklejnapisy)', '# metadane funkcji\\n\\n# https://docs.python.org/3/reference/datamodel.html\\n\\nprint (sklejnapisy.__name__)           #  nazwa funkcji\\nprint (sklejnapisy.__doc__ )           #  dokumentacja (docstring)\\nprint (sklejnapisy.__defaults__ )\\nprint (sklejnapisy)\\nid(sklejnapisy)', '# metadane funkcji\\n\\n# https://docs.python.org/3/reference/datamodel.html\\n\\nprint (sklejnapisy.__name__)           #  nazwa funkcji\\nprint (sklejnapisy.__doc__ )           #  dokumentacja (docstring)\\nprint (sklejnapisy.__defaults__ )\\n#print (sklejnapisy)\\n#id(sklejnapisy)', '# metadane funkcji\\n\\n# https://docs.python.org/3/reference/datamodel.html\\n\\nprint (sklejnapisy.__name__)           #  nazwa funkcji\\nprint (sklejnapisy.__doc__ )           #  dokumentacja (docstring)\\nprint (sklejnapisy.__defaults__ )      # wartości domyślne \\nprint (sklejnapisy.__code__)\\n#print (sklejnapisy)\\n#id(sklejnapisy)', 'import this', 'dir()', 'locals()', 'globals()', '# zen of Python\\nimport this', 'if __name__ == \"__main__\":\\n     for k, v in globals().items():             #(1)\\n         print k, \"=\", v', 'if __name__ == \"__main__\":\\n     for k, v in globals().items():             #(1)\\n         print (k, \"=\", v)', '#if __name__ == \"__main__\":\\n     for k, v in globals().items():             #(1)\\n         print (k, \"=\", v)', '#if __name__ == \"__main__\":\\nfor k, v in globals().items():             #(1)\\n    print (k, \"=\", v)'], '_oh': {...}, '_dh': ['/home/nbuser/library'], 'In': ['', \"# parametry funkcji mogą mieć zdefiniowaną wartość domyślną\\n\\ndef sklejnapisy(napis1,napis2,napis3='...'):\\n    '''Funkcja skleja trzy napisy podane w parametrach funkcji'''\\n    napis4=napis1+napis2+napis3 # zmienna lokalna\\n    return napis4\\n\\n# jeśli nie podamy wartości trzeciego parametru\\n\\nprint(sklejnapisy('Nad rzeczką ','opodal krzaczka'))\\n\\nprint(sklejnapisy(napis1='Nad rzeczką ',napis2='opodal krzaczka'))\\n\\n# z podaniem tej wartości \\n\\nprint(sklejnapisy('Nad rzeczką ','opodal krzaczka','!!!'))\\n\\nprint(sklejnapisy(napis1='Nad rzeczką ',napis2='opodal krzaczka',napis3='!!!'))\", \"# jesli nie podamy patametru, ktory nie ma wartosci domyslnej ?\\nprint(sklejnapisy(napis1='Nad rzeczką ',napis3='!!!')) # TypeError: sklejnapisy() missing 1 required positional argument: 'napis2'\", '# metadane funkcji\\n\\nprint (sklejnapisy.__name__)           #  nazwa funkcji\\nprint (sklejnapisy.__doc__ )           #  dokumentacja (docstring)\\nprint (sklejnapisy.__dict__ )\\nprint (sklejnapisy)\\nid(sklejnapisy)', '# metadane funkcji\\n\\n# https://docs.python.org/3/reference/datamodel.html\\n\\nprint (sklejnapisy.__name__)           #  nazwa funkcji\\nprint (sklejnapisy.__doc__ )           #  dokumentacja (docstring)\\nprint (sklejnapisy.__defaults__ )\\nprint (sklejnapisy)\\nid(sklejnapisy)', '# metadane funkcji\\n\\n# https://docs.python.org/3/reference/datamodel.html\\n\\nprint (sklejnapisy.__name__)           #  nazwa funkcji\\nprint (sklejnapisy.__doc__ )           #  dokumentacja (docstring)\\nprint (sklejnapisy.__defaults__ )\\n#print (sklejnapisy)\\n#id(sklejnapisy)', '# metadane funkcji\\n\\n# https://docs.python.org/3/reference/datamodel.html\\n\\nprint (sklejnapisy.__name__)           #  nazwa funkcji\\nprint (sklejnapisy.__doc__ )           #  dokumentacja (docstring)\\nprint (sklejnapisy.__defaults__ )      # wartości domyślne \\nprint (sklejnapisy.__code__)\\n#print (sklejnapisy)\\n#id(sklejnapisy)', 'import this', 'dir()', 'locals()', 'globals()', '# zen of Python\\nimport this', 'if __name__ == \"__main__\":\\n     for k, v in globals().items():             #(1)\\n         print k, \"=\", v', 'if __name__ == \"__main__\":\\n     for k, v in globals().items():             #(1)\\n         print (k, \"=\", v)', '#if __name__ == \"__main__\":\\n     for k, v in globals().items():             #(1)\\n         print (k, \"=\", v)', '#if __name__ == \"__main__\":\\nfor k, v in globals().items():             #(1)\\n    print (k, \"=\", v)'], 'Out': {...}, 'get_ipython': <bound method InteractiveShell.get_ipython of <ipykernel.zmqshell.ZMQInteractiveShell object at 0x7f20bb3a10f0>>, 'exit': <IPython.core.autocall.ZMQExitAutocall object at 0x7f20bb36c940>, 'quit': <IPython.core.autocall.ZMQExitAutocall object at 0x7f20bb36c940>, '_': {...}, '__': {...}, '___': ['In', 'Out', '_', '_3', '_4', '__', '___', '__builtin__', '__builtins__', '__doc__', '__loader__', '__name__', '__package__', '__spec__', '_dh', '_i', '_i1', '_i2', '_i3', '_i4', '_i5', '_i6', '_i7', '_i8', '_ih', '_ii', '_iii', '_oh', 'exit', 'get_ipython', 'quit', 'sklejnapisy', 'this'], '_i': '#if __name__ == \"__main__\":\\n     for k, v in globals().items():             #(1)\\n         print (k, \"=\", v)', '_ii': 'if __name__ == \"__main__\":\\n     for k, v in globals().items():             #(1)\\n         print (k, \"=\", v)', '_iii': 'if __name__ == \"__main__\":\\n     for k, v in globals().items():             #(1)\\n         print k, \"=\", v', '_i1': \"# parametry funkcji mogą mieć zdefiniowaną wartość domyślną\\n\\ndef sklejnapisy(napis1,napis2,napis3='...'):\\n    '''Funkcja skleja trzy napisy podane w parametrach funkcji'''\\n    napis4=napis1+napis2+napis3 # zmienna lokalna\\n    return napis4\\n\\n# jeśli nie podamy wartości trzeciego parametru\\n\\nprint(sklejnapisy('Nad rzeczką ','opodal krzaczka'))\\n\\nprint(sklejnapisy(napis1='Nad rzeczką ',napis2='opodal krzaczka'))\\n\\n# z podaniem tej wartości \\n\\nprint(sklejnapisy('Nad rzeczką ','opodal krzaczka','!!!'))\\n\\nprint(sklejnapisy(napis1='Nad rzeczką ',napis2='opodal krzaczka',napis3='!!!'))\", 'sklejnapisy': <function sklejnapisy at 0x7f20bb24bf28>, '_i2': \"# jesli nie podamy patametru, ktory nie ma wartosci domyslnej ?\\nprint(sklejnapisy(napis1='Nad rzeczką ',napis3='!!!')) # TypeError: sklejnapisy() missing 1 required positional argument: 'napis2'\", '_i3': '# metadane funkcji\\n\\nprint (sklejnapisy.__name__)           #  nazwa funkcji\\nprint (sklejnapisy.__doc__ )           #  dokumentacja (docstring)\\nprint (sklejnapisy.__dict__ )\\nprint (sklejnapisy)\\nid(sklejnapisy)', '_3': 139778555428648, '_i4': '# metadane funkcji\\n\\n# https://docs.python.org/3/reference/datamodel.html\\n\\nprint (sklejnapisy.__name__)           #  nazwa funkcji\\nprint (sklejnapisy.__doc__ )           #  dokumentacja (docstring)\\nprint (sklejnapisy.__defaults__ )\\nprint (sklejnapisy)\\nid(sklejnapisy)', '_4': 139778555428648, '_i5': '# metadane funkcji\\n\\n# https://docs.python.org/3/reference/datamodel.html\\n\\nprint (sklejnapisy.__name__)           #  nazwa funkcji\\nprint (sklejnapisy.__doc__ )           #  dokumentacja (docstring)\\nprint (sklejnapisy.__defaults__ )\\n#print (sklejnapisy)\\n#id(sklejnapisy)', '_i6': '# metadane funkcji\\n\\n# https://docs.python.org/3/reference/datamodel.html\\n\\nprint (sklejnapisy.__name__)           #  nazwa funkcji\\nprint (sklejnapisy.__doc__ )           #  dokumentacja (docstring)\\nprint (sklejnapisy.__defaults__ )      # wartości domyślne \\nprint (sklejnapisy.__code__)\\n#print (sklejnapisy)\\n#id(sklejnapisy)', '_i7': ' import this', 'this': <module 'this' from '/home/nbuser/anaconda3_501/lib/python3.6/this.py'>, '_i8': 'dir()', '_8': ['In', 'Out', '_', '_3', '_4', '__', '___', '__builtin__', '__builtins__', '__doc__', '__loader__', '__name__', '__package__', '__spec__', '_dh', '_i', '_i1', '_i2', '_i3', '_i4', '_i5', '_i6', '_i7', '_i8', '_ih', '_ii', '_iii', '_oh', 'exit', 'get_ipython', 'quit', 'sklejnapisy', 'this'], '_i9': 'locals()', '_9': {...}, '_i10': 'globals()', '_10': {...}, '_i11': '# zen of Python\\nimport this', '_i12': 'if __name__ == \"__main__\":\\n     for k, v in globals().items():             #(1)\\n         print k, \"=\", v', '_i13': 'if __name__ == \"__main__\":\\n     for k, v in globals().items():             #(1)\\n         print (k, \"=\", v)', 'k': 'Out', 'v': {...}, '_i14': '#if __name__ == \"__main__\":\\n     for k, v in globals().items():             #(1)\\n         print (k, \"=\", v)', '_i15': '#if __name__ == \"__main__\":\\nfor k, v in globals().items():             #(1)\\n    print (k, \"=\", v)'}, 10: {'__name__': '__main__', '__doc__': 'Automatically created module for IPython interactive environment', '__package__': None, '__loader__': None, '__spec__': None, '__builtin__': <module 'builtins' (built-in)>, '__builtins__': <module 'builtins' (built-in)>, '_ih': ['', \"# parametry funkcji mogą mieć zdefiniowaną wartość domyślną\\n\\ndef sklejnapisy(napis1,napis2,napis3='...'):\\n    '''Funkcja skleja trzy napisy podane w parametrach funkcji'''\\n    napis4=napis1+napis2+napis3 # zmienna lokalna\\n    return napis4\\n\\n# jeśli nie podamy wartości trzeciego parametru\\n\\nprint(sklejnapisy('Nad rzeczką ','opodal krzaczka'))\\n\\nprint(sklejnapisy(napis1='Nad rzeczką ',napis2='opodal krzaczka'))\\n\\n# z podaniem tej wartości \\n\\nprint(sklejnapisy('Nad rzeczką ','opodal krzaczka','!!!'))\\n\\nprint(sklejnapisy(napis1='Nad rzeczką ',napis2='opodal krzaczka',napis3='!!!'))\", \"# jesli nie podamy patametru, ktory nie ma wartosci domyslnej ?\\nprint(sklejnapisy(napis1='Nad rzeczką ',napis3='!!!')) # TypeError: sklejnapisy() missing 1 required positional argument: 'napis2'\", '# metadane funkcji\\n\\nprint (sklejnapisy.__name__)           #  nazwa funkcji\\nprint (sklejnapisy.__doc__ )           #  dokumentacja (docstring)\\nprint (sklejnapisy.__dict__ )\\nprint (sklejnapisy)\\nid(sklejnapisy)', '# metadane funkcji\\n\\n# https://docs.python.org/3/reference/datamodel.html\\n\\nprint (sklejnapisy.__name__)           #  nazwa funkcji\\nprint (sklejnapisy.__doc__ )           #  dokumentacja (docstring)\\nprint (sklejnapisy.__defaults__ )\\nprint (sklejnapisy)\\nid(sklejnapisy)', '# metadane funkcji\\n\\n# https://docs.python.org/3/reference/datamodel.html\\n\\nprint (sklejnapisy.__name__)           #  nazwa funkcji\\nprint (sklejnapisy.__doc__ )           #  dokumentacja (docstring)\\nprint (sklejnapisy.__defaults__ )\\n#print (sklejnapisy)\\n#id(sklejnapisy)', '# metadane funkcji\\n\\n# https://docs.python.org/3/reference/datamodel.html\\n\\nprint (sklejnapisy.__name__)           #  nazwa funkcji\\nprint (sklejnapisy.__doc__ )           #  dokumentacja (docstring)\\nprint (sklejnapisy.__defaults__ )      # wartości domyślne \\nprint (sklejnapisy.__code__)\\n#print (sklejnapisy)\\n#id(sklejnapisy)', 'import this', 'dir()', 'locals()', 'globals()', '# zen of Python\\nimport this', 'if __name__ == \"__main__\":\\n     for k, v in globals().items():             #(1)\\n         print k, \"=\", v', 'if __name__ == \"__main__\":\\n     for k, v in globals().items():             #(1)\\n         print (k, \"=\", v)', '#if __name__ == \"__main__\":\\n     for k, v in globals().items():             #(1)\\n         print (k, \"=\", v)', '#if __name__ == \"__main__\":\\nfor k, v in globals().items():             #(1)\\n    print (k, \"=\", v)'], '_oh': {...}, '_dh': ['/home/nbuser/library'], 'In': ['', \"# parametry funkcji mogą mieć zdefiniowaną wartość domyślną\\n\\ndef sklejnapisy(napis1,napis2,napis3='...'):\\n    '''Funkcja skleja trzy napisy podane w parametrach funkcji'''\\n    napis4=napis1+napis2+napis3 # zmienna lokalna\\n    return napis4\\n\\n# jeśli nie podamy wartości trzeciego parametru\\n\\nprint(sklejnapisy('Nad rzeczką ','opodal krzaczka'))\\n\\nprint(sklejnapisy(napis1='Nad rzeczką ',napis2='opodal krzaczka'))\\n\\n# z podaniem tej wartości \\n\\nprint(sklejnapisy('Nad rzeczką ','opodal krzaczka','!!!'))\\n\\nprint(sklejnapisy(napis1='Nad rzeczką ',napis2='opodal krzaczka',napis3='!!!'))\", \"# jesli nie podamy patametru, ktory nie ma wartosci domyslnej ?\\nprint(sklejnapisy(napis1='Nad rzeczką ',napis3='!!!')) # TypeError: sklejnapisy() missing 1 required positional argument: 'napis2'\", '# metadane funkcji\\n\\nprint (sklejnapisy.__name__)           #  nazwa funkcji\\nprint (sklejnapisy.__doc__ )           #  dokumentacja (docstring)\\nprint (sklejnapisy.__dict__ )\\nprint (sklejnapisy)\\nid(sklejnapisy)', '# metadane funkcji\\n\\n# https://docs.python.org/3/reference/datamodel.html\\n\\nprint (sklejnapisy.__name__)           #  nazwa funkcji\\nprint (sklejnapisy.__doc__ )           #  dokumentacja (docstring)\\nprint (sklejnapisy.__defaults__ )\\nprint (sklejnapisy)\\nid(sklejnapisy)', '# metadane funkcji\\n\\n# https://docs.python.org/3/reference/datamodel.html\\n\\nprint (sklejnapisy.__name__)           #  nazwa funkcji\\nprint (sklejnapisy.__doc__ )           #  dokumentacja (docstring)\\nprint (sklejnapisy.__defaults__ )\\n#print (sklejnapisy)\\n#id(sklejnapisy)', '# metadane funkcji\\n\\n# https://docs.python.org/3/reference/datamodel.html\\n\\nprint (sklejnapisy.__name__)           #  nazwa funkcji\\nprint (sklejnapisy.__doc__ )           #  dokumentacja (docstring)\\nprint (sklejnapisy.__defaults__ )      # wartości domyślne \\nprint (sklejnapisy.__code__)\\n#print (sklejnapisy)\\n#id(sklejnapisy)', 'import this', 'dir()', 'locals()', 'globals()', '# zen of Python\\nimport this', 'if __name__ == \"__main__\":\\n     for k, v in globals().items():             #(1)\\n         print k, \"=\", v', 'if __name__ == \"__main__\":\\n     for k, v in globals().items():             #(1)\\n         print (k, \"=\", v)', '#if __name__ == \"__main__\":\\n     for k, v in globals().items():             #(1)\\n         print (k, \"=\", v)', '#if __name__ == \"__main__\":\\nfor k, v in globals().items():             #(1)\\n    print (k, \"=\", v)'], 'Out': {...}, 'get_ipython': <bound method InteractiveShell.get_ipython of <ipykernel.zmqshell.ZMQInteractiveShell object at 0x7f20bb3a10f0>>, 'exit': <IPython.core.autocall.ZMQExitAutocall object at 0x7f20bb36c940>, 'quit': <IPython.core.autocall.ZMQExitAutocall object at 0x7f20bb36c940>, '_': {...}, '__': {...}, '___': ['In', 'Out', '_', '_3', '_4', '__', '___', '__builtin__', '__builtins__', '__doc__', '__loader__', '__name__', '__package__', '__spec__', '_dh', '_i', '_i1', '_i2', '_i3', '_i4', '_i5', '_i6', '_i7', '_i8', '_ih', '_ii', '_iii', '_oh', 'exit', 'get_ipython', 'quit', 'sklejnapisy', 'this'], '_i': '#if __name__ == \"__main__\":\\n     for k, v in globals().items():             #(1)\\n         print (k, \"=\", v)', '_ii': 'if __name__ == \"__main__\":\\n     for k, v in globals().items():             #(1)\\n         print (k, \"=\", v)', '_iii': 'if __name__ == \"__main__\":\\n     for k, v in globals().items():             #(1)\\n         print k, \"=\", v', '_i1': \"# parametry funkcji mogą mieć zdefiniowaną wartość domyślną\\n\\ndef sklejnapisy(napis1,napis2,napis3='...'):\\n    '''Funkcja skleja trzy napisy podane w parametrach funkcji'''\\n    napis4=napis1+napis2+napis3 # zmienna lokalna\\n    return napis4\\n\\n# jeśli nie podamy wartości trzeciego parametru\\n\\nprint(sklejnapisy('Nad rzeczką ','opodal krzaczka'))\\n\\nprint(sklejnapisy(napis1='Nad rzeczką ',napis2='opodal krzaczka'))\\n\\n# z podaniem tej wartości \\n\\nprint(sklejnapisy('Nad rzeczką ','opodal krzaczka','!!!'))\\n\\nprint(sklejnapisy(napis1='Nad rzeczką ',napis2='opodal krzaczka',napis3='!!!'))\", 'sklejnapisy': <function sklejnapisy at 0x7f20bb24bf28>, '_i2': \"# jesli nie podamy patametru, ktory nie ma wartosci domyslnej ?\\nprint(sklejnapisy(napis1='Nad rzeczką ',napis3='!!!')) # TypeError: sklejnapisy() missing 1 required positional argument: 'napis2'\", '_i3': '# metadane funkcji\\n\\nprint (sklejnapisy.__name__)           #  nazwa funkcji\\nprint (sklejnapisy.__doc__ )           #  dokumentacja (docstring)\\nprint (sklejnapisy.__dict__ )\\nprint (sklejnapisy)\\nid(sklejnapisy)', '_3': 139778555428648, '_i4': '# metadane funkcji\\n\\n# https://docs.python.org/3/reference/datamodel.html\\n\\nprint (sklejnapisy.__name__)           #  nazwa funkcji\\nprint (sklejnapisy.__doc__ )           #  dokumentacja (docstring)\\nprint (sklejnapisy.__defaults__ )\\nprint (sklejnapisy)\\nid(sklejnapisy)', '_4': 139778555428648, '_i5': '# metadane funkcji\\n\\n# https://docs.python.org/3/reference/datamodel.html\\n\\nprint (sklejnapisy.__name__)           #  nazwa funkcji\\nprint (sklejnapisy.__doc__ )           #  dokumentacja (docstring)\\nprint (sklejnapisy.__defaults__ )\\n#print (sklejnapisy)\\n#id(sklejnapisy)', '_i6': '# metadane funkcji\\n\\n# https://docs.python.org/3/reference/datamodel.html\\n\\nprint (sklejnapisy.__name__)           #  nazwa funkcji\\nprint (sklejnapisy.__doc__ )           #  dokumentacja (docstring)\\nprint (sklejnapisy.__defaults__ )      # wartości domyślne \\nprint (sklejnapisy.__code__)\\n#print (sklejnapisy)\\n#id(sklejnapisy)', '_i7': ' import this', 'this': <module 'this' from '/home/nbuser/anaconda3_501/lib/python3.6/this.py'>, '_i8': 'dir()', '_8': ['In', 'Out', '_', '_3', '_4', '__', '___', '__builtin__', '__builtins__', '__doc__', '__loader__', '__name__', '__package__', '__spec__', '_dh', '_i', '_i1', '_i2', '_i3', '_i4', '_i5', '_i6', '_i7', '_i8', '_ih', '_ii', '_iii', '_oh', 'exit', 'get_ipython', 'quit', 'sklejnapisy', 'this'], '_i9': 'locals()', '_9': {...}, '_i10': 'globals()', '_10': {...}, '_i11': '# zen of Python\\nimport this', '_i12': 'if __name__ == \"__main__\":\\n     for k, v in globals().items():             #(1)\\n         print k, \"=\", v', '_i13': 'if __name__ == \"__main__\":\\n     for k, v in globals().items():             #(1)\\n         print (k, \"=\", v)', 'k': 'Out', 'v': {...}, '_i14': '#if __name__ == \"__main__\":\\n     for k, v in globals().items():             #(1)\\n         print (k, \"=\", v)', '_i15': '#if __name__ == \"__main__\":\\nfor k, v in globals().items():             #(1)\\n    print (k, \"=\", v)'}}\n",
      "get_ipython = <bound method InteractiveShell.get_ipython of <ipykernel.zmqshell.ZMQInteractiveShell object at 0x7f20bb3a10f0>>\n",
      "exit = <IPython.core.autocall.ZMQExitAutocall object at 0x7f20bb36c940>\n",
      "quit = <IPython.core.autocall.ZMQExitAutocall object at 0x7f20bb36c940>\n",
      "_ = {'__name__': '__main__', '__doc__': 'Automatically created module for IPython interactive environment', '__package__': None, '__loader__': None, '__spec__': None, '__builtin__': <module 'builtins' (built-in)>, '__builtins__': <module 'builtins' (built-in)>, '_ih': ['', \"# parametry funkcji mogą mieć zdefiniowaną wartość domyślną\\n\\ndef sklejnapisy(napis1,napis2,napis3='...'):\\n    '''Funkcja skleja trzy napisy podane w parametrach funkcji'''\\n    napis4=napis1+napis2+napis3 # zmienna lokalna\\n    return napis4\\n\\n# jeśli nie podamy wartości trzeciego parametru\\n\\nprint(sklejnapisy('Nad rzeczką ','opodal krzaczka'))\\n\\nprint(sklejnapisy(napis1='Nad rzeczką ',napis2='opodal krzaczka'))\\n\\n# z podaniem tej wartości \\n\\nprint(sklejnapisy('Nad rzeczką ','opodal krzaczka','!!!'))\\n\\nprint(sklejnapisy(napis1='Nad rzeczką ',napis2='opodal krzaczka',napis3='!!!'))\", \"# jesli nie podamy patametru, ktory nie ma wartosci domyslnej ?\\nprint(sklejnapisy(napis1='Nad rzeczką ',napis3='!!!')) # TypeError: sklejnapisy() missing 1 required positional argument: 'napis2'\", '# metadane funkcji\\n\\nprint (sklejnapisy.__name__)           #  nazwa funkcji\\nprint (sklejnapisy.__doc__ )           #  dokumentacja (docstring)\\nprint (sklejnapisy.__dict__ )\\nprint (sklejnapisy)\\nid(sklejnapisy)', '# metadane funkcji\\n\\n# https://docs.python.org/3/reference/datamodel.html\\n\\nprint (sklejnapisy.__name__)           #  nazwa funkcji\\nprint (sklejnapisy.__doc__ )           #  dokumentacja (docstring)\\nprint (sklejnapisy.__defaults__ )\\nprint (sklejnapisy)\\nid(sklejnapisy)', '# metadane funkcji\\n\\n# https://docs.python.org/3/reference/datamodel.html\\n\\nprint (sklejnapisy.__name__)           #  nazwa funkcji\\nprint (sklejnapisy.__doc__ )           #  dokumentacja (docstring)\\nprint (sklejnapisy.__defaults__ )\\n#print (sklejnapisy)\\n#id(sklejnapisy)', '# metadane funkcji\\n\\n# https://docs.python.org/3/reference/datamodel.html\\n\\nprint (sklejnapisy.__name__)           #  nazwa funkcji\\nprint (sklejnapisy.__doc__ )           #  dokumentacja (docstring)\\nprint (sklejnapisy.__defaults__ )      # wartości domyślne \\nprint (sklejnapisy.__code__)\\n#print (sklejnapisy)\\n#id(sklejnapisy)', 'import this', 'dir()', 'locals()', 'globals()', '# zen of Python\\nimport this', 'if __name__ == \"__main__\":\\n     for k, v in globals().items():             #(1)\\n         print k, \"=\", v', 'if __name__ == \"__main__\":\\n     for k, v in globals().items():             #(1)\\n         print (k, \"=\", v)', '#if __name__ == \"__main__\":\\n     for k, v in globals().items():             #(1)\\n         print (k, \"=\", v)', '#if __name__ == \"__main__\":\\nfor k, v in globals().items():             #(1)\\n    print (k, \"=\", v)'], '_oh': {3: 139778555428648, 4: 139778555428648, 8: ['In', 'Out', '_', '_3', '_4', '__', '___', '__builtin__', '__builtins__', '__doc__', '__loader__', '__name__', '__package__', '__spec__', '_dh', '_i', '_i1', '_i2', '_i3', '_i4', '_i5', '_i6', '_i7', '_i8', '_ih', '_ii', '_iii', '_oh', 'exit', 'get_ipython', 'quit', 'sklejnapisy', 'this'], 9: {...}, 10: {...}}, '_dh': ['/home/nbuser/library'], 'In': ['', \"# parametry funkcji mogą mieć zdefiniowaną wartość domyślną\\n\\ndef sklejnapisy(napis1,napis2,napis3='...'):\\n    '''Funkcja skleja trzy napisy podane w parametrach funkcji'''\\n    napis4=napis1+napis2+napis3 # zmienna lokalna\\n    return napis4\\n\\n# jeśli nie podamy wartości trzeciego parametru\\n\\nprint(sklejnapisy('Nad rzeczką ','opodal krzaczka'))\\n\\nprint(sklejnapisy(napis1='Nad rzeczką ',napis2='opodal krzaczka'))\\n\\n# z podaniem tej wartości \\n\\nprint(sklejnapisy('Nad rzeczką ','opodal krzaczka','!!!'))\\n\\nprint(sklejnapisy(napis1='Nad rzeczką ',napis2='opodal krzaczka',napis3='!!!'))\", \"# jesli nie podamy patametru, ktory nie ma wartosci domyslnej ?\\nprint(sklejnapisy(napis1='Nad rzeczką ',napis3='!!!')) # TypeError: sklejnapisy() missing 1 required positional argument: 'napis2'\", '# metadane funkcji\\n\\nprint (sklejnapisy.__name__)           #  nazwa funkcji\\nprint (sklejnapisy.__doc__ )           #  dokumentacja (docstring)\\nprint (sklejnapisy.__dict__ )\\nprint (sklejnapisy)\\nid(sklejnapisy)', '# metadane funkcji\\n\\n# https://docs.python.org/3/reference/datamodel.html\\n\\nprint (sklejnapisy.__name__)           #  nazwa funkcji\\nprint (sklejnapisy.__doc__ )           #  dokumentacja (docstring)\\nprint (sklejnapisy.__defaults__ )\\nprint (sklejnapisy)\\nid(sklejnapisy)', '# metadane funkcji\\n\\n# https://docs.python.org/3/reference/datamodel.html\\n\\nprint (sklejnapisy.__name__)           #  nazwa funkcji\\nprint (sklejnapisy.__doc__ )           #  dokumentacja (docstring)\\nprint (sklejnapisy.__defaults__ )\\n#print (sklejnapisy)\\n#id(sklejnapisy)', '# metadane funkcji\\n\\n# https://docs.python.org/3/reference/datamodel.html\\n\\nprint (sklejnapisy.__name__)           #  nazwa funkcji\\nprint (sklejnapisy.__doc__ )           #  dokumentacja (docstring)\\nprint (sklejnapisy.__defaults__ )      # wartości domyślne \\nprint (sklejnapisy.__code__)\\n#print (sklejnapisy)\\n#id(sklejnapisy)', 'import this', 'dir()', 'locals()', 'globals()', '# zen of Python\\nimport this', 'if __name__ == \"__main__\":\\n     for k, v in globals().items():             #(1)\\n         print k, \"=\", v', 'if __name__ == \"__main__\":\\n     for k, v in globals().items():             #(1)\\n         print (k, \"=\", v)', '#if __name__ == \"__main__\":\\n     for k, v in globals().items():             #(1)\\n         print (k, \"=\", v)', '#if __name__ == \"__main__\":\\nfor k, v in globals().items():             #(1)\\n    print (k, \"=\", v)'], 'Out': {3: 139778555428648, 4: 139778555428648, 8: ['In', 'Out', '_', '_3', '_4', '__', '___', '__builtin__', '__builtins__', '__doc__', '__loader__', '__name__', '__package__', '__spec__', '_dh', '_i', '_i1', '_i2', '_i3', '_i4', '_i5', '_i6', '_i7', '_i8', '_ih', '_ii', '_iii', '_oh', 'exit', 'get_ipython', 'quit', 'sklejnapisy', 'this'], 9: {...}, 10: {...}}, 'get_ipython': <bound method InteractiveShell.get_ipython of <ipykernel.zmqshell.ZMQInteractiveShell object at 0x7f20bb3a10f0>>, 'exit': <IPython.core.autocall.ZMQExitAutocall object at 0x7f20bb36c940>, 'quit': <IPython.core.autocall.ZMQExitAutocall object at 0x7f20bb36c940>, '_': {...}, '__': {...}, '___': ['In', 'Out', '_', '_3', '_4', '__', '___', '__builtin__', '__builtins__', '__doc__', '__loader__', '__name__', '__package__', '__spec__', '_dh', '_i', '_i1', '_i2', '_i3', '_i4', '_i5', '_i6', '_i7', '_i8', '_ih', '_ii', '_iii', '_oh', 'exit', 'get_ipython', 'quit', 'sklejnapisy', 'this'], '_i': '#if __name__ == \"__main__\":\\n     for k, v in globals().items():             #(1)\\n         print (k, \"=\", v)', '_ii': 'if __name__ == \"__main__\":\\n     for k, v in globals().items():             #(1)\\n         print (k, \"=\", v)', '_iii': 'if __name__ == \"__main__\":\\n     for k, v in globals().items():             #(1)\\n         print k, \"=\", v', '_i1': \"# parametry funkcji mogą mieć zdefiniowaną wartość domyślną\\n\\ndef sklejnapisy(napis1,napis2,napis3='...'):\\n    '''Funkcja skleja trzy napisy podane w parametrach funkcji'''\\n    napis4=napis1+napis2+napis3 # zmienna lokalna\\n    return napis4\\n\\n# jeśli nie podamy wartości trzeciego parametru\\n\\nprint(sklejnapisy('Nad rzeczką ','opodal krzaczka'))\\n\\nprint(sklejnapisy(napis1='Nad rzeczką ',napis2='opodal krzaczka'))\\n\\n# z podaniem tej wartości \\n\\nprint(sklejnapisy('Nad rzeczką ','opodal krzaczka','!!!'))\\n\\nprint(sklejnapisy(napis1='Nad rzeczką ',napis2='opodal krzaczka',napis3='!!!'))\", 'sklejnapisy': <function sklejnapisy at 0x7f20bb24bf28>, '_i2': \"# jesli nie podamy patametru, ktory nie ma wartosci domyslnej ?\\nprint(sklejnapisy(napis1='Nad rzeczką ',napis3='!!!')) # TypeError: sklejnapisy() missing 1 required positional argument: 'napis2'\", '_i3': '# metadane funkcji\\n\\nprint (sklejnapisy.__name__)           #  nazwa funkcji\\nprint (sklejnapisy.__doc__ )           #  dokumentacja (docstring)\\nprint (sklejnapisy.__dict__ )\\nprint (sklejnapisy)\\nid(sklejnapisy)', '_3': 139778555428648, '_i4': '# metadane funkcji\\n\\n# https://docs.python.org/3/reference/datamodel.html\\n\\nprint (sklejnapisy.__name__)           #  nazwa funkcji\\nprint (sklejnapisy.__doc__ )           #  dokumentacja (docstring)\\nprint (sklejnapisy.__defaults__ )\\nprint (sklejnapisy)\\nid(sklejnapisy)', '_4': 139778555428648, '_i5': '# metadane funkcji\\n\\n# https://docs.python.org/3/reference/datamodel.html\\n\\nprint (sklejnapisy.__name__)           #  nazwa funkcji\\nprint (sklejnapisy.__doc__ )           #  dokumentacja (docstring)\\nprint (sklejnapisy.__defaults__ )\\n#print (sklejnapisy)\\n#id(sklejnapisy)', '_i6': '# metadane funkcji\\n\\n# https://docs.python.org/3/reference/datamodel.html\\n\\nprint (sklejnapisy.__name__)           #  nazwa funkcji\\nprint (sklejnapisy.__doc__ )           #  dokumentacja (docstring)\\nprint (sklejnapisy.__defaults__ )      # wartości domyślne \\nprint (sklejnapisy.__code__)\\n#print (sklejnapisy)\\n#id(sklejnapisy)', '_i7': ' import this', 'this': <module 'this' from '/home/nbuser/anaconda3_501/lib/python3.6/this.py'>, '_i8': 'dir()', '_8': ['In', 'Out', '_', '_3', '_4', '__', '___', '__builtin__', '__builtins__', '__doc__', '__loader__', '__name__', '__package__', '__spec__', '_dh', '_i', '_i1', '_i2', '_i3', '_i4', '_i5', '_i6', '_i7', '_i8', '_ih', '_ii', '_iii', '_oh', 'exit', 'get_ipython', 'quit', 'sklejnapisy', 'this'], '_i9': 'locals()', '_9': {...}, '_i10': 'globals()', '_10': {...}, '_i11': '# zen of Python\\nimport this', '_i12': 'if __name__ == \"__main__\":\\n     for k, v in globals().items():             #(1)\\n         print k, \"=\", v', '_i13': 'if __name__ == \"__main__\":\\n     for k, v in globals().items():             #(1)\\n         print (k, \"=\", v)', 'k': '_', 'v': {...}, '_i14': '#if __name__ == \"__main__\":\\n     for k, v in globals().items():             #(1)\\n         print (k, \"=\", v)', '_i15': '#if __name__ == \"__main__\":\\nfor k, v in globals().items():             #(1)\\n    print (k, \"=\", v)'}\n",
      "__ = {'__name__': '__main__', '__doc__': 'Automatically created module for IPython interactive environment', '__package__': None, '__loader__': None, '__spec__': None, '__builtin__': <module 'builtins' (built-in)>, '__builtins__': <module 'builtins' (built-in)>, '_ih': ['', \"# parametry funkcji mogą mieć zdefiniowaną wartość domyślną\\n\\ndef sklejnapisy(napis1,napis2,napis3='...'):\\n    '''Funkcja skleja trzy napisy podane w parametrach funkcji'''\\n    napis4=napis1+napis2+napis3 # zmienna lokalna\\n    return napis4\\n\\n# jeśli nie podamy wartości trzeciego parametru\\n\\nprint(sklejnapisy('Nad rzeczką ','opodal krzaczka'))\\n\\nprint(sklejnapisy(napis1='Nad rzeczką ',napis2='opodal krzaczka'))\\n\\n# z podaniem tej wartości \\n\\nprint(sklejnapisy('Nad rzeczką ','opodal krzaczka','!!!'))\\n\\nprint(sklejnapisy(napis1='Nad rzeczką ',napis2='opodal krzaczka',napis3='!!!'))\", \"# jesli nie podamy patametru, ktory nie ma wartosci domyslnej ?\\nprint(sklejnapisy(napis1='Nad rzeczką ',napis3='!!!')) # TypeError: sklejnapisy() missing 1 required positional argument: 'napis2'\", '# metadane funkcji\\n\\nprint (sklejnapisy.__name__)           #  nazwa funkcji\\nprint (sklejnapisy.__doc__ )           #  dokumentacja (docstring)\\nprint (sklejnapisy.__dict__ )\\nprint (sklejnapisy)\\nid(sklejnapisy)', '# metadane funkcji\\n\\n# https://docs.python.org/3/reference/datamodel.html\\n\\nprint (sklejnapisy.__name__)           #  nazwa funkcji\\nprint (sklejnapisy.__doc__ )           #  dokumentacja (docstring)\\nprint (sklejnapisy.__defaults__ )\\nprint (sklejnapisy)\\nid(sklejnapisy)', '# metadane funkcji\\n\\n# https://docs.python.org/3/reference/datamodel.html\\n\\nprint (sklejnapisy.__name__)           #  nazwa funkcji\\nprint (sklejnapisy.__doc__ )           #  dokumentacja (docstring)\\nprint (sklejnapisy.__defaults__ )\\n#print (sklejnapisy)\\n#id(sklejnapisy)', '# metadane funkcji\\n\\n# https://docs.python.org/3/reference/datamodel.html\\n\\nprint (sklejnapisy.__name__)           #  nazwa funkcji\\nprint (sklejnapisy.__doc__ )           #  dokumentacja (docstring)\\nprint (sklejnapisy.__defaults__ )      # wartości domyślne \\nprint (sklejnapisy.__code__)\\n#print (sklejnapisy)\\n#id(sklejnapisy)', 'import this', 'dir()', 'locals()', 'globals()', '# zen of Python\\nimport this', 'if __name__ == \"__main__\":\\n     for k, v in globals().items():             #(1)\\n         print k, \"=\", v', 'if __name__ == \"__main__\":\\n     for k, v in globals().items():             #(1)\\n         print (k, \"=\", v)', '#if __name__ == \"__main__\":\\n     for k, v in globals().items():             #(1)\\n         print (k, \"=\", v)', '#if __name__ == \"__main__\":\\nfor k, v in globals().items():             #(1)\\n    print (k, \"=\", v)'], '_oh': {3: 139778555428648, 4: 139778555428648, 8: ['In', 'Out', '_', '_3', '_4', '__', '___', '__builtin__', '__builtins__', '__doc__', '__loader__', '__name__', '__package__', '__spec__', '_dh', '_i', '_i1', '_i2', '_i3', '_i4', '_i5', '_i6', '_i7', '_i8', '_ih', '_ii', '_iii', '_oh', 'exit', 'get_ipython', 'quit', 'sklejnapisy', 'this'], 9: {...}, 10: {...}}, '_dh': ['/home/nbuser/library'], 'In': ['', \"# parametry funkcji mogą mieć zdefiniowaną wartość domyślną\\n\\ndef sklejnapisy(napis1,napis2,napis3='...'):\\n    '''Funkcja skleja trzy napisy podane w parametrach funkcji'''\\n    napis4=napis1+napis2+napis3 # zmienna lokalna\\n    return napis4\\n\\n# jeśli nie podamy wartości trzeciego parametru\\n\\nprint(sklejnapisy('Nad rzeczką ','opodal krzaczka'))\\n\\nprint(sklejnapisy(napis1='Nad rzeczką ',napis2='opodal krzaczka'))\\n\\n# z podaniem tej wartości \\n\\nprint(sklejnapisy('Nad rzeczką ','opodal krzaczka','!!!'))\\n\\nprint(sklejnapisy(napis1='Nad rzeczką ',napis2='opodal krzaczka',napis3='!!!'))\", \"# jesli nie podamy patametru, ktory nie ma wartosci domyslnej ?\\nprint(sklejnapisy(napis1='Nad rzeczką ',napis3='!!!')) # TypeError: sklejnapisy() missing 1 required positional argument: 'napis2'\", '# metadane funkcji\\n\\nprint (sklejnapisy.__name__)           #  nazwa funkcji\\nprint (sklejnapisy.__doc__ )           #  dokumentacja (docstring)\\nprint (sklejnapisy.__dict__ )\\nprint (sklejnapisy)\\nid(sklejnapisy)', '# metadane funkcji\\n\\n# https://docs.python.org/3/reference/datamodel.html\\n\\nprint (sklejnapisy.__name__)           #  nazwa funkcji\\nprint (sklejnapisy.__doc__ )           #  dokumentacja (docstring)\\nprint (sklejnapisy.__defaults__ )\\nprint (sklejnapisy)\\nid(sklejnapisy)', '# metadane funkcji\\n\\n# https://docs.python.org/3/reference/datamodel.html\\n\\nprint (sklejnapisy.__name__)           #  nazwa funkcji\\nprint (sklejnapisy.__doc__ )           #  dokumentacja (docstring)\\nprint (sklejnapisy.__defaults__ )\\n#print (sklejnapisy)\\n#id(sklejnapisy)', '# metadane funkcji\\n\\n# https://docs.python.org/3/reference/datamodel.html\\n\\nprint (sklejnapisy.__name__)           #  nazwa funkcji\\nprint (sklejnapisy.__doc__ )           #  dokumentacja (docstring)\\nprint (sklejnapisy.__defaults__ )      # wartości domyślne \\nprint (sklejnapisy.__code__)\\n#print (sklejnapisy)\\n#id(sklejnapisy)', 'import this', 'dir()', 'locals()', 'globals()', '# zen of Python\\nimport this', 'if __name__ == \"__main__\":\\n     for k, v in globals().items():             #(1)\\n         print k, \"=\", v', 'if __name__ == \"__main__\":\\n     for k, v in globals().items():             #(1)\\n         print (k, \"=\", v)', '#if __name__ == \"__main__\":\\n     for k, v in globals().items():             #(1)\\n         print (k, \"=\", v)', '#if __name__ == \"__main__\":\\nfor k, v in globals().items():             #(1)\\n    print (k, \"=\", v)'], 'Out': {3: 139778555428648, 4: 139778555428648, 8: ['In', 'Out', '_', '_3', '_4', '__', '___', '__builtin__', '__builtins__', '__doc__', '__loader__', '__name__', '__package__', '__spec__', '_dh', '_i', '_i1', '_i2', '_i3', '_i4', '_i5', '_i6', '_i7', '_i8', '_ih', '_ii', '_iii', '_oh', 'exit', 'get_ipython', 'quit', 'sklejnapisy', 'this'], 9: {...}, 10: {...}}, 'get_ipython': <bound method InteractiveShell.get_ipython of <ipykernel.zmqshell.ZMQInteractiveShell object at 0x7f20bb3a10f0>>, 'exit': <IPython.core.autocall.ZMQExitAutocall object at 0x7f20bb36c940>, 'quit': <IPython.core.autocall.ZMQExitAutocall object at 0x7f20bb36c940>, '_': {...}, '__': {...}, '___': ['In', 'Out', '_', '_3', '_4', '__', '___', '__builtin__', '__builtins__', '__doc__', '__loader__', '__name__', '__package__', '__spec__', '_dh', '_i', '_i1', '_i2', '_i3', '_i4', '_i5', '_i6', '_i7', '_i8', '_ih', '_ii', '_iii', '_oh', 'exit', 'get_ipython', 'quit', 'sklejnapisy', 'this'], '_i': '#if __name__ == \"__main__\":\\n     for k, v in globals().items():             #(1)\\n         print (k, \"=\", v)', '_ii': 'if __name__ == \"__main__\":\\n     for k, v in globals().items():             #(1)\\n         print (k, \"=\", v)', '_iii': 'if __name__ == \"__main__\":\\n     for k, v in globals().items():             #(1)\\n         print k, \"=\", v', '_i1': \"# parametry funkcji mogą mieć zdefiniowaną wartość domyślną\\n\\ndef sklejnapisy(napis1,napis2,napis3='...'):\\n    '''Funkcja skleja trzy napisy podane w parametrach funkcji'''\\n    napis4=napis1+napis2+napis3 # zmienna lokalna\\n    return napis4\\n\\n# jeśli nie podamy wartości trzeciego parametru\\n\\nprint(sklejnapisy('Nad rzeczką ','opodal krzaczka'))\\n\\nprint(sklejnapisy(napis1='Nad rzeczką ',napis2='opodal krzaczka'))\\n\\n# z podaniem tej wartości \\n\\nprint(sklejnapisy('Nad rzeczką ','opodal krzaczka','!!!'))\\n\\nprint(sklejnapisy(napis1='Nad rzeczką ',napis2='opodal krzaczka',napis3='!!!'))\", 'sklejnapisy': <function sklejnapisy at 0x7f20bb24bf28>, '_i2': \"# jesli nie podamy patametru, ktory nie ma wartosci domyslnej ?\\nprint(sklejnapisy(napis1='Nad rzeczką ',napis3='!!!')) # TypeError: sklejnapisy() missing 1 required positional argument: 'napis2'\", '_i3': '# metadane funkcji\\n\\nprint (sklejnapisy.__name__)           #  nazwa funkcji\\nprint (sklejnapisy.__doc__ )           #  dokumentacja (docstring)\\nprint (sklejnapisy.__dict__ )\\nprint (sklejnapisy)\\nid(sklejnapisy)', '_3': 139778555428648, '_i4': '# metadane funkcji\\n\\n# https://docs.python.org/3/reference/datamodel.html\\n\\nprint (sklejnapisy.__name__)           #  nazwa funkcji\\nprint (sklejnapisy.__doc__ )           #  dokumentacja (docstring)\\nprint (sklejnapisy.__defaults__ )\\nprint (sklejnapisy)\\nid(sklejnapisy)', '_4': 139778555428648, '_i5': '# metadane funkcji\\n\\n# https://docs.python.org/3/reference/datamodel.html\\n\\nprint (sklejnapisy.__name__)           #  nazwa funkcji\\nprint (sklejnapisy.__doc__ )           #  dokumentacja (docstring)\\nprint (sklejnapisy.__defaults__ )\\n#print (sklejnapisy)\\n#id(sklejnapisy)', '_i6': '# metadane funkcji\\n\\n# https://docs.python.org/3/reference/datamodel.html\\n\\nprint (sklejnapisy.__name__)           #  nazwa funkcji\\nprint (sklejnapisy.__doc__ )           #  dokumentacja (docstring)\\nprint (sklejnapisy.__defaults__ )      # wartości domyślne \\nprint (sklejnapisy.__code__)\\n#print (sklejnapisy)\\n#id(sklejnapisy)', '_i7': ' import this', 'this': <module 'this' from '/home/nbuser/anaconda3_501/lib/python3.6/this.py'>, '_i8': 'dir()', '_8': ['In', 'Out', '_', '_3', '_4', '__', '___', '__builtin__', '__builtins__', '__doc__', '__loader__', '__name__', '__package__', '__spec__', '_dh', '_i', '_i1', '_i2', '_i3', '_i4', '_i5', '_i6', '_i7', '_i8', '_ih', '_ii', '_iii', '_oh', 'exit', 'get_ipython', 'quit', 'sklejnapisy', 'this'], '_i9': 'locals()', '_9': {...}, '_i10': 'globals()', '_10': {...}, '_i11': '# zen of Python\\nimport this', '_i12': 'if __name__ == \"__main__\":\\n     for k, v in globals().items():             #(1)\\n         print k, \"=\", v', '_i13': 'if __name__ == \"__main__\":\\n     for k, v in globals().items():             #(1)\\n         print (k, \"=\", v)', 'k': '__', 'v': {...}, '_i14': '#if __name__ == \"__main__\":\\n     for k, v in globals().items():             #(1)\\n         print (k, \"=\", v)', '_i15': '#if __name__ == \"__main__\":\\nfor k, v in globals().items():             #(1)\\n    print (k, \"=\", v)'}\n",
      "___ = ['In', 'Out', '_', '_3', '_4', '__', '___', '__builtin__', '__builtins__', '__doc__', '__loader__', '__name__', '__package__', '__spec__', '_dh', '_i', '_i1', '_i2', '_i3', '_i4', '_i5', '_i6', '_i7', '_i8', '_ih', '_ii', '_iii', '_oh', 'exit', 'get_ipython', 'quit', 'sklejnapisy', 'this']\n",
      "_i = #if __name__ == \"__main__\":\n",
      "     for k, v in globals().items():             #(1)\n",
      "         print (k, \"=\", v)\n",
      "_ii = if __name__ == \"__main__\":\n",
      "     for k, v in globals().items():             #(1)\n",
      "         print (k, \"=\", v)\n",
      "_iii = if __name__ == \"__main__\":\n",
      "     for k, v in globals().items():             #(1)\n",
      "         print k, \"=\", v\n",
      "_i1 = # parametry funkcji mogą mieć zdefiniowaną wartość domyślną\n",
      "\n",
      "def sklejnapisy(napis1,napis2,napis3='...'):\n",
      "    '''Funkcja skleja trzy napisy podane w parametrach funkcji'''\n",
      "    napis4=napis1+napis2+napis3 # zmienna lokalna\n",
      "    return napis4\n",
      "\n",
      "# jeśli nie podamy wartości trzeciego parametru\n",
      "\n",
      "print(sklejnapisy('Nad rzeczką ','opodal krzaczka'))\n",
      "\n",
      "print(sklejnapisy(napis1='Nad rzeczką ',napis2='opodal krzaczka'))\n",
      "\n",
      "# z podaniem tej wartości \n",
      "\n",
      "print(sklejnapisy('Nad rzeczką ','opodal krzaczka','!!!'))\n",
      "\n",
      "print(sklejnapisy(napis1='Nad rzeczką ',napis2='opodal krzaczka',napis3='!!!'))\n",
      "sklejnapisy = <function sklejnapisy at 0x7f20bb24bf28>\n",
      "_i2 = # jesli nie podamy patametru, ktory nie ma wartosci domyslnej ?\n",
      "print(sklejnapisy(napis1='Nad rzeczką ',napis3='!!!')) # TypeError: sklejnapisy() missing 1 required positional argument: 'napis2'\n",
      "_i3 = # metadane funkcji\n",
      "\n",
      "print (sklejnapisy.__name__)           #  nazwa funkcji\n",
      "print (sklejnapisy.__doc__ )           #  dokumentacja (docstring)\n",
      "print (sklejnapisy.__dict__ )\n",
      "print (sklejnapisy)\n",
      "id(sklejnapisy)\n",
      "_3 = 139778555428648\n",
      "_i4 = # metadane funkcji\n",
      "\n",
      "# https://docs.python.org/3/reference/datamodel.html\n",
      "\n",
      "print (sklejnapisy.__name__)           #  nazwa funkcji\n",
      "print (sklejnapisy.__doc__ )           #  dokumentacja (docstring)\n",
      "print (sklejnapisy.__defaults__ )\n",
      "print (sklejnapisy)\n",
      "id(sklejnapisy)\n",
      "_4 = 139778555428648\n",
      "_i5 = # metadane funkcji\n",
      "\n",
      "# https://docs.python.org/3/reference/datamodel.html\n",
      "\n",
      "print (sklejnapisy.__name__)           #  nazwa funkcji\n",
      "print (sklejnapisy.__doc__ )           #  dokumentacja (docstring)\n",
      "print (sklejnapisy.__defaults__ )\n",
      "#print (sklejnapisy)\n",
      "#id(sklejnapisy)\n",
      "_i6 = # metadane funkcji\n",
      "\n",
      "# https://docs.python.org/3/reference/datamodel.html\n",
      "\n",
      "print (sklejnapisy.__name__)           #  nazwa funkcji\n",
      "print (sklejnapisy.__doc__ )           #  dokumentacja (docstring)\n",
      "print (sklejnapisy.__defaults__ )      # wartości domyślne \n",
      "print (sklejnapisy.__code__)\n",
      "#print (sklejnapisy)\n",
      "#id(sklejnapisy)\n",
      "_i7 =  import this\n",
      "this = <module 'this' from '/home/nbuser/anaconda3_501/lib/python3.6/this.py'>\n",
      "_i8 = dir()\n",
      "_8 = ['In', 'Out', '_', '_3', '_4', '__', '___', '__builtin__', '__builtins__', '__doc__', '__loader__', '__name__', '__package__', '__spec__', '_dh', '_i', '_i1', '_i2', '_i3', '_i4', '_i5', '_i6', '_i7', '_i8', '_ih', '_ii', '_iii', '_oh', 'exit', 'get_ipython', 'quit', 'sklejnapisy', 'this']\n",
      "_i9 = locals()\n",
      "_9 = {'__name__': '__main__', '__doc__': 'Automatically created module for IPython interactive environment', '__package__': None, '__loader__': None, '__spec__': None, '__builtin__': <module 'builtins' (built-in)>, '__builtins__': <module 'builtins' (built-in)>, '_ih': ['', \"# parametry funkcji mogą mieć zdefiniowaną wartość domyślną\\n\\ndef sklejnapisy(napis1,napis2,napis3='...'):\\n    '''Funkcja skleja trzy napisy podane w parametrach funkcji'''\\n    napis4=napis1+napis2+napis3 # zmienna lokalna\\n    return napis4\\n\\n# jeśli nie podamy wartości trzeciego parametru\\n\\nprint(sklejnapisy('Nad rzeczką ','opodal krzaczka'))\\n\\nprint(sklejnapisy(napis1='Nad rzeczką ',napis2='opodal krzaczka'))\\n\\n# z podaniem tej wartości \\n\\nprint(sklejnapisy('Nad rzeczką ','opodal krzaczka','!!!'))\\n\\nprint(sklejnapisy(napis1='Nad rzeczką ',napis2='opodal krzaczka',napis3='!!!'))\", \"# jesli nie podamy patametru, ktory nie ma wartosci domyslnej ?\\nprint(sklejnapisy(napis1='Nad rzeczką ',napis3='!!!')) # TypeError: sklejnapisy() missing 1 required positional argument: 'napis2'\", '# metadane funkcji\\n\\nprint (sklejnapisy.__name__)           #  nazwa funkcji\\nprint (sklejnapisy.__doc__ )           #  dokumentacja (docstring)\\nprint (sklejnapisy.__dict__ )\\nprint (sklejnapisy)\\nid(sklejnapisy)', '# metadane funkcji\\n\\n# https://docs.python.org/3/reference/datamodel.html\\n\\nprint (sklejnapisy.__name__)           #  nazwa funkcji\\nprint (sklejnapisy.__doc__ )           #  dokumentacja (docstring)\\nprint (sklejnapisy.__defaults__ )\\nprint (sklejnapisy)\\nid(sklejnapisy)', '# metadane funkcji\\n\\n# https://docs.python.org/3/reference/datamodel.html\\n\\nprint (sklejnapisy.__name__)           #  nazwa funkcji\\nprint (sklejnapisy.__doc__ )           #  dokumentacja (docstring)\\nprint (sklejnapisy.__defaults__ )\\n#print (sklejnapisy)\\n#id(sklejnapisy)', '# metadane funkcji\\n\\n# https://docs.python.org/3/reference/datamodel.html\\n\\nprint (sklejnapisy.__name__)           #  nazwa funkcji\\nprint (sklejnapisy.__doc__ )           #  dokumentacja (docstring)\\nprint (sklejnapisy.__defaults__ )      # wartości domyślne \\nprint (sklejnapisy.__code__)\\n#print (sklejnapisy)\\n#id(sklejnapisy)', 'import this', 'dir()', 'locals()', 'globals()', '# zen of Python\\nimport this', 'if __name__ == \"__main__\":\\n     for k, v in globals().items():             #(1)\\n         print k, \"=\", v', 'if __name__ == \"__main__\":\\n     for k, v in globals().items():             #(1)\\n         print (k, \"=\", v)', '#if __name__ == \"__main__\":\\n     for k, v in globals().items():             #(1)\\n         print (k, \"=\", v)', '#if __name__ == \"__main__\":\\nfor k, v in globals().items():             #(1)\\n    print (k, \"=\", v)'], '_oh': {3: 139778555428648, 4: 139778555428648, 8: ['In', 'Out', '_', '_3', '_4', '__', '___', '__builtin__', '__builtins__', '__doc__', '__loader__', '__name__', '__package__', '__spec__', '_dh', '_i', '_i1', '_i2', '_i3', '_i4', '_i5', '_i6', '_i7', '_i8', '_ih', '_ii', '_iii', '_oh', 'exit', 'get_ipython', 'quit', 'sklejnapisy', 'this'], 9: {...}, 10: {...}}, '_dh': ['/home/nbuser/library'], 'In': ['', \"# parametry funkcji mogą mieć zdefiniowaną wartość domyślną\\n\\ndef sklejnapisy(napis1,napis2,napis3='...'):\\n    '''Funkcja skleja trzy napisy podane w parametrach funkcji'''\\n    napis4=napis1+napis2+napis3 # zmienna lokalna\\n    return napis4\\n\\n# jeśli nie podamy wartości trzeciego parametru\\n\\nprint(sklejnapisy('Nad rzeczką ','opodal krzaczka'))\\n\\nprint(sklejnapisy(napis1='Nad rzeczką ',napis2='opodal krzaczka'))\\n\\n# z podaniem tej wartości \\n\\nprint(sklejnapisy('Nad rzeczką ','opodal krzaczka','!!!'))\\n\\nprint(sklejnapisy(napis1='Nad rzeczką ',napis2='opodal krzaczka',napis3='!!!'))\", \"# jesli nie podamy patametru, ktory nie ma wartosci domyslnej ?\\nprint(sklejnapisy(napis1='Nad rzeczką ',napis3='!!!')) # TypeError: sklejnapisy() missing 1 required positional argument: 'napis2'\", '# metadane funkcji\\n\\nprint (sklejnapisy.__name__)           #  nazwa funkcji\\nprint (sklejnapisy.__doc__ )           #  dokumentacja (docstring)\\nprint (sklejnapisy.__dict__ )\\nprint (sklejnapisy)\\nid(sklejnapisy)', '# metadane funkcji\\n\\n# https://docs.python.org/3/reference/datamodel.html\\n\\nprint (sklejnapisy.__name__)           #  nazwa funkcji\\nprint (sklejnapisy.__doc__ )           #  dokumentacja (docstring)\\nprint (sklejnapisy.__defaults__ )\\nprint (sklejnapisy)\\nid(sklejnapisy)', '# metadane funkcji\\n\\n# https://docs.python.org/3/reference/datamodel.html\\n\\nprint (sklejnapisy.__name__)           #  nazwa funkcji\\nprint (sklejnapisy.__doc__ )           #  dokumentacja (docstring)\\nprint (sklejnapisy.__defaults__ )\\n#print (sklejnapisy)\\n#id(sklejnapisy)', '# metadane funkcji\\n\\n# https://docs.python.org/3/reference/datamodel.html\\n\\nprint (sklejnapisy.__name__)           #  nazwa funkcji\\nprint (sklejnapisy.__doc__ )           #  dokumentacja (docstring)\\nprint (sklejnapisy.__defaults__ )      # wartości domyślne \\nprint (sklejnapisy.__code__)\\n#print (sklejnapisy)\\n#id(sklejnapisy)', 'import this', 'dir()', 'locals()', 'globals()', '# zen of Python\\nimport this', 'if __name__ == \"__main__\":\\n     for k, v in globals().items():             #(1)\\n         print k, \"=\", v', 'if __name__ == \"__main__\":\\n     for k, v in globals().items():             #(1)\\n         print (k, \"=\", v)', '#if __name__ == \"__main__\":\\n     for k, v in globals().items():             #(1)\\n         print (k, \"=\", v)', '#if __name__ == \"__main__\":\\nfor k, v in globals().items():             #(1)\\n    print (k, \"=\", v)'], 'Out': {3: 139778555428648, 4: 139778555428648, 8: ['In', 'Out', '_', '_3', '_4', '__', '___', '__builtin__', '__builtins__', '__doc__', '__loader__', '__name__', '__package__', '__spec__', '_dh', '_i', '_i1', '_i2', '_i3', '_i4', '_i5', '_i6', '_i7', '_i8', '_ih', '_ii', '_iii', '_oh', 'exit', 'get_ipython', 'quit', 'sklejnapisy', 'this'], 9: {...}, 10: {...}}, 'get_ipython': <bound method InteractiveShell.get_ipython of <ipykernel.zmqshell.ZMQInteractiveShell object at 0x7f20bb3a10f0>>, 'exit': <IPython.core.autocall.ZMQExitAutocall object at 0x7f20bb36c940>, 'quit': <IPython.core.autocall.ZMQExitAutocall object at 0x7f20bb36c940>, '_': {...}, '__': {...}, '___': ['In', 'Out', '_', '_3', '_4', '__', '___', '__builtin__', '__builtins__', '__doc__', '__loader__', '__name__', '__package__', '__spec__', '_dh', '_i', '_i1', '_i2', '_i3', '_i4', '_i5', '_i6', '_i7', '_i8', '_ih', '_ii', '_iii', '_oh', 'exit', 'get_ipython', 'quit', 'sklejnapisy', 'this'], '_i': '#if __name__ == \"__main__\":\\n     for k, v in globals().items():             #(1)\\n         print (k, \"=\", v)', '_ii': 'if __name__ == \"__main__\":\\n     for k, v in globals().items():             #(1)\\n         print (k, \"=\", v)', '_iii': 'if __name__ == \"__main__\":\\n     for k, v in globals().items():             #(1)\\n         print k, \"=\", v', '_i1': \"# parametry funkcji mogą mieć zdefiniowaną wartość domyślną\\n\\ndef sklejnapisy(napis1,napis2,napis3='...'):\\n    '''Funkcja skleja trzy napisy podane w parametrach funkcji'''\\n    napis4=napis1+napis2+napis3 # zmienna lokalna\\n    return napis4\\n\\n# jeśli nie podamy wartości trzeciego parametru\\n\\nprint(sklejnapisy('Nad rzeczką ','opodal krzaczka'))\\n\\nprint(sklejnapisy(napis1='Nad rzeczką ',napis2='opodal krzaczka'))\\n\\n# z podaniem tej wartości \\n\\nprint(sklejnapisy('Nad rzeczką ','opodal krzaczka','!!!'))\\n\\nprint(sklejnapisy(napis1='Nad rzeczką ',napis2='opodal krzaczka',napis3='!!!'))\", 'sklejnapisy': <function sklejnapisy at 0x7f20bb24bf28>, '_i2': \"# jesli nie podamy patametru, ktory nie ma wartosci domyslnej ?\\nprint(sklejnapisy(napis1='Nad rzeczką ',napis3='!!!')) # TypeError: sklejnapisy() missing 1 required positional argument: 'napis2'\", '_i3': '# metadane funkcji\\n\\nprint (sklejnapisy.__name__)           #  nazwa funkcji\\nprint (sklejnapisy.__doc__ )           #  dokumentacja (docstring)\\nprint (sklejnapisy.__dict__ )\\nprint (sklejnapisy)\\nid(sklejnapisy)', '_3': 139778555428648, '_i4': '# metadane funkcji\\n\\n# https://docs.python.org/3/reference/datamodel.html\\n\\nprint (sklejnapisy.__name__)           #  nazwa funkcji\\nprint (sklejnapisy.__doc__ )           #  dokumentacja (docstring)\\nprint (sklejnapisy.__defaults__ )\\nprint (sklejnapisy)\\nid(sklejnapisy)', '_4': 139778555428648, '_i5': '# metadane funkcji\\n\\n# https://docs.python.org/3/reference/datamodel.html\\n\\nprint (sklejnapisy.__name__)           #  nazwa funkcji\\nprint (sklejnapisy.__doc__ )           #  dokumentacja (docstring)\\nprint (sklejnapisy.__defaults__ )\\n#print (sklejnapisy)\\n#id(sklejnapisy)', '_i6': '# metadane funkcji\\n\\n# https://docs.python.org/3/reference/datamodel.html\\n\\nprint (sklejnapisy.__name__)           #  nazwa funkcji\\nprint (sklejnapisy.__doc__ )           #  dokumentacja (docstring)\\nprint (sklejnapisy.__defaults__ )      # wartości domyślne \\nprint (sklejnapisy.__code__)\\n#print (sklejnapisy)\\n#id(sklejnapisy)', '_i7': ' import this', 'this': <module 'this' from '/home/nbuser/anaconda3_501/lib/python3.6/this.py'>, '_i8': 'dir()', '_8': ['In', 'Out', '_', '_3', '_4', '__', '___', '__builtin__', '__builtins__', '__doc__', '__loader__', '__name__', '__package__', '__spec__', '_dh', '_i', '_i1', '_i2', '_i3', '_i4', '_i5', '_i6', '_i7', '_i8', '_ih', '_ii', '_iii', '_oh', 'exit', 'get_ipython', 'quit', 'sklejnapisy', 'this'], '_i9': 'locals()', '_9': {...}, '_i10': 'globals()', '_10': {...}, '_i11': '# zen of Python\\nimport this', '_i12': 'if __name__ == \"__main__\":\\n     for k, v in globals().items():             #(1)\\n         print k, \"=\", v', '_i13': 'if __name__ == \"__main__\":\\n     for k, v in globals().items():             #(1)\\n         print (k, \"=\", v)', 'k': '_9', 'v': {...}, '_i14': '#if __name__ == \"__main__\":\\n     for k, v in globals().items():             #(1)\\n         print (k, \"=\", v)', '_i15': '#if __name__ == \"__main__\":\\nfor k, v in globals().items():             #(1)\\n    print (k, \"=\", v)'}\n",
      "_i10 = globals()\n",
      "_10 = {'__name__': '__main__', '__doc__': 'Automatically created module for IPython interactive environment', '__package__': None, '__loader__': None, '__spec__': None, '__builtin__': <module 'builtins' (built-in)>, '__builtins__': <module 'builtins' (built-in)>, '_ih': ['', \"# parametry funkcji mogą mieć zdefiniowaną wartość domyślną\\n\\ndef sklejnapisy(napis1,napis2,napis3='...'):\\n    '''Funkcja skleja trzy napisy podane w parametrach funkcji'''\\n    napis4=napis1+napis2+napis3 # zmienna lokalna\\n    return napis4\\n\\n# jeśli nie podamy wartości trzeciego parametru\\n\\nprint(sklejnapisy('Nad rzeczką ','opodal krzaczka'))\\n\\nprint(sklejnapisy(napis1='Nad rzeczką ',napis2='opodal krzaczka'))\\n\\n# z podaniem tej wartości \\n\\nprint(sklejnapisy('Nad rzeczką ','opodal krzaczka','!!!'))\\n\\nprint(sklejnapisy(napis1='Nad rzeczką ',napis2='opodal krzaczka',napis3='!!!'))\", \"# jesli nie podamy patametru, ktory nie ma wartosci domyslnej ?\\nprint(sklejnapisy(napis1='Nad rzeczką ',napis3='!!!')) # TypeError: sklejnapisy() missing 1 required positional argument: 'napis2'\", '# metadane funkcji\\n\\nprint (sklejnapisy.__name__)           #  nazwa funkcji\\nprint (sklejnapisy.__doc__ )           #  dokumentacja (docstring)\\nprint (sklejnapisy.__dict__ )\\nprint (sklejnapisy)\\nid(sklejnapisy)', '# metadane funkcji\\n\\n# https://docs.python.org/3/reference/datamodel.html\\n\\nprint (sklejnapisy.__name__)           #  nazwa funkcji\\nprint (sklejnapisy.__doc__ )           #  dokumentacja (docstring)\\nprint (sklejnapisy.__defaults__ )\\nprint (sklejnapisy)\\nid(sklejnapisy)', '# metadane funkcji\\n\\n# https://docs.python.org/3/reference/datamodel.html\\n\\nprint (sklejnapisy.__name__)           #  nazwa funkcji\\nprint (sklejnapisy.__doc__ )           #  dokumentacja (docstring)\\nprint (sklejnapisy.__defaults__ )\\n#print (sklejnapisy)\\n#id(sklejnapisy)', '# metadane funkcji\\n\\n# https://docs.python.org/3/reference/datamodel.html\\n\\nprint (sklejnapisy.__name__)           #  nazwa funkcji\\nprint (sklejnapisy.__doc__ )           #  dokumentacja (docstring)\\nprint (sklejnapisy.__defaults__ )      # wartości domyślne \\nprint (sklejnapisy.__code__)\\n#print (sklejnapisy)\\n#id(sklejnapisy)', 'import this', 'dir()', 'locals()', 'globals()', '# zen of Python\\nimport this', 'if __name__ == \"__main__\":\\n     for k, v in globals().items():             #(1)\\n         print k, \"=\", v', 'if __name__ == \"__main__\":\\n     for k, v in globals().items():             #(1)\\n         print (k, \"=\", v)', '#if __name__ == \"__main__\":\\n     for k, v in globals().items():             #(1)\\n         print (k, \"=\", v)', '#if __name__ == \"__main__\":\\nfor k, v in globals().items():             #(1)\\n    print (k, \"=\", v)'], '_oh': {3: 139778555428648, 4: 139778555428648, 8: ['In', 'Out', '_', '_3', '_4', '__', '___', '__builtin__', '__builtins__', '__doc__', '__loader__', '__name__', '__package__', '__spec__', '_dh', '_i', '_i1', '_i2', '_i3', '_i4', '_i5', '_i6', '_i7', '_i8', '_ih', '_ii', '_iii', '_oh', 'exit', 'get_ipython', 'quit', 'sklejnapisy', 'this'], 9: {...}, 10: {...}}, '_dh': ['/home/nbuser/library'], 'In': ['', \"# parametry funkcji mogą mieć zdefiniowaną wartość domyślną\\n\\ndef sklejnapisy(napis1,napis2,napis3='...'):\\n    '''Funkcja skleja trzy napisy podane w parametrach funkcji'''\\n    napis4=napis1+napis2+napis3 # zmienna lokalna\\n    return napis4\\n\\n# jeśli nie podamy wartości trzeciego parametru\\n\\nprint(sklejnapisy('Nad rzeczką ','opodal krzaczka'))\\n\\nprint(sklejnapisy(napis1='Nad rzeczką ',napis2='opodal krzaczka'))\\n\\n# z podaniem tej wartości \\n\\nprint(sklejnapisy('Nad rzeczką ','opodal krzaczka','!!!'))\\n\\nprint(sklejnapisy(napis1='Nad rzeczką ',napis2='opodal krzaczka',napis3='!!!'))\", \"# jesli nie podamy patametru, ktory nie ma wartosci domyslnej ?\\nprint(sklejnapisy(napis1='Nad rzeczką ',napis3='!!!')) # TypeError: sklejnapisy() missing 1 required positional argument: 'napis2'\", '# metadane funkcji\\n\\nprint (sklejnapisy.__name__)           #  nazwa funkcji\\nprint (sklejnapisy.__doc__ )           #  dokumentacja (docstring)\\nprint (sklejnapisy.__dict__ )\\nprint (sklejnapisy)\\nid(sklejnapisy)', '# metadane funkcji\\n\\n# https://docs.python.org/3/reference/datamodel.html\\n\\nprint (sklejnapisy.__name__)           #  nazwa funkcji\\nprint (sklejnapisy.__doc__ )           #  dokumentacja (docstring)\\nprint (sklejnapisy.__defaults__ )\\nprint (sklejnapisy)\\nid(sklejnapisy)', '# metadane funkcji\\n\\n# https://docs.python.org/3/reference/datamodel.html\\n\\nprint (sklejnapisy.__name__)           #  nazwa funkcji\\nprint (sklejnapisy.__doc__ )           #  dokumentacja (docstring)\\nprint (sklejnapisy.__defaults__ )\\n#print (sklejnapisy)\\n#id(sklejnapisy)', '# metadane funkcji\\n\\n# https://docs.python.org/3/reference/datamodel.html\\n\\nprint (sklejnapisy.__name__)           #  nazwa funkcji\\nprint (sklejnapisy.__doc__ )           #  dokumentacja (docstring)\\nprint (sklejnapisy.__defaults__ )      # wartości domyślne \\nprint (sklejnapisy.__code__)\\n#print (sklejnapisy)\\n#id(sklejnapisy)', 'import this', 'dir()', 'locals()', 'globals()', '# zen of Python\\nimport this', 'if __name__ == \"__main__\":\\n     for k, v in globals().items():             #(1)\\n         print k, \"=\", v', 'if __name__ == \"__main__\":\\n     for k, v in globals().items():             #(1)\\n         print (k, \"=\", v)', '#if __name__ == \"__main__\":\\n     for k, v in globals().items():             #(1)\\n         print (k, \"=\", v)', '#if __name__ == \"__main__\":\\nfor k, v in globals().items():             #(1)\\n    print (k, \"=\", v)'], 'Out': {3: 139778555428648, 4: 139778555428648, 8: ['In', 'Out', '_', '_3', '_4', '__', '___', '__builtin__', '__builtins__', '__doc__', '__loader__', '__name__', '__package__', '__spec__', '_dh', '_i', '_i1', '_i2', '_i3', '_i4', '_i5', '_i6', '_i7', '_i8', '_ih', '_ii', '_iii', '_oh', 'exit', 'get_ipython', 'quit', 'sklejnapisy', 'this'], 9: {...}, 10: {...}}, 'get_ipython': <bound method InteractiveShell.get_ipython of <ipykernel.zmqshell.ZMQInteractiveShell object at 0x7f20bb3a10f0>>, 'exit': <IPython.core.autocall.ZMQExitAutocall object at 0x7f20bb36c940>, 'quit': <IPython.core.autocall.ZMQExitAutocall object at 0x7f20bb36c940>, '_': {...}, '__': {...}, '___': ['In', 'Out', '_', '_3', '_4', '__', '___', '__builtin__', '__builtins__', '__doc__', '__loader__', '__name__', '__package__', '__spec__', '_dh', '_i', '_i1', '_i2', '_i3', '_i4', '_i5', '_i6', '_i7', '_i8', '_ih', '_ii', '_iii', '_oh', 'exit', 'get_ipython', 'quit', 'sklejnapisy', 'this'], '_i': '#if __name__ == \"__main__\":\\n     for k, v in globals().items():             #(1)\\n         print (k, \"=\", v)', '_ii': 'if __name__ == \"__main__\":\\n     for k, v in globals().items():             #(1)\\n         print (k, \"=\", v)', '_iii': 'if __name__ == \"__main__\":\\n     for k, v in globals().items():             #(1)\\n         print k, \"=\", v', '_i1': \"# parametry funkcji mogą mieć zdefiniowaną wartość domyślną\\n\\ndef sklejnapisy(napis1,napis2,napis3='...'):\\n    '''Funkcja skleja trzy napisy podane w parametrach funkcji'''\\n    napis4=napis1+napis2+napis3 # zmienna lokalna\\n    return napis4\\n\\n# jeśli nie podamy wartości trzeciego parametru\\n\\nprint(sklejnapisy('Nad rzeczką ','opodal krzaczka'))\\n\\nprint(sklejnapisy(napis1='Nad rzeczką ',napis2='opodal krzaczka'))\\n\\n# z podaniem tej wartości \\n\\nprint(sklejnapisy('Nad rzeczką ','opodal krzaczka','!!!'))\\n\\nprint(sklejnapisy(napis1='Nad rzeczką ',napis2='opodal krzaczka',napis3='!!!'))\", 'sklejnapisy': <function sklejnapisy at 0x7f20bb24bf28>, '_i2': \"# jesli nie podamy patametru, ktory nie ma wartosci domyslnej ?\\nprint(sklejnapisy(napis1='Nad rzeczką ',napis3='!!!')) # TypeError: sklejnapisy() missing 1 required positional argument: 'napis2'\", '_i3': '# metadane funkcji\\n\\nprint (sklejnapisy.__name__)           #  nazwa funkcji\\nprint (sklejnapisy.__doc__ )           #  dokumentacja (docstring)\\nprint (sklejnapisy.__dict__ )\\nprint (sklejnapisy)\\nid(sklejnapisy)', '_3': 139778555428648, '_i4': '# metadane funkcji\\n\\n# https://docs.python.org/3/reference/datamodel.html\\n\\nprint (sklejnapisy.__name__)           #  nazwa funkcji\\nprint (sklejnapisy.__doc__ )           #  dokumentacja (docstring)\\nprint (sklejnapisy.__defaults__ )\\nprint (sklejnapisy)\\nid(sklejnapisy)', '_4': 139778555428648, '_i5': '# metadane funkcji\\n\\n# https://docs.python.org/3/reference/datamodel.html\\n\\nprint (sklejnapisy.__name__)           #  nazwa funkcji\\nprint (sklejnapisy.__doc__ )           #  dokumentacja (docstring)\\nprint (sklejnapisy.__defaults__ )\\n#print (sklejnapisy)\\n#id(sklejnapisy)', '_i6': '# metadane funkcji\\n\\n# https://docs.python.org/3/reference/datamodel.html\\n\\nprint (sklejnapisy.__name__)           #  nazwa funkcji\\nprint (sklejnapisy.__doc__ )           #  dokumentacja (docstring)\\nprint (sklejnapisy.__defaults__ )      # wartości domyślne \\nprint (sklejnapisy.__code__)\\n#print (sklejnapisy)\\n#id(sklejnapisy)', '_i7': ' import this', 'this': <module 'this' from '/home/nbuser/anaconda3_501/lib/python3.6/this.py'>, '_i8': 'dir()', '_8': ['In', 'Out', '_', '_3', '_4', '__', '___', '__builtin__', '__builtins__', '__doc__', '__loader__', '__name__', '__package__', '__spec__', '_dh', '_i', '_i1', '_i2', '_i3', '_i4', '_i5', '_i6', '_i7', '_i8', '_ih', '_ii', '_iii', '_oh', 'exit', 'get_ipython', 'quit', 'sklejnapisy', 'this'], '_i9': 'locals()', '_9': {...}, '_i10': 'globals()', '_10': {...}, '_i11': '# zen of Python\\nimport this', '_i12': 'if __name__ == \"__main__\":\\n     for k, v in globals().items():             #(1)\\n         print k, \"=\", v', '_i13': 'if __name__ == \"__main__\":\\n     for k, v in globals().items():             #(1)\\n         print (k, \"=\", v)', 'k': '_10', 'v': {...}, '_i14': '#if __name__ == \"__main__\":\\n     for k, v in globals().items():             #(1)\\n         print (k, \"=\", v)', '_i15': '#if __name__ == \"__main__\":\\nfor k, v in globals().items():             #(1)\\n    print (k, \"=\", v)'}\n",
      "_i11 = # zen of Python\n",
      "import this\n",
      "_i12 = if __name__ == \"__main__\":\n",
      "     for k, v in globals().items():             #(1)\n",
      "         print k, \"=\", v\n",
      "_i13 = if __name__ == \"__main__\":\n",
      "     for k, v in globals().items():             #(1)\n",
      "         print (k, \"=\", v)\n",
      "k = _i13\n",
      "v = _i13\n",
      "_i14 = #if __name__ == \"__main__\":\n",
      "     for k, v in globals().items():             #(1)\n",
      "         print (k, \"=\", v)\n",
      "_i15 = #if __name__ == \"__main__\":\n",
      "for k, v in globals().items():             #(1)\n",
      "    print (k, \"=\", v)\n"
     ]
    }
   ],
   "source": [
    "#if __name__ == \"__main__\":\n",
    "for k, v in globals().items():             #(1)\n",
    "    print (k, \"=\", v)"
   ]
  },
  {
   "cell_type": "code",
   "execution_count": 25,
   "metadata": {},
   "outputs": [
    {
     "name": "stdout",
     "output_type": "stream",
     "text": [
      "Locals() :  {'x': 1, 'arg': 7}\n",
      "Locals() :  {'x': 1, 'arg': 'local1'}\n"
     ]
    }
   ],
   "source": [
    "#http://www.diveintopython.net/html_processing/locals_and_globals.html\n",
    "\n",
    "def loc(arg):\n",
    "    x = 1\n",
    "    print ('Locals() : ',locals())\n",
    "\n",
    "loc(7)  \n",
    "loc('local1') \n",
    "\n",
    "\n"
   ]
  },
  {
   "cell_type": "code",
   "execution_count": 43,
   "metadata": {},
   "outputs": [
    {
     "name": "stdout",
     "output_type": "stream",
     "text": [
      "z= 7\n",
      "{'x': 1, 'arg': 3}\n",
      "x= 1\n",
      "z= 8\n"
     ]
    }
   ],
   "source": [
    " #http://www.diveintopython.net/html_processing/locals_and_globals.html\n",
    "    \n",
    "def foo(arg):\n",
    "     x = 1\n",
    "     print (locals() )   #(1)\n",
    "     locals()[\"x\"] = 2 #(2)\n",
    "     print (\"x=\",x)      #(3)\n",
    "\n",
    "        \n",
    "z = 7\n",
    "print (\"z=\",z)\n",
    "foo(3)\n",
    "globals()[\"z\"] = 8    #(4)\n",
    "print (\"z=\",z)          #(5)"
   ]
  },
  {
   "cell_type": "code",
   "execution_count": 44,
   "metadata": {},
   "outputs": [
    {
     "name": "stdout",
     "output_type": "stream",
     "text": [
      "HOSTNAME=nbserver\n",
      "SHELL=/bin/bash\n",
      "TERM=xterm-color\n",
      "MSI_ENDPOINT=http://localhost:25198/nb/api/nbsvc/oauth2/token\n",
      "http_proxy=http://webproxy:3128\n",
      "USER=nbuser\n",
      "LD_LIBRARY_PATH=/usr/lib64/MRO-3.3.0/R-3.3.0/lib/R/lib:\n",
      "SUDO_USER=root\n",
      "SUDO_UID=0\n",
      "JPY_PARENT_PID=35\n",
      "USERNAME=nbuser\n",
      "MAIL=/var/mail/nbuser\n",
      "PATH=/home/nbuser/anaconda3_501/bin:/usr/local/bin:/usr/local/sbin:/usr/local/bin:/usr/sbin:/usr/bin:/sbin:/bin:/snap/bin\n",
      "PWD=/home/nbuser/library\n",
      "R_LIBS=/home/nbuser/R:/usr/local/lib/R/site-library:/usr/lib/R/site-library:/usr/lib/R/library\n",
      "LANG=en_US.UTF-8\n",
      "https_proxy=http://webproxy:3128\n",
      "SUDO_COMMAND=/bin/bash /.start.sh 25198 https://notebooks.azure.com nb 0010_ansprod5978nb 2736fe99ee5b4c2b97e4242ee18275c6fb5d735e2291496484872e7116116b79 e1160796-a49f-4f9c-8942-2b02900b024a ansprod5978nb VM\n",
      "SHLVL=2\n",
      "HOME=/home/nbuser\n",
      "AZURE_NOTEBOOKS_VMVERSION=fc1961587\n",
      "no_proxy=localhost\n",
      "PYTHONPATH=/home/nbuser/library\n",
      "LOGNAME=nbuser\n",
      "SUDO_GID=0\n",
      "AZURE_NOTEBOOKS_HOST=https://notebooks.azure.com\n",
      "_=/home/nbuser/anaconda3_501/bin/python\n",
      "CLICOLOR=1\n",
      "PAGER=cat\n",
      "GIT_PAGER=cat\n",
      "MPLBACKEND=module://ipykernel.pylab.backend_inline\n"
     ]
    }
   ],
   "source": [
    "import os\n",
    "for k, v in os.environ.items():      #(1) (2)\n",
    "    print (\"%s=%s\" % (k, v))"
   ]
  },
  {
   "cell_type": "code",
   "execution_count": null,
   "metadata": {},
   "outputs": [],
   "source": []
  },
  {
   "cell_type": "code",
   "execution_count": null,
   "metadata": {},
   "outputs": [],
   "source": []
  },
  {
   "cell_type": "code",
   "execution_count": null,
   "metadata": {},
   "outputs": [],
   "source": []
  },
  {
   "cell_type": "code",
   "execution_count": null,
   "metadata": {},
   "outputs": [],
   "source": []
  },
  {
   "cell_type": "code",
   "execution_count": 1,
   "metadata": {},
   "outputs": [
    {
     "ename": "NameError",
     "evalue": "name 'x' is not defined",
     "output_type": "error",
     "traceback": [
      "\u001b[0;31m---------------------------------------------------------------------------\u001b[0m",
      "\u001b[0;31mNameError\u001b[0m                                 Traceback (most recent call last)",
      "\u001b[0;32m<ipython-input-1-bfd43e5d6333>\u001b[0m in \u001b[0;36m<module>\u001b[0;34m()\u001b[0m\n\u001b[1;32m      2\u001b[0m     \u001b[0mx\u001b[0m \u001b[0;34m=\u001b[0m \u001b[0;36m1\u001b[0m\u001b[0;34m\u001b[0m\u001b[0m\n\u001b[1;32m      3\u001b[0m \u001b[0;34m\u001b[0m\u001b[0m\n\u001b[0;32m----> 4\u001b[0;31m \u001b[0mprint\u001b[0m \u001b[0;34m(\u001b[0m\u001b[0mx\u001b[0m\u001b[0;34m)\u001b[0m \u001b[0;31m#NameError: name 'x' is not defined\u001b[0m\u001b[0;34m\u001b[0m\u001b[0m\n\u001b[0m",
      "\u001b[0;31mNameError\u001b[0m: name 'x' is not defined"
     ]
    }
   ],
   "source": [
    "def func():\n",
    "    x = 1\n",
    "    \n",
    "print (x) #NameError: name 'x' is not defined"
   ]
  },
  {
   "cell_type": "code",
   "execution_count": 2,
   "metadata": {},
   "outputs": [
    {
     "ename": "NameError",
     "evalue": "name 'x' is not defined",
     "output_type": "error",
     "traceback": [
      "\u001b[0;31m---------------------------------------------------------------------------\u001b[0m",
      "\u001b[0;31mNameError\u001b[0m                                 Traceback (most recent call last)",
      "\u001b[0;32m<ipython-input-2-b5923ef23f6a>\u001b[0m in \u001b[0;36m<module>\u001b[0;34m()\u001b[0m\n\u001b[1;32m      3\u001b[0m     \u001b[0mx\u001b[0m \u001b[0;34m=\u001b[0m \u001b[0;36m1\u001b[0m\u001b[0;34m\u001b[0m\u001b[0m\n\u001b[1;32m      4\u001b[0m \u001b[0;34m\u001b[0m\u001b[0m\n\u001b[0;32m----> 5\u001b[0;31m \u001b[0mprint\u001b[0m \u001b[0;34m(\u001b[0m\u001b[0mx\u001b[0m\u001b[0;34m)\u001b[0m\u001b[0;34m\u001b[0m\u001b[0m\n\u001b[0m",
      "\u001b[0;31mNameError\u001b[0m: name 'x' is not defined"
     ]
    }
   ],
   "source": [
    "def func():\n",
    "    global x\n",
    "    x = 1\n",
    "    \n",
    "print (x) #NameError: global name 'x' is not defined"
   ]
  },
  {
   "cell_type": "code",
   "execution_count": 3,
   "metadata": {},
   "outputs": [
    {
     "name": "stdout",
     "output_type": "stream",
     "text": [
      "2\n"
     ]
    }
   ],
   "source": [
    "def func():\n",
    "    x = 1\n",
    "\n",
    "x = 2\n",
    "func()\n",
    "print (x)"
   ]
  },
  {
   "cell_type": "code",
   "execution_count": 4,
   "metadata": {},
   "outputs": [
    {
     "name": "stdout",
     "output_type": "stream",
     "text": [
      "1\n"
     ]
    }
   ],
   "source": [
    "def func():\n",
    "    global x\n",
    "    x = 1\n",
    "\n",
    "x = 2\n",
    "func()\n",
    "#print(x)"
   ]
  },
  {
   "cell_type": "code",
   "execution_count": 5,
   "metadata": {},
   "outputs": [],
   "source": [
    "# pusta definicja funkcji\n",
    "def func():\n",
    "    pass\n",
    "\n",
    "func()\n"
   ]
  },
  {
   "cell_type": "code",
   "execution_count": 6,
   "metadata": {},
   "outputs": [
    {
     "ename": "IndentationError",
     "evalue": "expected an indented block (<ipython-input-6-405b5127f7b3>, line 4)",
     "output_type": "error",
     "traceback": [
      "\u001b[0;36m  File \u001b[0;32m\"<ipython-input-6-405b5127f7b3>\"\u001b[0;36m, line \u001b[0;32m4\u001b[0m\n\u001b[0;31m    func()\u001b[0m\n\u001b[0m       ^\u001b[0m\n\u001b[0;31mIndentationError\u001b[0m\u001b[0;31m:\u001b[0m expected an indented block\n"
     ]
    }
   ],
   "source": [
    "def func():\n",
    "\n",
    "\n",
    "func()"
   ]
  },
  {
   "cell_type": "code",
   "execution_count": null,
   "metadata": {},
   "outputs": [],
   "source": []
  },
  {
   "cell_type": "code",
   "execution_count": 7,
   "metadata": {},
   "outputs": [
    {
     "name": "stdout",
     "output_type": "stream",
     "text": [
      "None\n"
     ]
    }
   ],
   "source": [
    "def func():\n",
    "    pass\n",
    "\n",
    "print(func())\n"
   ]
  },
  {
   "cell_type": "markdown",
   "metadata": {},
   "source": [
    "### Operator lambda "
   ]
  },
  {
   "cell_type": "code",
   "execution_count": 40,
   "metadata": {},
   "outputs": [
    {
     "name": "stdout",
     "output_type": "stream",
     "text": [
      "3\n"
     ]
    }
   ],
   "source": [
    "b = lambda x,y : x+y\n",
    "print(b(1,2))"
   ]
  },
  {
   "cell_type": "code",
   "execution_count": null,
   "metadata": {},
   "outputs": [],
   "source": []
  },
  {
   "cell_type": "code",
   "execution_count": null,
   "metadata": {},
   "outputs": [],
   "source": []
  }
 ],
 "metadata": {
  "kernelspec": {
   "display_name": "Python 3.6",
   "language": "python",
   "name": "python36"
  },
  "language_info": {
   "codemirror_mode": {
    "name": "ipython",
    "version": 3
   },
   "file_extension": ".py",
   "mimetype": "text/x-python",
   "name": "python",
   "nbconvert_exporter": "python",
   "pygments_lexer": "ipython3",
   "version": "3.6.3"
  }
 },
 "nbformat": 4,
 "nbformat_minor": 2
}
